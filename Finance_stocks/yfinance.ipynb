{
 "cells": [
  {
   "cell_type": "code",
   "execution_count": 2,
   "metadata": {},
   "outputs": [
    {
     "name": "stdout",
     "output_type": "stream",
     "text": [
      "                        Date  Dividends Ticker\n",
      "0  2018-02-09 00:00:00-05:00     0.1575   AAPL\n",
      "1  2018-05-11 00:00:00-04:00     0.1825   AAPL\n",
      "2  2018-08-10 00:00:00-04:00     0.1825   AAPL\n",
      "3  2018-11-08 00:00:00-05:00     0.1825   AAPL\n",
      "4  2019-02-08 00:00:00-05:00     0.1825   AAPL\n",
      "5  2019-05-10 00:00:00-04:00     0.1925   AAPL\n",
      "6  2019-08-09 00:00:00-04:00     0.1925   AAPL\n",
      "7  2019-11-07 00:00:00-05:00     0.1925   AAPL\n",
      "8  2020-02-07 00:00:00-05:00     0.1925   AAPL\n",
      "9  2020-05-08 00:00:00-04:00     0.2050   AAPL\n",
      "10 2020-08-07 00:00:00-04:00     0.2050   AAPL\n",
      "11 2020-11-06 00:00:00-05:00     0.2050   AAPL\n",
      "12 2021-02-05 00:00:00-05:00     0.2050   AAPL\n",
      "13 2021-05-07 00:00:00-04:00     0.2200   AAPL\n",
      "14 2021-08-06 00:00:00-04:00     0.2200   AAPL\n",
      "15 2021-11-05 00:00:00-04:00     0.2200   AAPL\n",
      "16 2022-02-04 00:00:00-05:00     0.2200   AAPL\n",
      "17 2022-05-06 00:00:00-04:00     0.2300   AAPL\n",
      "18 2022-08-05 00:00:00-04:00     0.2300   AAPL\n",
      "19 2022-11-04 00:00:00-04:00     0.2300   AAPL\n",
      "20 2018-02-14 00:00:00-05:00     0.4200   MSFT\n",
      "21 2018-05-16 00:00:00-04:00     0.4200   MSFT\n",
      "22 2018-08-15 00:00:00-04:00     0.4200   MSFT\n",
      "23 2018-11-14 00:00:00-05:00     0.4600   MSFT\n",
      "24 2019-02-20 00:00:00-05:00     0.4600   MSFT\n",
      "25 2019-05-15 00:00:00-04:00     0.4600   MSFT\n",
      "26 2019-08-14 00:00:00-04:00     0.4600   MSFT\n",
      "27 2019-11-20 00:00:00-05:00     0.5100   MSFT\n",
      "28 2020-02-19 00:00:00-05:00     0.5100   MSFT\n",
      "29 2020-05-20 00:00:00-04:00     0.5100   MSFT\n",
      "30 2020-08-19 00:00:00-04:00     0.5100   MSFT\n",
      "31 2020-11-18 00:00:00-05:00     0.5600   MSFT\n",
      "32 2021-02-17 00:00:00-05:00     0.5600   MSFT\n",
      "33 2021-05-19 00:00:00-04:00     0.5600   MSFT\n",
      "34 2021-08-18 00:00:00-04:00     0.5600   MSFT\n",
      "35 2021-11-17 00:00:00-05:00     0.6200   MSFT\n",
      "36 2022-02-16 00:00:00-05:00     0.6200   MSFT\n",
      "37 2022-05-18 00:00:00-04:00     0.6200   MSFT\n",
      "38 2022-08-17 00:00:00-04:00     0.6200   MSFT\n",
      "39 2022-11-16 00:00:00-05:00     0.6800   MSFT\n"
     ]
    }
   ],
   "source": [
    "import yfinance as yf\n",
    "import pandas as pd\n",
    "\n",
    "# Lista de tickers das ações que você quer analisar\n",
    "tickers = [\"AAPL\", \"MSFT\", \"GOOGL\"]  # Substitua com os tickers desejados\n",
    "\n",
    "# Data de início e fim para os dados de dividendos\n",
    "start_date = \"2018-01-01\"\n",
    "end_date = \"2023-01-01\"\n",
    "\n",
    "# DataFrame para armazenar dados de dividendos\n",
    "dividend_data = pd.DataFrame()\n",
    "\n",
    "# Itera sobre os tickers e busca os dividendos\n",
    "for ticker in tickers:\n",
    "    stock = yf.Ticker(ticker)\n",
    "    dividends = stock.dividends.loc[start_date:end_date]  # Obter dividendos no intervalo desejado\n",
    "    \n",
    "    # Adicionar uma coluna com o ticker para referência\n",
    "    dividends = dividends.reset_index()\n",
    "    dividends['Ticker'] = ticker\n",
    "    \n",
    "    # Armazena no DataFrame principal\n",
    "    dividend_data = pd.concat([dividend_data, dividends], ignore_index=True)\n",
    "\n",
    "# Exibir os dados de dividendos coletados\n",
    "print(dividend_data)\n"
   ]
  },
  {
   "cell_type": "code",
   "execution_count": 2,
   "metadata": {},
   "outputs": [
    {
     "name": "stderr",
     "output_type": "stream",
     "text": [
      "$ABC: possibly delisted; no timezone found\n"
     ]
    },
    {
     "name": "stdout",
     "output_type": "stream",
     "text": [
      "Erro ao carregar dados para ABC: ABC não possui dados de dividendos.\n",
      "Erro ao carregar dados para ADBE: ADBE não possui dados de dividendos.\n"
     ]
    },
    {
     "name": "stderr",
     "output_type": "stream",
     "text": [
      "$ADS: possibly delisted; no timezone found\n"
     ]
    },
    {
     "name": "stdout",
     "output_type": "stream",
     "text": [
      "Erro ao carregar dados para ADSK: ADSK não possui dados de dividendos.\n",
      "Erro ao carregar dados para ADS: ADS não possui dados de dividendos.\n"
     ]
    },
    {
     "name": "stderr",
     "output_type": "stream",
     "text": [
      "$AGN: possibly delisted; no timezone found\n"
     ]
    },
    {
     "name": "stdout",
     "output_type": "stream",
     "text": [
      "Erro ao carregar dados para AGN: AGN não possui dados de dividendos.\n",
      "Erro ao carregar dados para AKAM: AKAM não possui dados de dividendos.\n",
      "Erro ao carregar dados para ALGN: ALGN não possui dados de dividendos.\n"
     ]
    },
    {
     "name": "stderr",
     "output_type": "stream",
     "text": [
      "$ALXN: possibly delisted; no timezone found\n"
     ]
    },
    {
     "name": "stdout",
     "output_type": "stream",
     "text": [
      "Erro ao carregar dados para ALXN: ALXN não possui dados de dividendos.\n",
      "Erro ao carregar dados para AMD: AMD não possui dados de dividendos.\n",
      "Erro ao carregar dados para AMZN: AMZN não possui dados de dividendos.\n"
     ]
    },
    {
     "name": "stderr",
     "output_type": "stream",
     "text": [
      "$ANTM: possibly delisted; no timezone found\n"
     ]
    },
    {
     "name": "stdout",
     "output_type": "stream",
     "text": [
      "Erro ao carregar dados para ANSS: ANSS não possui dados de dividendos.\n",
      "Erro ao carregar dados para ANTM: ANTM não possui dados de dividendos.\n"
     ]
    },
    {
     "name": "stderr",
     "output_type": "stream",
     "text": [
      "$APC: possibly delisted; no timezone found\n"
     ]
    },
    {
     "name": "stdout",
     "output_type": "stream",
     "text": [
      "Erro ao carregar dados para APC: APC não possui dados de dividendos.\n"
     ]
    },
    {
     "name": "stderr",
     "output_type": "stream",
     "text": [
      "$ARNC: possibly delisted; no timezone found\n",
      "$ATVI: possibly delisted; no timezone found\n"
     ]
    },
    {
     "name": "stdout",
     "output_type": "stream",
     "text": [
      "Erro ao carregar dados para ARNC: ARNC não possui dados de dividendos.\n",
      "Erro ao carregar dados para ATVI: ATVI não possui dados de dividendos.\n",
      "Erro ao carregar dados para AZO: AZO não possui dados de dividendos.\n"
     ]
    },
    {
     "name": "stderr",
     "output_type": "stream",
     "text": [
      "$BBT: possibly delisted; no timezone found\n"
     ]
    },
    {
     "name": "stdout",
     "output_type": "stream",
     "text": [
      "Erro ao carregar dados para BBT: BBT não possui dados de dividendos.\n"
     ]
    },
    {
     "name": "stderr",
     "output_type": "stream",
     "text": [
      "$BF.B: possibly delisted; no price data found  (1d 1925-11-29 -> 2024-11-04)\n"
     ]
    },
    {
     "name": "stdout",
     "output_type": "stream",
     "text": [
      "Erro ao carregar dados para BF.B: BF.B não possui dados de dividendos.\n"
     ]
    },
    {
     "name": "stderr",
     "output_type": "stream",
     "text": [
      "$BHGE: possibly delisted; no timezone found\n"
     ]
    },
    {
     "name": "stdout",
     "output_type": "stream",
     "text": [
      "Erro ao carregar dados para BHF: BHF não possui dados de dividendos.\n",
      "Erro ao carregar dados para BHGE: BHGE não possui dados de dividendos.\n",
      "Erro ao carregar dados para BIIB: BIIB não possui dados de dividendos.\n"
     ]
    },
    {
     "name": "stderr",
     "output_type": "stream",
     "text": [
      "$BLL: possibly delisted; no timezone found\n"
     ]
    },
    {
     "name": "stdout",
     "output_type": "stream",
     "text": [
      "Erro ao carregar dados para BLL: BLL não possui dados de dividendos.\n"
     ]
    },
    {
     "name": "stderr",
     "output_type": "stream",
     "text": [
      "$BRK.B: possibly delisted; no timezone found\n"
     ]
    },
    {
     "name": "stdout",
     "output_type": "stream",
     "text": [
      "Erro ao carregar dados para BRK.B: BRK.B não possui dados de dividendos.\n",
      "Erro ao carregar dados para BSX: BSX não possui dados de dividendos.\n"
     ]
    },
    {
     "name": "stderr",
     "output_type": "stream",
     "text": [
      "$CBG: possibly delisted; no price data found  (1d 1925-11-29 -> 2024-11-04)\n"
     ]
    },
    {
     "name": "stdout",
     "output_type": "stream",
     "text": [
      "Erro ao carregar dados para CA: CA não possui dados de dividendos.\n",
      "Erro ao carregar dados para CBG: CBG não possui dados de dividendos.\n"
     ]
    },
    {
     "name": "stderr",
     "output_type": "stream",
     "text": [
      "$CBS: possibly delisted; no timezone found\n"
     ]
    },
    {
     "name": "stdout",
     "output_type": "stream",
     "text": [
      "Erro ao carregar dados para CBS: CBS não possui dados de dividendos.\n"
     ]
    },
    {
     "name": "stderr",
     "output_type": "stream",
     "text": [
      "$CELG: possibly delisted; no timezone found\n",
      "$CERN: possibly delisted; no timezone found\n"
     ]
    },
    {
     "name": "stdout",
     "output_type": "stream",
     "text": [
      "Erro ao carregar dados para CDNS: CDNS não possui dados de dividendos.\n",
      "Erro ao carregar dados para CELG: CELG não possui dados de dividendos.\n",
      "Erro ao carregar dados para CERN: CERN não possui dados de dividendos.\n",
      "Erro ao carregar dados para CHTR: CHTR não possui dados de dividendos.\n",
      "Erro ao carregar dados para CMG: CMG não possui dados de dividendos.\n",
      "Erro ao carregar dados para CNC: CNC não possui dados de dividendos.\n"
     ]
    },
    {
     "name": "stderr",
     "output_type": "stream",
     "text": [
      "$COG: possibly delisted; no timezone found\n"
     ]
    },
    {
     "name": "stdout",
     "output_type": "stream",
     "text": [
      "Erro ao carregar dados para COG: COG não possui dados de dividendos.\n",
      "Erro ao carregar dados para COL: COL não possui dados de dividendos.\n",
      "Erro ao carregar dados para CRM: CRM não possui dados de dividendos.\n"
     ]
    },
    {
     "name": "stderr",
     "output_type": "stream",
     "text": [
      "$CTL: possibly delisted; no timezone found\n"
     ]
    },
    {
     "name": "stdout",
     "output_type": "stream",
     "text": [
      "Erro ao carregar dados para CTL: CTL não possui dados de dividendos.\n"
     ]
    },
    {
     "name": "stderr",
     "output_type": "stream",
     "text": [
      "$CTXS: possibly delisted; no timezone found\n"
     ]
    },
    {
     "name": "stdout",
     "output_type": "stream",
     "text": [
      "Erro ao carregar dados para CTXS: CTXS não possui dados de dividendos.\n"
     ]
    },
    {
     "name": "stderr",
     "output_type": "stream",
     "text": [
      "$CXO: possibly delisted; no timezone found\n"
     ]
    },
    {
     "name": "stdout",
     "output_type": "stream",
     "text": [
      "Erro ao carregar dados para CXO: CXO não possui dados de dividendos.\n"
     ]
    },
    {
     "name": "stderr",
     "output_type": "stream",
     "text": [
      "$DISCA: possibly delisted; no timezone found\n",
      "$DISCK: possibly delisted; no timezone found\n",
      "$DISH: possibly delisted; no timezone found\n"
     ]
    },
    {
     "name": "stdout",
     "output_type": "stream",
     "text": [
      "Erro ao carregar dados para DISCA: DISCA não possui dados de dividendos.\n",
      "Erro ao carregar dados para DISCK: DISCK não possui dados de dividendos.\n",
      "Erro ao carregar dados para DISH: DISH não possui dados de dividendos.\n",
      "Erro ao carregar dados para DLTR: DLTR não possui dados de dividendos.\n"
     ]
    },
    {
     "name": "stderr",
     "output_type": "stream",
     "text": [
      "$DPS: possibly delisted; no price data found  (1d 1925-11-29 -> 2024-11-04)\n",
      "$DRE: possibly delisted; no timezone found\n"
     ]
    },
    {
     "name": "stdout",
     "output_type": "stream",
     "text": [
      "Erro ao carregar dados para DPS: DPS não possui dados de dividendos.\n",
      "Erro ao carregar dados para DRE: DRE não possui dados de dividendos.\n",
      "Erro ao carregar dados para DVA: DVA não possui dados de dividendos.\n"
     ]
    },
    {
     "name": "stderr",
     "output_type": "stream",
     "text": [
      "$DWDP: possibly delisted; no timezone found\n"
     ]
    },
    {
     "name": "stdout",
     "output_type": "stream",
     "text": [
      "Erro ao carregar dados para DWDP: DWDP não possui dados de dividendos.\n",
      "Erro ao carregar dados para ESRX: ESRX não possui dados de dividendos.\n"
     ]
    },
    {
     "name": "stderr",
     "output_type": "stream",
     "text": [
      "$ETFC: possibly delisted; no timezone found\n"
     ]
    },
    {
     "name": "stdout",
     "output_type": "stream",
     "text": [
      "Erro ao carregar dados para ETFC: ETFC não possui dados de dividendos.\n",
      "Erro ao carregar dados para EVHC: EVHC não possui dados de dividendos.\n",
      "Erro ao carregar dados para EW: EW não possui dados de dividendos.\n"
     ]
    },
    {
     "name": "stderr",
     "output_type": "stream",
     "text": [
      "$FBHS: possibly delisted; no timezone found\n",
      "$FB: possibly delisted; no timezone found\n"
     ]
    },
    {
     "name": "stdout",
     "output_type": "stream",
     "text": [
      "Erro ao carregar dados para FBHS: FBHS não possui dados de dividendos.\n",
      "Erro ao carregar dados para FB: FB não possui dados de dividendos.\n",
      "Erro ao carregar dados para FFIV: FFIV não possui dados de dividendos.\n",
      "Erro ao carregar dados para FISV: FISV não possui dados de dividendos.\n"
     ]
    },
    {
     "name": "stderr",
     "output_type": "stream",
     "text": [
      "$FLIR: possibly delisted; no timezone found\n"
     ]
    },
    {
     "name": "stdout",
     "output_type": "stream",
     "text": [
      "Erro ao carregar dados para FLIR: FLIR não possui dados de dividendos.\n"
     ]
    },
    {
     "name": "stderr",
     "output_type": "stream",
     "text": [
      "$GGP: possibly delisted; no price data found  (1d 1925-11-29 -> 2024-11-04)\n"
     ]
    },
    {
     "name": "stdout",
     "output_type": "stream",
     "text": [
      "Erro ao carregar dados para GGP: GGP não possui dados de dividendos.\n",
      "Erro ao carregar dados para GOOGL: GOOGL não possui dados de dividendos.\n",
      "Erro ao carregar dados para GOOG: GOOG não possui dados de dividendos.\n"
     ]
    },
    {
     "name": "stderr",
     "output_type": "stream",
     "text": [
      "$GPS: possibly delisted; no timezone found\n"
     ]
    },
    {
     "name": "stdout",
     "output_type": "stream",
     "text": [
      "Erro ao carregar dados para GPS: GPS não possui dados de dividendos.\n"
     ]
    },
    {
     "name": "stderr",
     "output_type": "stream",
     "text": [
      "$HCN: possibly delisted; no price data found  (1d 1925-11-29 -> 2024-11-04)\n"
     ]
    },
    {
     "name": "stdout",
     "output_type": "stream",
     "text": [
      "Erro ao carregar dados para HCN: HCN não possui dados de dividendos.\n",
      "Erro ao carregar dados para HCP: HCP não possui dados de dividendos.\n",
      "Erro ao carregar dados para HOLX: HOLX não possui dados de dividendos.\n"
     ]
    },
    {
     "name": "stderr",
     "output_type": "stream",
     "text": [
      "$HRS: possibly delisted; no timezone found\n"
     ]
    },
    {
     "name": "stdout",
     "output_type": "stream",
     "text": [
      "Erro ao carregar dados para HRS: HRS não possui dados de dividendos.\n",
      "Erro ao carregar dados para HSIC: HSIC não possui dados de dividendos.\n",
      "Erro ao carregar dados para IDXX: IDXX não possui dados de dividendos.\n",
      "Erro ao carregar dados para ILMN: ILMN não possui dados de dividendos.\n",
      "Erro ao carregar dados para INCY: INCY não possui dados de dividendos.\n",
      "Erro ao carregar dados para INFO: INFO não possui dados de dividendos.\n",
      "Erro ao carregar dados para IQV: IQV não possui dados de dividendos.\n",
      "Erro ao carregar dados para ISRG: ISRG não possui dados de dividendos.\n",
      "Erro ao carregar dados para IT: IT não possui dados de dividendos.\n"
     ]
    },
    {
     "name": "stderr",
     "output_type": "stream",
     "text": [
      "$JEC: possibly delisted; no timezone found\n"
     ]
    },
    {
     "name": "stdout",
     "output_type": "stream",
     "text": [
      "Erro ao carregar dados para JEC: JEC não possui dados de dividendos.\n"
     ]
    },
    {
     "name": "stderr",
     "output_type": "stream",
     "text": [
      "$KORS: possibly delisted; no price data found  (1d 1925-11-29 -> 2024-11-04)\n"
     ]
    },
    {
     "name": "stdout",
     "output_type": "stream",
     "text": [
      "Erro ao carregar dados para KMX: KMX não possui dados de dividendos.\n",
      "Erro ao carregar dados para KORS: KORS não possui dados de dividendos.\n"
     ]
    },
    {
     "name": "stderr",
     "output_type": "stream",
     "text": [
      "$KSU: possibly delisted; no timezone found\n"
     ]
    },
    {
     "name": "stdout",
     "output_type": "stream",
     "text": [
      "Erro ao carregar dados para KSU: KSU não possui dados de dividendos.\n",
      "Erro ao carregar dados para LB: LB não possui dados de dividendos.\n"
     ]
    },
    {
     "name": "stderr",
     "output_type": "stream",
     "text": [
      "$LLL: possibly delisted; no timezone found\n"
     ]
    },
    {
     "name": "stdout",
     "output_type": "stream",
     "text": [
      "Erro ao carregar dados para LLL: LLL não possui dados de dividendos.\n"
     ]
    },
    {
     "name": "stderr",
     "output_type": "stream",
     "text": [
      "$LUK: possibly delisted; no price data found  (1d 1925-11-29 -> 2024-11-04)\n"
     ]
    },
    {
     "name": "stdout",
     "output_type": "stream",
     "text": [
      "Erro ao carregar dados para LUK: LUK não possui dados de dividendos.\n",
      "Erro ao carregar dados para MAT: MAT não possui dados de dividendos.\n",
      "Erro ao carregar dados para MHK: MHK não possui dados de dividendos.\n"
     ]
    },
    {
     "name": "stderr",
     "output_type": "stream",
     "text": [
      "$MON: possibly delisted; no timezone found\n"
     ]
    },
    {
     "name": "stdout",
     "output_type": "stream",
     "text": [
      "Erro ao carregar dados para MNST: MNST não possui dados de dividendos.\n",
      "Erro ao carregar dados para MON: MON não possui dados de dividendos.\n",
      "Erro ao carregar dados para MTD: MTD não possui dados de dividendos.\n"
     ]
    },
    {
     "name": "stderr",
     "output_type": "stream",
     "text": [
      "$MYL: possibly delisted; no timezone found\n"
     ]
    },
    {
     "name": "stdout",
     "output_type": "stream",
     "text": [
      "Erro ao carregar dados para MYL: MYL não possui dados de dividendos.\n"
     ]
    },
    {
     "name": "stderr",
     "output_type": "stream",
     "text": [
      "$NBL: possibly delisted; no timezone found\n"
     ]
    },
    {
     "name": "stdout",
     "output_type": "stream",
     "text": [
      "Erro ao carregar dados para NBL: NBL não possui dados de dividendos.\n",
      "Erro ao carregar dados para NCLH: NCLH não possui dados de dividendos.\n",
      "Erro ao carregar dados para NFLX: NFLX não possui dados de dividendos.\n",
      "Erro ao carregar dados para NFX: NFX não possui dados de dividendos.\n"
     ]
    },
    {
     "name": "stderr",
     "output_type": "stream",
     "text": [
      "$NLSN: possibly delisted; no timezone found\n"
     ]
    },
    {
     "name": "stdout",
     "output_type": "stream",
     "text": [
      "Erro ao carregar dados para NLSN: NLSN não possui dados de dividendos.\n",
      "Erro ao carregar dados para ORLY: ORLY não possui dados de dividendos.\n"
     ]
    },
    {
     "name": "stderr",
     "output_type": "stream",
     "text": [
      "$PBCT: possibly delisted; no timezone found\n"
     ]
    },
    {
     "name": "stdout",
     "output_type": "stream",
     "text": [
      "Erro ao carregar dados para PBCT: PBCT não possui dados de dividendos.\n"
     ]
    },
    {
     "name": "stderr",
     "output_type": "stream",
     "text": [
      "$PCLN: possibly delisted; no price data found  (1d 1925-11-29 -> 2024-11-04)\n"
     ]
    },
    {
     "name": "stdout",
     "output_type": "stream",
     "text": [
      "Erro ao carregar dados para PCG: PCG não possui dados de dividendos.\n",
      "Erro ao carregar dados para PCLN: PCLN não possui dados de dividendos.\n"
     ]
    },
    {
     "name": "stderr",
     "output_type": "stream",
     "text": [
      "$PKI: possibly delisted; no timezone found\n"
     ]
    },
    {
     "name": "stdout",
     "output_type": "stream",
     "text": [
      "Erro ao carregar dados para PKI: PKI não possui dados de dividendos.\n"
     ]
    },
    {
     "name": "stderr",
     "output_type": "stream",
     "text": [
      "$PXD: possibly delisted; no timezone found\n"
     ]
    },
    {
     "name": "stdout",
     "output_type": "stream",
     "text": [
      "Erro ao carregar dados para PXD: PXD não possui dados de dividendos.\n",
      "Erro ao carregar dados para PYPL: PYPL não possui dados de dividendos.\n",
      "Erro ao carregar dados para QRVO: QRVO não possui dados de dividendos.\n",
      "Erro ao carregar dados para REGN: REGN não possui dados de dividendos.\n"
     ]
    },
    {
     "name": "stderr",
     "output_type": "stream",
     "text": [
      "$RE: possibly delisted; no timezone found\n"
     ]
    },
    {
     "name": "stdout",
     "output_type": "stream",
     "text": [
      "Erro ao carregar dados para RE: RE não possui dados de dividendos.\n"
     ]
    },
    {
     "name": "stderr",
     "output_type": "stream",
     "text": [
      "$RHT: possibly delisted; no timezone found\n"
     ]
    },
    {
     "name": "stdout",
     "output_type": "stream",
     "text": [
      "Erro ao carregar dados para RHT: RHT não possui dados de dividendos.\n"
     ]
    },
    {
     "name": "stderr",
     "output_type": "stream",
     "text": [
      "$RTN: possibly delisted; no timezone found\n"
     ]
    },
    {
     "name": "stdout",
     "output_type": "stream",
     "text": [
      "Erro ao carregar dados para RTN: RTN não possui dados de dividendos.\n",
      "Erro ao carregar dados para SNPS: SNPS não possui dados de dividendos.\n",
      "Erro ao carregar dados para SRCL: SRCL não possui dados de dividendos.\n",
      "Erro ao carregar dados para STI: STI não possui dados de dividendos.\n"
     ]
    },
    {
     "name": "stderr",
     "output_type": "stream",
     "text": [
      "$SYMC: possibly delisted; no timezone found\n"
     ]
    },
    {
     "name": "stdout",
     "output_type": "stream",
     "text": [
      "Erro ao carregar dados para SYMC: SYMC não possui dados de dividendos.\n"
     ]
    },
    {
     "name": "stderr",
     "output_type": "stream",
     "text": [
      "$TIF: possibly delisted; no timezone found\n"
     ]
    },
    {
     "name": "stdout",
     "output_type": "stream",
     "text": [
      "Erro ao carregar dados para TIF: TIF não possui dados de dividendos.\n"
     ]
    },
    {
     "name": "stderr",
     "output_type": "stream",
     "text": [
      "$TMK: possibly delisted; no timezone found\n"
     ]
    },
    {
     "name": "stdout",
     "output_type": "stream",
     "text": [
      "Erro ao carregar dados para TMK: TMK não possui dados de dividendos.\n"
     ]
    },
    {
     "name": "stderr",
     "output_type": "stream",
     "text": [
      "$TSS: possibly delisted; no timezone found\n"
     ]
    },
    {
     "name": "stdout",
     "output_type": "stream",
     "text": [
      "Erro ao carregar dados para TSS: TSS não possui dados de dividendos.\n",
      "Erro ao carregar dados para UAA: UAA não possui dados de dividendos.\n",
      "Erro ao carregar dados para UAL: UAL não possui dados de dividendos.\n",
      "Erro ao carregar dados para UA: UA não possui dados de dividendos.\n",
      "Erro ao carregar dados para ULTA: ULTA não possui dados de dividendos.\n",
      "Erro ao carregar dados para URI: URI não possui dados de dividendos.\n"
     ]
    },
    {
     "name": "stderr",
     "output_type": "stream",
     "text": [
      "$UTX: possibly delisted; no timezone found\n",
      "$VAR: possibly delisted; no timezone found\n"
     ]
    },
    {
     "name": "stdout",
     "output_type": "stream",
     "text": [
      "Erro ao carregar dados para UTX: UTX não possui dados de dividendos.\n",
      "Erro ao carregar dados para VAR: VAR não possui dados de dividendos.\n"
     ]
    },
    {
     "name": "stderr",
     "output_type": "stream",
     "text": [
      "$VIAB: possibly delisted; no timezone found\n"
     ]
    },
    {
     "name": "stdout",
     "output_type": "stream",
     "text": [
      "Erro ao carregar dados para VIAB: VIAB não possui dados de dividendos.\n",
      "Erro ao carregar dados para VRSN: VRSN não possui dados de dividendos.\n",
      "Erro ao carregar dados para VRTX: VRTX não possui dados de dividendos.\n",
      "Erro ao carregar dados para WAT: WAT não possui dados de dividendos.\n"
     ]
    },
    {
     "name": "stderr",
     "output_type": "stream",
     "text": [
      "$WLTW: possibly delisted; no timezone found\n"
     ]
    },
    {
     "name": "stdout",
     "output_type": "stream",
     "text": [
      "Erro ao carregar dados para WLTW: WLTW não possui dados de dividendos.\n"
     ]
    },
    {
     "name": "stderr",
     "output_type": "stream",
     "text": [
      "$WRK: possibly delisted; no timezone found\n"
     ]
    },
    {
     "name": "stdout",
     "output_type": "stream",
     "text": [
      "Erro ao carregar dados para WRK: WRK não possui dados de dividendos.\n"
     ]
    },
    {
     "name": "stderr",
     "output_type": "stream",
     "text": [
      "$WYN: possibly delisted; no price data found  (1d 1925-11-29 -> 2024-11-04)\n"
     ]
    },
    {
     "name": "stdout",
     "output_type": "stream",
     "text": [
      "Erro ao carregar dados para WYN: WYN não possui dados de dividendos.\n"
     ]
    },
    {
     "name": "stderr",
     "output_type": "stream",
     "text": [
      "$XEC: possibly delisted; no timezone found\n"
     ]
    },
    {
     "name": "stdout",
     "output_type": "stream",
     "text": [
      "Erro ao carregar dados para XEC: XEC não possui dados de dividendos.\n"
     ]
    },
    {
     "name": "stderr",
     "output_type": "stream",
     "text": [
      "$XLNX: possibly delisted; no timezone found\n",
      "$XL: possibly delisted; no timezone found\n"
     ]
    },
    {
     "name": "stdout",
     "output_type": "stream",
     "text": [
      "Erro ao carregar dados para XLNX: XLNX não possui dados de dividendos.\n",
      "Erro ao carregar dados para XL: XL não possui dados de dividendos.\n",
      "Tickers removidos: ['ABC', 'ADBE', 'ADSK', 'ADS', 'AGN', 'AKAM', 'ALGN', 'ALXN', 'AMD', 'AMZN', 'ANSS', 'ANTM', 'APC', 'ARNC', 'ATVI', 'AZO', 'BBT', 'BF.B', 'BHF', 'BHGE', 'BIIB', 'BLL', 'BRK.B', 'BSX', 'CA', 'CBG', 'CBS', 'CDNS', 'CELG', 'CERN', 'CHTR', 'CMG', 'CNC', 'COG', 'COL', 'CRM', 'CTL', 'CTXS', 'CXO', 'DISCA', 'DISCK', 'DISH', 'DLTR', 'DPS', 'DRE', 'DVA', 'DWDP', 'ESRX', 'ETFC', 'EVHC', 'EW', 'FBHS', 'FB', 'FFIV', 'FISV', 'FLIR', 'GGP', 'GOOGL', 'GOOG', 'GPS', 'HCN', 'HCP', 'HOLX', 'HRS', 'HSIC', 'IDXX', 'ILMN', 'INCY', 'INFO', 'IQV', 'ISRG', 'IT', 'JEC', 'KMX', 'KORS', 'KSU', 'LB', 'LLL', 'LUK', 'MAT', 'MHK', 'MNST', 'MON', 'MTD', 'MYL', 'NBL', 'NCLH', 'NFLX', 'NFX', 'NLSN', 'ORLY', 'PBCT', 'PCG', 'PCLN', 'PKI', 'PXD', 'PYPL', 'QRVO', 'REGN', 'RE', 'RHT', 'RTN', 'SNPS', 'SRCL', 'STI', 'SYMC', 'TIF', 'TMK', 'TSS', 'UAA', 'UAL', 'UA', 'ULTA', 'URI', 'UTX', 'VAR', 'VIAB', 'VRSN', 'VRTX', 'WAT', 'WLTW', 'WRK', 'WYN', 'XEC', 'XLNX', 'XL']\n",
      "Epoch 1/100\n"
     ]
    },
    {
     "name": "stderr",
     "output_type": "stream",
     "text": [
      "/home/guilherme/anaconda3/envs/ManchineLearning/lib/python3.9/site-packages/keras/src/layers/core/dense.py:87: UserWarning: Do not pass an `input_shape`/`input_dim` argument to a layer. When using Sequential models, prefer using an `Input(shape)` object as the first layer in the model instead.\n",
      "  super().__init__(activity_regularizer=activity_regularizer, **kwargs)\n"
     ]
    },
    {
     "name": "stdout",
     "output_type": "stream",
     "text": [
      "\u001b[1m25/25\u001b[0m \u001b[32m━━━━━━━━━━━━━━━━━━━━\u001b[0m\u001b[37m\u001b[0m \u001b[1m1s\u001b[0m 5ms/step - accuracy: 0.8939 - loss: 0.6794 - val_accuracy: 0.9836 - val_loss: 0.6071\n",
      "Epoch 2/100\n",
      "\u001b[1m25/25\u001b[0m \u001b[32m━━━━━━━━━━━━━━━━━━━━\u001b[0m\u001b[37m\u001b[0m \u001b[1m0s\u001b[0m 1ms/step - accuracy: 0.9661 - loss: 0.6000 - val_accuracy: 0.9836 - val_loss: 0.5186\n",
      "Epoch 3/100\n",
      "\u001b[1m25/25\u001b[0m \u001b[32m━━━━━━━━━━━━━━━━━━━━\u001b[0m\u001b[37m\u001b[0m \u001b[1m0s\u001b[0m 1ms/step - accuracy: 0.9823 - loss: 0.5057 - val_accuracy: 0.9836 - val_loss: 0.4160\n",
      "Epoch 4/100\n",
      "\u001b[1m25/25\u001b[0m \u001b[32m━━━━━━━━━━━━━━━━━━━━\u001b[0m\u001b[37m\u001b[0m \u001b[1m0s\u001b[0m 2ms/step - accuracy: 0.9774 - loss: 0.4050 - val_accuracy: 0.9836 - val_loss: 0.3127\n",
      "Epoch 5/100\n",
      "\u001b[1m25/25\u001b[0m \u001b[32m━━━━━━━━━━━━━━━━━━━━\u001b[0m\u001b[37m\u001b[0m \u001b[1m0s\u001b[0m 1ms/step - accuracy: 0.9780 - loss: 0.3017 - val_accuracy: 0.9836 - val_loss: 0.2263\n",
      "Epoch 6/100\n",
      "\u001b[1m25/25\u001b[0m \u001b[32m━━━━━━━━━━━━━━━━━━━━\u001b[0m\u001b[37m\u001b[0m \u001b[1m0s\u001b[0m 1ms/step - accuracy: 0.9607 - loss: 0.2479 - val_accuracy: 0.9836 - val_loss: 0.1649\n",
      "Epoch 7/100\n",
      "\u001b[1m25/25\u001b[0m \u001b[32m━━━━━━━━━━━━━━━━━━━━\u001b[0m\u001b[37m\u001b[0m \u001b[1m0s\u001b[0m 1ms/step - accuracy: 0.9817 - loss: 0.1609 - val_accuracy: 0.9836 - val_loss: 0.1269\n",
      "Epoch 8/100\n",
      "\u001b[1m25/25\u001b[0m \u001b[32m━━━━━━━━━━━━━━━━━━━━\u001b[0m\u001b[37m\u001b[0m \u001b[1m0s\u001b[0m 1ms/step - accuracy: 0.9762 - loss: 0.1400 - val_accuracy: 0.9836 - val_loss: 0.1074\n",
      "Epoch 9/100\n",
      "\u001b[1m25/25\u001b[0m \u001b[32m━━━━━━━━━━━━━━━━━━━━\u001b[0m\u001b[37m\u001b[0m \u001b[1m0s\u001b[0m 1ms/step - accuracy: 0.9772 - loss: 0.1235 - val_accuracy: 0.9836 - val_loss: 0.0970\n",
      "Epoch 10/100\n",
      "\u001b[1m25/25\u001b[0m \u001b[32m━━━━━━━━━━━━━━━━━━━━\u001b[0m\u001b[37m\u001b[0m \u001b[1m0s\u001b[0m 1ms/step - accuracy: 0.9860 - loss: 0.0897 - val_accuracy: 0.9836 - val_loss: 0.0899\n",
      "Epoch 11/100\n",
      "\u001b[1m25/25\u001b[0m \u001b[32m━━━━━━━━━━━━━━━━━━━━\u001b[0m\u001b[37m\u001b[0m \u001b[1m0s\u001b[0m 1ms/step - accuracy: 0.9823 - loss: 0.0939 - val_accuracy: 0.9836 - val_loss: 0.0858\n",
      "Epoch 12/100\n",
      "\u001b[1m25/25\u001b[0m \u001b[32m━━━━━━━━━━━━━━━━━━━━\u001b[0m\u001b[37m\u001b[0m \u001b[1m0s\u001b[0m 1ms/step - accuracy: 0.9854 - loss: 0.0808 - val_accuracy: 0.9836 - val_loss: 0.0828\n",
      "Epoch 13/100\n",
      "\u001b[1m25/25\u001b[0m \u001b[32m━━━━━━━━━━━━━━━━━━━━\u001b[0m\u001b[37m\u001b[0m \u001b[1m0s\u001b[0m 1ms/step - accuracy: 0.9768 - loss: 0.1046 - val_accuracy: 0.9836 - val_loss: 0.0805\n",
      "Epoch 14/100\n",
      "\u001b[1m25/25\u001b[0m \u001b[32m━━━━━━━━━━━━━━━━━━━━\u001b[0m\u001b[37m\u001b[0m \u001b[1m0s\u001b[0m 2ms/step - accuracy: 0.9760 - loss: 0.1053 - val_accuracy: 0.9836 - val_loss: 0.0786\n",
      "Epoch 15/100\n",
      "\u001b[1m25/25\u001b[0m \u001b[32m━━━━━━━━━━━━━━━━━━━━\u001b[0m\u001b[37m\u001b[0m \u001b[1m0s\u001b[0m 1ms/step - accuracy: 0.9674 - loss: 0.1293 - val_accuracy: 0.9836 - val_loss: 0.0767\n",
      "Epoch 16/100\n",
      "\u001b[1m25/25\u001b[0m \u001b[32m━━━━━━━━━━━━━━━━━━━━\u001b[0m\u001b[37m\u001b[0m \u001b[1m0s\u001b[0m 1ms/step - accuracy: 0.9777 - loss: 0.0961 - val_accuracy: 0.9836 - val_loss: 0.0750\n",
      "Epoch 17/100\n",
      "\u001b[1m25/25\u001b[0m \u001b[32m━━━━━━━━━━━━━━━━━━━━\u001b[0m\u001b[37m\u001b[0m \u001b[1m0s\u001b[0m 1ms/step - accuracy: 0.9782 - loss: 0.0927 - val_accuracy: 0.9836 - val_loss: 0.0738\n",
      "Epoch 18/100\n",
      "\u001b[1m25/25\u001b[0m \u001b[32m━━━━━━━━━━━━━━━━━━━━\u001b[0m\u001b[37m\u001b[0m \u001b[1m0s\u001b[0m 1ms/step - accuracy: 0.9759 - loss: 0.0998 - val_accuracy: 0.9836 - val_loss: 0.0727\n",
      "Epoch 19/100\n",
      "\u001b[1m25/25\u001b[0m \u001b[32m━━━━━━━━━━━━━━━━━━━━\u001b[0m\u001b[37m\u001b[0m \u001b[1m0s\u001b[0m 1ms/step - accuracy: 0.9780 - loss: 0.0916 - val_accuracy: 0.9836 - val_loss: 0.0712\n",
      "Epoch 20/100\n",
      "\u001b[1m25/25\u001b[0m \u001b[32m━━━━━━━━━━━━━━━━━━━━\u001b[0m\u001b[37m\u001b[0m \u001b[1m0s\u001b[0m 2ms/step - accuracy: 0.9685 - loss: 0.1171 - val_accuracy: 0.9836 - val_loss: 0.0701\n",
      "Epoch 21/100\n",
      "\u001b[1m25/25\u001b[0m \u001b[32m━━━━━━━━━━━━━━━━━━━━\u001b[0m\u001b[37m\u001b[0m \u001b[1m0s\u001b[0m 1ms/step - accuracy: 0.9938 - loss: 0.0424 - val_accuracy: 0.9836 - val_loss: 0.0686\n",
      "Epoch 22/100\n",
      "\u001b[1m25/25\u001b[0m \u001b[32m━━━━━━━━━━━━━━━━━━━━\u001b[0m\u001b[37m\u001b[0m \u001b[1m0s\u001b[0m 2ms/step - accuracy: 0.9717 - loss: 0.1058 - val_accuracy: 0.9836 - val_loss: 0.0682\n",
      "Epoch 23/100\n",
      "\u001b[1m25/25\u001b[0m \u001b[32m━━━━━━━━━━━━━━━━━━━━\u001b[0m\u001b[37m\u001b[0m \u001b[1m0s\u001b[0m 1ms/step - accuracy: 0.9857 - loss: 0.0656 - val_accuracy: 0.9836 - val_loss: 0.0668\n",
      "Epoch 24/100\n",
      "\u001b[1m25/25\u001b[0m \u001b[32m━━━━━━━━━━━━━━━━━━━━\u001b[0m\u001b[37m\u001b[0m \u001b[1m0s\u001b[0m 1ms/step - accuracy: 0.9843 - loss: 0.0671 - val_accuracy: 0.9836 - val_loss: 0.0659\n",
      "Epoch 25/100\n",
      "\u001b[1m25/25\u001b[0m \u001b[32m━━━━━━━━━━━━━━━━━━━━\u001b[0m\u001b[37m\u001b[0m \u001b[1m0s\u001b[0m 1ms/step - accuracy: 0.9770 - loss: 0.0851 - val_accuracy: 0.9836 - val_loss: 0.0649\n",
      "Epoch 26/100\n",
      "\u001b[1m25/25\u001b[0m \u001b[32m━━━━━━━━━━━━━━━━━━━━\u001b[0m\u001b[37m\u001b[0m \u001b[1m0s\u001b[0m 1ms/step - accuracy: 0.9787 - loss: 0.0808 - val_accuracy: 0.9836 - val_loss: 0.0639\n",
      "Epoch 27/100\n",
      "\u001b[1m25/25\u001b[0m \u001b[32m━━━━━━━━━━━━━━━━━━━━\u001b[0m\u001b[37m\u001b[0m \u001b[1m0s\u001b[0m 2ms/step - accuracy: 0.9905 - loss: 0.0488 - val_accuracy: 0.9836 - val_loss: 0.0628\n",
      "Epoch 28/100\n",
      "\u001b[1m25/25\u001b[0m \u001b[32m━━━━━━━━━━━━━━━━━━━━\u001b[0m\u001b[37m\u001b[0m \u001b[1m0s\u001b[0m 1ms/step - accuracy: 0.9778 - loss: 0.0808 - val_accuracy: 0.9836 - val_loss: 0.0622\n",
      "Epoch 29/100\n",
      "\u001b[1m25/25\u001b[0m \u001b[32m━━━━━━━━━━━━━━━━━━━━\u001b[0m\u001b[37m\u001b[0m \u001b[1m0s\u001b[0m 2ms/step - accuracy: 0.9796 - loss: 0.0761 - val_accuracy: 0.9836 - val_loss: 0.0614\n",
      "Epoch 30/100\n",
      "\u001b[1m25/25\u001b[0m \u001b[32m━━━━━━━━━━━━━━━━━━━━\u001b[0m\u001b[37m\u001b[0m \u001b[1m0s\u001b[0m 1ms/step - accuracy: 0.9667 - loss: 0.1029 - val_accuracy: 0.9836 - val_loss: 0.0602\n",
      "Epoch 31/100\n",
      "\u001b[1m25/25\u001b[0m \u001b[32m━━━━━━━━━━━━━━━━━━━━\u001b[0m\u001b[37m\u001b[0m \u001b[1m0s\u001b[0m 1ms/step - accuracy: 0.9758 - loss: 0.0823 - val_accuracy: 0.9836 - val_loss: 0.0593\n",
      "Epoch 32/100\n",
      "\u001b[1m25/25\u001b[0m \u001b[32m━━━━━━━━━━━━━━━━━━━━\u001b[0m\u001b[37m\u001b[0m \u001b[1m0s\u001b[0m 1ms/step - accuracy: 0.9757 - loss: 0.0795 - val_accuracy: 0.9836 - val_loss: 0.0584\n",
      "Epoch 33/100\n",
      "\u001b[1m25/25\u001b[0m \u001b[32m━━━━━━━━━━━━━━━━━━━━\u001b[0m\u001b[37m\u001b[0m \u001b[1m0s\u001b[0m 1ms/step - accuracy: 0.9681 - loss: 0.0980 - val_accuracy: 0.9836 - val_loss: 0.0576\n",
      "Epoch 34/100\n",
      "\u001b[1m25/25\u001b[0m \u001b[32m━━━━━━━━━━━━━━━━━━━━\u001b[0m\u001b[37m\u001b[0m \u001b[1m0s\u001b[0m 1ms/step - accuracy: 0.9688 - loss: 0.0962 - val_accuracy: 0.9836 - val_loss: 0.0567\n",
      "Epoch 35/100\n",
      "\u001b[1m25/25\u001b[0m \u001b[32m━━━━━━━━━━━━━━━━━━━━\u001b[0m\u001b[37m\u001b[0m \u001b[1m0s\u001b[0m 1ms/step - accuracy: 0.9731 - loss: 0.0833 - val_accuracy: 0.9836 - val_loss: 0.0558\n",
      "Epoch 36/100\n",
      "\u001b[1m25/25\u001b[0m \u001b[32m━━━━━━━━━━━━━━━━━━━━\u001b[0m\u001b[37m\u001b[0m \u001b[1m0s\u001b[0m 1ms/step - accuracy: 0.9473 - loss: 0.1421 - val_accuracy: 0.9836 - val_loss: 0.0552\n",
      "Epoch 37/100\n",
      "\u001b[1m25/25\u001b[0m \u001b[32m━━━━━━━━━━━━━━━━━━━━\u001b[0m\u001b[37m\u001b[0m \u001b[1m0s\u001b[0m 1ms/step - accuracy: 0.9790 - loss: 0.0673 - val_accuracy: 0.9836 - val_loss: 0.0542\n",
      "Epoch 38/100\n",
      "\u001b[1m25/25\u001b[0m \u001b[32m━━━━━━━━━━━━━━━━━━━━\u001b[0m\u001b[37m\u001b[0m \u001b[1m0s\u001b[0m 1ms/step - accuracy: 0.9733 - loss: 0.0825 - val_accuracy: 0.9836 - val_loss: 0.0536\n",
      "Epoch 39/100\n",
      "\u001b[1m25/25\u001b[0m \u001b[32m━━━━━━━━━━━━━━━━━━━━\u001b[0m\u001b[37m\u001b[0m \u001b[1m0s\u001b[0m 1ms/step - accuracy: 0.9755 - loss: 0.0751 - val_accuracy: 0.9836 - val_loss: 0.0528\n",
      "Epoch 40/100\n",
      "\u001b[1m25/25\u001b[0m \u001b[32m━━━━━━━━━━━━━━━━━━━━\u001b[0m\u001b[37m\u001b[0m \u001b[1m0s\u001b[0m 1ms/step - accuracy: 0.9674 - loss: 0.0903 - val_accuracy: 0.9836 - val_loss: 0.0521\n",
      "Epoch 41/100\n",
      "\u001b[1m25/25\u001b[0m \u001b[32m━━━━━━━━━━━━━━━━━━━━\u001b[0m\u001b[37m\u001b[0m \u001b[1m0s\u001b[0m 1ms/step - accuracy: 0.9866 - loss: 0.0536 - val_accuracy: 0.9836 - val_loss: 0.0513\n",
      "Epoch 42/100\n",
      "\u001b[1m25/25\u001b[0m \u001b[32m━━━━━━━━━━━━━━━━━━━━\u001b[0m\u001b[37m\u001b[0m \u001b[1m0s\u001b[0m 1ms/step - accuracy: 0.9738 - loss: 0.0735 - val_accuracy: 0.9836 - val_loss: 0.0510\n",
      "Epoch 43/100\n",
      "\u001b[1m25/25\u001b[0m \u001b[32m━━━━━━━━━━━━━━━━━━━━\u001b[0m\u001b[37m\u001b[0m \u001b[1m0s\u001b[0m 1ms/step - accuracy: 0.9741 - loss: 0.0776 - val_accuracy: 0.9836 - val_loss: 0.0502\n",
      "Epoch 44/100\n",
      "\u001b[1m25/25\u001b[0m \u001b[32m━━━━━━━━━━━━━━━━━━━━\u001b[0m\u001b[37m\u001b[0m \u001b[1m0s\u001b[0m 1ms/step - accuracy: 0.9794 - loss: 0.0621 - val_accuracy: 0.9836 - val_loss: 0.0490\n",
      "Epoch 45/100\n",
      "\u001b[1m25/25\u001b[0m \u001b[32m━━━━━━━━━━━━━━━━━━━━\u001b[0m\u001b[37m\u001b[0m \u001b[1m0s\u001b[0m 1ms/step - accuracy: 0.9839 - loss: 0.0548 - val_accuracy: 0.9836 - val_loss: 0.0486\n",
      "Epoch 46/100\n",
      "\u001b[1m25/25\u001b[0m \u001b[32m━━━━━━━━━━━━━━━━━━━━\u001b[0m\u001b[37m\u001b[0m \u001b[1m0s\u001b[0m 1ms/step - accuracy: 0.9829 - loss: 0.0566 - val_accuracy: 0.9836 - val_loss: 0.0485\n",
      "Epoch 47/100\n",
      "\u001b[1m25/25\u001b[0m \u001b[32m━━━━━━━━━━━━━━━━━━━━\u001b[0m\u001b[37m\u001b[0m \u001b[1m0s\u001b[0m 2ms/step - accuracy: 0.9801 - loss: 0.0576 - val_accuracy: 0.9836 - val_loss: 0.0477\n",
      "Epoch 48/100\n",
      "\u001b[1m25/25\u001b[0m \u001b[32m━━━━━━━━━━━━━━━━━━━━\u001b[0m\u001b[37m\u001b[0m \u001b[1m0s\u001b[0m 1ms/step - accuracy: 0.9522 - loss: 0.1084 - val_accuracy: 0.9836 - val_loss: 0.0469\n",
      "Epoch 49/100\n",
      "\u001b[1m25/25\u001b[0m \u001b[32m━━━━━━━━━━━━━━━━━━━━\u001b[0m\u001b[37m\u001b[0m \u001b[1m0s\u001b[0m 1ms/step - accuracy: 0.9637 - loss: 0.0854 - val_accuracy: 0.9836 - val_loss: 0.0456\n",
      "Epoch 50/100\n",
      "\u001b[1m25/25\u001b[0m \u001b[32m━━━━━━━━━━━━━━━━━━━━\u001b[0m\u001b[37m\u001b[0m \u001b[1m0s\u001b[0m 1ms/step - accuracy: 0.9813 - loss: 0.0547 - val_accuracy: 0.9836 - val_loss: 0.0473\n",
      "Epoch 51/100\n",
      "\u001b[1m25/25\u001b[0m \u001b[32m━━━━━━━━━━━━━━━━━━━━\u001b[0m\u001b[37m\u001b[0m \u001b[1m0s\u001b[0m 1ms/step - accuracy: 0.9612 - loss: 0.0864 - val_accuracy: 0.9836 - val_loss: 0.0466\n",
      "Epoch 52/100\n",
      "\u001b[1m25/25\u001b[0m \u001b[32m━━━━━━━━━━━━━━━━━━━━\u001b[0m\u001b[37m\u001b[0m \u001b[1m0s\u001b[0m 1ms/step - accuracy: 0.9647 - loss: 0.0810 - val_accuracy: 0.9836 - val_loss: 0.0439\n",
      "Epoch 53/100\n",
      "\u001b[1m25/25\u001b[0m \u001b[32m━━━━━━━━━━━━━━━━━━━━\u001b[0m\u001b[37m\u001b[0m \u001b[1m0s\u001b[0m 1ms/step - accuracy: 0.9823 - loss: 0.0513 - val_accuracy: 0.9836 - val_loss: 0.0430\n",
      "Epoch 54/100\n",
      "\u001b[1m25/25\u001b[0m \u001b[32m━━━━━━━━━━━━━━━━━━━━\u001b[0m\u001b[37m\u001b[0m \u001b[1m0s\u001b[0m 1ms/step - accuracy: 0.9758 - loss: 0.0610 - val_accuracy: 0.9836 - val_loss: 0.0422\n",
      "Epoch 55/100\n",
      "\u001b[1m25/25\u001b[0m \u001b[32m━━━━━━━━━━━━━━━━━━━━\u001b[0m\u001b[37m\u001b[0m \u001b[1m0s\u001b[0m 1ms/step - accuracy: 0.9800 - loss: 0.0517 - val_accuracy: 0.9836 - val_loss: 0.0442\n",
      "Epoch 56/100\n",
      "\u001b[1m25/25\u001b[0m \u001b[32m━━━━━━━━━━━━━━━━━━━━\u001b[0m\u001b[37m\u001b[0m \u001b[1m0s\u001b[0m 2ms/step - accuracy: 0.9663 - loss: 0.0743 - val_accuracy: 0.9836 - val_loss: 0.0418\n",
      "Epoch 57/100\n",
      "\u001b[1m25/25\u001b[0m \u001b[32m━━━━━━━━━━━━━━━━━━━━\u001b[0m\u001b[37m\u001b[0m \u001b[1m0s\u001b[0m 1ms/step - accuracy: 0.9765 - loss: 0.0588 - val_accuracy: 0.9836 - val_loss: 0.0408\n",
      "Epoch 58/100\n",
      "\u001b[1m25/25\u001b[0m \u001b[32m━━━━━━━━━━━━━━━━━━━━\u001b[0m\u001b[37m\u001b[0m \u001b[1m0s\u001b[0m 1ms/step - accuracy: 0.9738 - loss: 0.0608 - val_accuracy: 0.9836 - val_loss: 0.0402\n",
      "Epoch 59/100\n",
      "\u001b[1m25/25\u001b[0m \u001b[32m━━━━━━━━━━━━━━━━━━━━\u001b[0m\u001b[37m\u001b[0m \u001b[1m0s\u001b[0m 1ms/step - accuracy: 0.9711 - loss: 0.0656 - val_accuracy: 0.9836 - val_loss: 0.0395\n",
      "Epoch 60/100\n",
      "\u001b[1m25/25\u001b[0m \u001b[32m━━━━━━━━━━━━━━━━━━━━\u001b[0m\u001b[37m\u001b[0m \u001b[1m0s\u001b[0m 1ms/step - accuracy: 0.9792 - loss: 0.0501 - val_accuracy: 0.9836 - val_loss: 0.0388\n",
      "Epoch 61/100\n",
      "\u001b[1m25/25\u001b[0m \u001b[32m━━━━━━━━━━━━━━━━━━━━\u001b[0m\u001b[37m\u001b[0m \u001b[1m0s\u001b[0m 1ms/step - accuracy: 0.9901 - loss: 0.0292 - val_accuracy: 0.9836 - val_loss: 0.0385\n",
      "Epoch 62/100\n",
      "\u001b[1m25/25\u001b[0m \u001b[32m━━━━━━━━━━━━━━━━━━━━\u001b[0m\u001b[37m\u001b[0m \u001b[1m0s\u001b[0m 1ms/step - accuracy: 0.9747 - loss: 0.0581 - val_accuracy: 0.9836 - val_loss: 0.0384\n",
      "Epoch 63/100\n",
      "\u001b[1m25/25\u001b[0m \u001b[32m━━━━━━━━━━━━━━━━━━━━\u001b[0m\u001b[37m\u001b[0m \u001b[1m0s\u001b[0m 1ms/step - accuracy: 0.9720 - loss: 0.0638 - val_accuracy: 0.9836 - val_loss: 0.0378\n",
      "Epoch 64/100\n",
      "\u001b[1m25/25\u001b[0m \u001b[32m━━━━━━━━━━━━━━━━━━━━\u001b[0m\u001b[37m\u001b[0m \u001b[1m0s\u001b[0m 1ms/step - accuracy: 0.9744 - loss: 0.0516 - val_accuracy: 0.9836 - val_loss: 0.0369\n",
      "Epoch 65/100\n",
      "\u001b[1m25/25\u001b[0m \u001b[32m━━━━━━━━━━━━━━━━━━━━\u001b[0m\u001b[37m\u001b[0m \u001b[1m0s\u001b[0m 1ms/step - accuracy: 0.9764 - loss: 0.0509 - val_accuracy: 0.9836 - val_loss: 0.0363\n",
      "Epoch 66/100\n",
      "\u001b[1m25/25\u001b[0m \u001b[32m━━━━━━━━━━━━━━━━━━━━\u001b[0m\u001b[37m\u001b[0m \u001b[1m0s\u001b[0m 1ms/step - accuracy: 0.9845 - loss: 0.0404 - val_accuracy: 0.9836 - val_loss: 0.0362\n",
      "Epoch 67/100\n",
      "\u001b[1m25/25\u001b[0m \u001b[32m━━━━━━━━━━━━━━━━━━━━\u001b[0m\u001b[37m\u001b[0m \u001b[1m0s\u001b[0m 1ms/step - accuracy: 0.9594 - loss: 0.0767 - val_accuracy: 0.9836 - val_loss: 0.0387\n",
      "Epoch 68/100\n",
      "\u001b[1m25/25\u001b[0m \u001b[32m━━━━━━━━━━━━━━━━━━━━\u001b[0m\u001b[37m\u001b[0m \u001b[1m0s\u001b[0m 1ms/step - accuracy: 0.9879 - loss: 0.0376 - val_accuracy: 0.9836 - val_loss: 0.0352\n",
      "Epoch 69/100\n",
      "\u001b[1m25/25\u001b[0m \u001b[32m━━━━━━━━━━━━━━━━━━━━\u001b[0m\u001b[37m\u001b[0m \u001b[1m0s\u001b[0m 1ms/step - accuracy: 0.9816 - loss: 0.0439 - val_accuracy: 0.9836 - val_loss: 0.0348\n",
      "Epoch 70/100\n",
      "\u001b[1m25/25\u001b[0m \u001b[32m━━━━━━━━━━━━━━━━━━━━\u001b[0m\u001b[37m\u001b[0m \u001b[1m0s\u001b[0m 1ms/step - accuracy: 0.9711 - loss: 0.0560 - val_accuracy: 0.9836 - val_loss: 0.0343\n",
      "Epoch 71/100\n",
      "\u001b[1m25/25\u001b[0m \u001b[32m━━━━━━━━━━━━━━━━━━━━\u001b[0m\u001b[37m\u001b[0m \u001b[1m0s\u001b[0m 1ms/step - accuracy: 0.9801 - loss: 0.0448 - val_accuracy: 0.9836 - val_loss: 0.0342\n",
      "Epoch 72/100\n",
      "\u001b[1m25/25\u001b[0m \u001b[32m━━━━━━━━━━━━━━━━━━━━\u001b[0m\u001b[37m\u001b[0m \u001b[1m0s\u001b[0m 1ms/step - accuracy: 0.9645 - loss: 0.0648 - val_accuracy: 0.9836 - val_loss: 0.0336\n",
      "Epoch 73/100\n",
      "\u001b[1m25/25\u001b[0m \u001b[32m━━━━━━━━━━━━━━━━━━━━\u001b[0m\u001b[37m\u001b[0m \u001b[1m0s\u001b[0m 1ms/step - accuracy: 0.9817 - loss: 0.0456 - val_accuracy: 0.9836 - val_loss: 0.0325\n",
      "Epoch 74/100\n",
      "\u001b[1m25/25\u001b[0m \u001b[32m━━━━━━━━━━━━━━━━━━━━\u001b[0m\u001b[37m\u001b[0m \u001b[1m0s\u001b[0m 1ms/step - accuracy: 0.9790 - loss: 0.0470 - val_accuracy: 0.9836 - val_loss: 0.0327\n",
      "Epoch 75/100\n",
      "\u001b[1m25/25\u001b[0m \u001b[32m━━━━━━━━━━━━━━━━━━━━\u001b[0m\u001b[37m\u001b[0m \u001b[1m0s\u001b[0m 1ms/step - accuracy: 0.9877 - loss: 0.0390 - val_accuracy: 0.9836 - val_loss: 0.0328\n",
      "Epoch 76/100\n",
      "\u001b[1m25/25\u001b[0m \u001b[32m━━━━━━━━━━━━━━━━━━━━\u001b[0m\u001b[37m\u001b[0m \u001b[1m0s\u001b[0m 1ms/step - accuracy: 0.9755 - loss: 0.0459 - val_accuracy: 0.9836 - val_loss: 0.0360\n",
      "Epoch 77/100\n",
      "\u001b[1m25/25\u001b[0m \u001b[32m━━━━━━━━━━━━━━━━━━━━\u001b[0m\u001b[37m\u001b[0m \u001b[1m0s\u001b[0m 1ms/step - accuracy: 0.9651 - loss: 0.0538 - val_accuracy: 0.9836 - val_loss: 0.0311\n",
      "Epoch 78/100\n",
      "\u001b[1m25/25\u001b[0m \u001b[32m━━━━━━━━━━━━━━━━━━━━\u001b[0m\u001b[37m\u001b[0m \u001b[1m0s\u001b[0m 1ms/step - accuracy: 0.9687 - loss: 0.0534 - val_accuracy: 0.9836 - val_loss: 0.0305\n",
      "Epoch 79/100\n",
      "\u001b[1m25/25\u001b[0m \u001b[32m━━━━━━━━━━━━━━━━━━━━\u001b[0m\u001b[37m\u001b[0m \u001b[1m0s\u001b[0m 1ms/step - accuracy: 0.9817 - loss: 0.0380 - val_accuracy: 0.9836 - val_loss: 0.0309\n",
      "Epoch 80/100\n",
      "\u001b[1m25/25\u001b[0m \u001b[32m━━━━━━━━━━━━━━━━━━━━\u001b[0m\u001b[37m\u001b[0m \u001b[1m0s\u001b[0m 2ms/step - accuracy: 0.9805 - loss: 0.0438 - val_accuracy: 0.9836 - val_loss: 0.0300\n",
      "Epoch 81/100\n",
      "\u001b[1m25/25\u001b[0m \u001b[32m━━━━━━━━━━━━━━━━━━━━\u001b[0m\u001b[37m\u001b[0m \u001b[1m0s\u001b[0m 1ms/step - accuracy: 0.9686 - loss: 0.0538 - val_accuracy: 0.9836 - val_loss: 0.0304\n",
      "Epoch 82/100\n",
      "\u001b[1m25/25\u001b[0m \u001b[32m━━━━━━━━━━━━━━━━━━━━\u001b[0m\u001b[37m\u001b[0m \u001b[1m0s\u001b[0m 2ms/step - accuracy: 0.9724 - loss: 0.0456 - val_accuracy: 0.9836 - val_loss: 0.0293\n",
      "Epoch 83/100\n",
      "\u001b[1m25/25\u001b[0m \u001b[32m━━━━━━━━━━━━━━━━━━━━\u001b[0m\u001b[37m\u001b[0m \u001b[1m0s\u001b[0m 1ms/step - accuracy: 0.9733 - loss: 0.0459 - val_accuracy: 0.9836 - val_loss: 0.0293\n",
      "Epoch 84/100\n",
      "\u001b[1m25/25\u001b[0m \u001b[32m━━━━━━━━━━━━━━━━━━━━\u001b[0m\u001b[37m\u001b[0m \u001b[1m0s\u001b[0m 1ms/step - accuracy: 0.9830 - loss: 0.0374 - val_accuracy: 1.0000 - val_loss: 0.0308\n",
      "Epoch 85/100\n",
      "\u001b[1m25/25\u001b[0m \u001b[32m━━━━━━━━━━━━━━━━━━━━\u001b[0m\u001b[37m\u001b[0m \u001b[1m0s\u001b[0m 1ms/step - accuracy: 0.9838 - loss: 0.0442 - val_accuracy: 0.9836 - val_loss: 0.0285\n",
      "Epoch 86/100\n",
      "\u001b[1m25/25\u001b[0m \u001b[32m━━━━━━━━━━━━━━━━━━━━\u001b[0m\u001b[37m\u001b[0m \u001b[1m0s\u001b[0m 1ms/step - accuracy: 0.9734 - loss: 0.0504 - val_accuracy: 0.9836 - val_loss: 0.0283\n",
      "Epoch 87/100\n",
      "\u001b[1m25/25\u001b[0m \u001b[32m━━━━━━━━━━━━━━━━━━━━\u001b[0m\u001b[37m\u001b[0m \u001b[1m0s\u001b[0m 1ms/step - accuracy: 0.9782 - loss: 0.0426 - val_accuracy: 0.9836 - val_loss: 0.0274\n",
      "Epoch 88/100\n",
      "\u001b[1m25/25\u001b[0m \u001b[32m━━━━━━━━━━━━━━━━━━━━\u001b[0m\u001b[37m\u001b[0m \u001b[1m0s\u001b[0m 1ms/step - accuracy: 0.9778 - loss: 0.0374 - val_accuracy: 0.9836 - val_loss: 0.0272\n",
      "Epoch 89/100\n",
      "\u001b[1m25/25\u001b[0m \u001b[32m━━━━━━━━━━━━━━━━━━━━\u001b[0m\u001b[37m\u001b[0m \u001b[1m0s\u001b[0m 1ms/step - accuracy: 0.9806 - loss: 0.0419 - val_accuracy: 0.9836 - val_loss: 0.0268\n",
      "Epoch 90/100\n",
      "\u001b[1m25/25\u001b[0m \u001b[32m━━━━━━━━━━━━━━━━━━━━\u001b[0m\u001b[37m\u001b[0m \u001b[1m0s\u001b[0m 2ms/step - accuracy: 0.9744 - loss: 0.0503 - val_accuracy: 0.9836 - val_loss: 0.0271\n",
      "Epoch 91/100\n",
      "\u001b[1m25/25\u001b[0m \u001b[32m━━━━━━━━━━━━━━━━━━━━\u001b[0m\u001b[37m\u001b[0m \u001b[1m0s\u001b[0m 2ms/step - accuracy: 0.9912 - loss: 0.0293 - val_accuracy: 0.9836 - val_loss: 0.0263\n",
      "Epoch 92/100\n",
      "\u001b[1m25/25\u001b[0m \u001b[32m━━━━━━━━━━━━━━━━━━━━\u001b[0m\u001b[37m\u001b[0m \u001b[1m0s\u001b[0m 1ms/step - accuracy: 0.9689 - loss: 0.0483 - val_accuracy: 1.0000 - val_loss: 0.0268\n",
      "Epoch 93/100\n",
      "\u001b[1m25/25\u001b[0m \u001b[32m━━━━━━━━━━━━━━━━━━━━\u001b[0m\u001b[37m\u001b[0m \u001b[1m0s\u001b[0m 1ms/step - accuracy: 0.9887 - loss: 0.0291 - val_accuracy: 0.9836 - val_loss: 0.0256\n",
      "Epoch 94/100\n",
      "\u001b[1m25/25\u001b[0m \u001b[32m━━━━━━━━━━━━━━━━━━━━\u001b[0m\u001b[37m\u001b[0m \u001b[1m0s\u001b[0m 1ms/step - accuracy: 0.9792 - loss: 0.0434 - val_accuracy: 1.0000 - val_loss: 0.0261\n",
      "Epoch 95/100\n",
      "\u001b[1m25/25\u001b[0m \u001b[32m━━━━━━━━━━━━━━━━━━━━\u001b[0m\u001b[37m\u001b[0m \u001b[1m0s\u001b[0m 1ms/step - accuracy: 0.9811 - loss: 0.0335 - val_accuracy: 1.0000 - val_loss: 0.0257\n",
      "Epoch 96/100\n",
      "\u001b[1m25/25\u001b[0m \u001b[32m━━━━━━━━━━━━━━━━━━━━\u001b[0m\u001b[37m\u001b[0m \u001b[1m0s\u001b[0m 1ms/step - accuracy: 0.9868 - loss: 0.0291 - val_accuracy: 0.9836 - val_loss: 0.0248\n",
      "Epoch 97/100\n",
      "\u001b[1m25/25\u001b[0m \u001b[32m━━━━━━━━━━━━━━━━━━━━\u001b[0m\u001b[37m\u001b[0m \u001b[1m0s\u001b[0m 1ms/step - accuracy: 0.9731 - loss: 0.0464 - val_accuracy: 0.9836 - val_loss: 0.0242\n",
      "Epoch 98/100\n",
      "\u001b[1m25/25\u001b[0m \u001b[32m━━━━━━━━━━━━━━━━━━━━\u001b[0m\u001b[37m\u001b[0m \u001b[1m0s\u001b[0m 1ms/step - accuracy: 0.9846 - loss: 0.0395 - val_accuracy: 0.9836 - val_loss: 0.0241\n",
      "Epoch 99/100\n",
      "\u001b[1m25/25\u001b[0m \u001b[32m━━━━━━━━━━━━━━━━━━━━\u001b[0m\u001b[37m\u001b[0m \u001b[1m0s\u001b[0m 1ms/step - accuracy: 0.9661 - loss: 0.0542 - val_accuracy: 1.0000 - val_loss: 0.0243\n",
      "Epoch 100/100\n",
      "\u001b[1m25/25\u001b[0m \u001b[32m━━━━━━━━━━━━━━━━━━━━\u001b[0m\u001b[37m\u001b[0m \u001b[1m0s\u001b[0m 1ms/step - accuracy: 0.9749 - loss: 0.0472 - val_accuracy: 1.0000 - val_loss: 0.0236\n",
      "\u001b[1m3/3\u001b[0m \u001b[32m━━━━━━━━━━━━━━━━━━━━\u001b[0m\u001b[37m\u001b[0m \u001b[1m0s\u001b[0m 2ms/step - accuracy: 0.9607 - loss: 0.0604\n",
      "Acurácia do modelo: 96.05%\n",
      "\u001b[1m3/3\u001b[0m \u001b[32m━━━━━━━━━━━━━━━━━━━━\u001b[0m\u001b[37m\u001b[0m \u001b[1m0s\u001b[0m 9ms/step \n",
      "Classes previstas: [1 1 1 1 1 1 1 1 1 1 1 1 1 1 1 1 1 1 1 1 1 1 1 1 1 1 1 1 1 1 1 1 1 1 0 1 1\n",
      " 1 1 1 1 1 1 1 1 1 1 1 1 1 1 1 1 1 1 1 1 1 1 1 1 1 1 1 1 1 1 1 1 1 1 1 0 1\n",
      " 1 1]\n",
      "Classes reais: [0 1 1 1 1 1 1 1 1 1 1 1 1 1 1 1 1 1 1 1 1 1 1 1 1 1 1 1 1 1 1 1 1 1 0 1 1\n",
      " 1 1 1 1 1 1 1 0 1 1 1 1 1 0 1 1 1 1 1 1 1 1 1 1 1 1 1 1 1 1 1 1 1 1 1 0 1\n",
      " 1 1]\n"
     ]
    },
    {
     "data": {
      "image/png": "[encoded data removed]",
      "text/plain": [
       "<Figure size 640x480 with 1 Axes>"
      ]
     },
     "metadata": {},
     "output_type": "display_data"
    }
   ],
   "source": [
    "import yfinance as yf\n",
    "import pandas as pd\n",
    "import numpy as np\n",
    "from sklearn.model_selection import train_test_split\n",
    "from sklearn.preprocessing import StandardScaler\n",
    "from tensorflow.keras.models import Sequential\n",
    "from tensorflow.keras.layers import Dense\n",
    "from tensorflow.keras.callbacks import EarlyStopping\n",
    "import matplotlib.pyplot as plt\n",
    "\n",
    "# Listar todos os tickers do dataset S&P 500\n",
    "tickers = pd.read_csv('all_stocks_5yr.csv')['Name'].unique()\n",
    "\n",
    "# Datas de início e fim\n",
    "start_date = \"2018-01-01\"\n",
    "end_date = \"2023-01-01\"\n",
    "dividend_data = pd.DataFrame()\n",
    "\n",
    "# Tickers problemáticos\n",
    "failed_tickers = []\n",
    "\n",
    "for ticker in tickers:\n",
    "    try:\n",
    "        stock = yf.Ticker(ticker)\n",
    "        dividends = stock.dividends.loc[start_date:end_date]\n",
    "        \n",
    "        if dividends.empty:\n",
    "            raise ValueError(f\"{ticker} não possui dados de dividendos.\")\n",
    "        \n",
    "        dividends = dividends.reset_index()\n",
    "        dividends['Ticker'] = ticker\n",
    "        dividend_data = pd.concat([dividend_data, dividends], ignore_index=True)\n",
    "    \n",
    "    except Exception as e:\n",
    "        print(f\"Erro ao carregar dados para {ticker}: {e}\")\n",
    "        failed_tickers.append(ticker)\n",
    "\n",
    "# Remover tickers problemáticos\n",
    "print(f\"Tickers removidos: {failed_tickers}\")\n",
    "\n",
    "# Renomear colunas\n",
    "dividend_data.columns = ['Date', 'Dividends', 'Ticker']\n",
    "\n",
    "# Calcular a Média dos Dividendos dos Últimos 5 Anos\n",
    "average_dividends = dividend_data.groupby('Ticker')['Dividends'].mean().reset_index()\n",
    "average_dividends.columns = ['Ticker', 'AverageDividend']\n",
    "\n",
    "# Criar a Coluna-Alvo `target`\n",
    "average_dividends['target'] = np.where(average_dividends['AverageDividend'] > 0.06, 1, 0)\n",
    "\n",
    "# Preparar Dados para Treino e Teste\n",
    "X = average_dividends[['AverageDividend']].values\n",
    "y = average_dividends['target'].values\n",
    "\n",
    "# Dividir em treino e teste\n",
    "X_train, X_test, y_train, y_test = train_test_split(X, y, test_size=0.2, random_state=42)\n",
    "\n",
    "# Normalizar dados\n",
    "scaler = StandardScaler()\n",
    "X_train = scaler.fit_transform(X_train)\n",
    "X_test = scaler.transform(X_test)\n",
    "\n",
    "# Construir e Treinar a Rede Neural\n",
    "model = Sequential([\n",
    "    Dense(20, input_dim=1, activation='relu'),  # Camada oculta com mais neurônios\n",
    "    Dense(10, activation='relu'),                # Outra camada oculta\n",
    "    Dense(1, activation='sigmoid')               # Camada de saída\n",
    "])\n",
    "\n",
    "model.compile(optimizer='adam', loss='binary_crossentropy', metrics=['accuracy'])\n",
    "\n",
    "# Implementar EarlyStopping\n",
    "early_stopping = EarlyStopping(monitor='val_loss', patience=10, restore_best_weights=True)\n",
    "\n",
    "history = model.fit(X_train, y_train, epochs=100, batch_size=10, validation_split=0.2, verbose=1, callbacks=[early_stopping])\n",
    "\n",
    "# Avaliar a Precisão do Modelo\n",
    "loss, accuracy = model.evaluate(X_test, y_test)\n",
    "print(f\"Acurácia do modelo: {accuracy * 100:.2f}%\")\n",
    "\n",
    "# Previsões\n",
    "predictions = model.predict(X_test)\n",
    "predicted_classes = (predictions > 0.5).astype(int)\n",
    "print(\"Classes previstas:\", predicted_classes.flatten())\n",
    "print(\"Classes reais:\", y_test)\n",
    "\n",
    "# Visualização do Treinamento\n",
    "plt.plot(history.history['loss'], label='Treinamento Loss')\n",
    "plt.plot(history.history['val_loss'], label='Validação Loss')\n",
    "plt.title('Loss durante o treinamento')\n",
    "plt.xlabel('Épocas')\n",
    "plt.ylabel('Loss')\n",
    "plt.legend()\n",
    "plt.show()\n"
   ]
  }
 ],
 "metadata": {
  "kernelspec": {
   "display_name": "ManchineLearning",
   "language": "python",
   "name": "python3"
  },
  "language_info": {
   "codemirror_mode": {
    "name": "ipython",
    "version": 3
   },
   "file_extension": ".py",
   "mimetype": "text/x-python",
   "name": "python",
   "nbconvert_exporter": "python",
   "pygments_lexer": "ipython3",
   "version": "3.9.18"
  }
 },
 "nbformat": 4,
 "nbformat_minor": 2
}
