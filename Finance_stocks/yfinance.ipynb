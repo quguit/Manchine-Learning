{
 "cells": [
  {
   "cell_type": "code",
   "execution_count": 1,
   "metadata": {},
   "outputs": [
    {
     "name": "stderr",
     "output_type": "stream",
     "text": [
      "$ABC: possibly delisted; no timezone found\n"
     ]
    },
    {
     "name": "stdout",
     "output_type": "stream",
     "text": [
      "Erro ao carregar dados para ABC: ABC não possui dados de dividendos.\n",
      "Erro ao carregar dados para ADBE: ADBE não possui dados de dividendos.\n",
      "Erro ao carregar dados para ADSK: ADSK não possui dados de dividendos.\n"
     ]
    },
    {
     "name": "stderr",
     "output_type": "stream",
     "text": [
      "$ADS: possibly delisted; no timezone found\n"
     ]
    },
    {
     "name": "stdout",
     "output_type": "stream",
     "text": [
      "Erro ao carregar dados para ADS: ADS não possui dados de dividendos.\n"
     ]
    },
    {
     "name": "stderr",
     "output_type": "stream",
     "text": [
      "$AGN: possibly delisted; no timezone found\n"
     ]
    },
    {
     "name": "stdout",
     "output_type": "stream",
     "text": [
      "Erro ao carregar dados para AGN: AGN não possui dados de dividendos.\n",
      "Erro ao carregar dados para AKAM: AKAM não possui dados de dividendos.\n",
      "Erro ao carregar dados para ALGN: ALGN não possui dados de dividendos.\n"
     ]
    },
    {
     "name": "stderr",
     "output_type": "stream",
     "text": [
      "$ALXN: possibly delisted; no timezone found\n"
     ]
    },
    {
     "name": "stdout",
     "output_type": "stream",
     "text": [
      "Erro ao carregar dados para ALXN: ALXN não possui dados de dividendos.\n",
      "Erro ao carregar dados para AMD: AMD não possui dados de dividendos.\n",
      "Erro ao carregar dados para AMZN: AMZN não possui dados de dividendos.\n",
      "Erro ao carregar dados para ANSS: ANSS não possui dados de dividendos.\n"
     ]
    },
    {
     "name": "stderr",
     "output_type": "stream",
     "text": [
      "$ANTM: possibly delisted; no timezone found\n"
     ]
    },
    {
     "name": "stdout",
     "output_type": "stream",
     "text": [
      "Erro ao carregar dados para ANTM: ANTM não possui dados de dividendos.\n"
     ]
    },
    {
     "name": "stderr",
     "output_type": "stream",
     "text": [
      "$APC: possibly delisted; no timezone found\n"
     ]
    },
    {
     "name": "stdout",
     "output_type": "stream",
     "text": [
      "Erro ao carregar dados para APC: APC não possui dados de dividendos.\n"
     ]
    },
    {
     "name": "stderr",
     "output_type": "stream",
     "text": [
      "$ARNC: possibly delisted; no timezone found\n"
     ]
    },
    {
     "name": "stdout",
     "output_type": "stream",
     "text": [
      "Erro ao carregar dados para ARNC: ARNC não possui dados de dividendos.\n"
     ]
    },
    {
     "name": "stderr",
     "output_type": "stream",
     "text": [
      "$ATVI: possibly delisted; no timezone found\n"
     ]
    },
    {
     "name": "stdout",
     "output_type": "stream",
     "text": [
      "Erro ao carregar dados para ATVI: ATVI não possui dados de dividendos.\n",
      "Erro ao carregar dados para AZO: AZO não possui dados de dividendos.\n"
     ]
    },
    {
     "name": "stderr",
     "output_type": "stream",
     "text": [
      "$BBT: possibly delisted; no timezone found\n"
     ]
    },
    {
     "name": "stdout",
     "output_type": "stream",
     "text": [
      "Erro ao carregar dados para BBT: BBT não possui dados de dividendos.\n"
     ]
    },
    {
     "name": "stderr",
     "output_type": "stream",
     "text": [
      "$BF.B: possibly delisted; no price data found  (1d 1925-11-29 -> 2024-11-04)\n"
     ]
    },
    {
     "name": "stdout",
     "output_type": "stream",
     "text": [
      "Erro ao carregar dados para BF.B: BF.B não possui dados de dividendos.\n",
      "Erro ao carregar dados para BHF: BHF não possui dados de dividendos.\n"
     ]
    },
    {
     "name": "stderr",
     "output_type": "stream",
     "text": [
      "$BHGE: possibly delisted; no timezone found\n"
     ]
    },
    {
     "name": "stdout",
     "output_type": "stream",
     "text": [
      "Erro ao carregar dados para BHGE: BHGE não possui dados de dividendos.\n",
      "Erro ao carregar dados para BIIB: BIIB não possui dados de dividendos.\n"
     ]
    },
    {
     "name": "stderr",
     "output_type": "stream",
     "text": [
      "$BLL: possibly delisted; no timezone found\n"
     ]
    },
    {
     "name": "stdout",
     "output_type": "stream",
     "text": [
      "Erro ao carregar dados para BLL: BLL não possui dados de dividendos.\n"
     ]
    },
    {
     "name": "stderr",
     "output_type": "stream",
     "text": [
      "$BRK.B: possibly delisted; no timezone found\n"
     ]
    },
    {
     "name": "stdout",
     "output_type": "stream",
     "text": [
      "Erro ao carregar dados para BRK.B: BRK.B não possui dados de dividendos.\n",
      "Erro ao carregar dados para BSX: BSX não possui dados de dividendos.\n"
     ]
    },
    {
     "name": "stderr",
     "output_type": "stream",
     "text": [
      "$CBG: possibly delisted; no price data found  (1d 1925-11-29 -> 2024-11-04)\n"
     ]
    },
    {
     "name": "stdout",
     "output_type": "stream",
     "text": [
      "Erro ao carregar dados para CA: CA não possui dados de dividendos.\n",
      "Erro ao carregar dados para CBG: CBG não possui dados de dividendos.\n"
     ]
    },
    {
     "name": "stderr",
     "output_type": "stream",
     "text": [
      "$CBS: possibly delisted; no timezone found\n"
     ]
    },
    {
     "name": "stdout",
     "output_type": "stream",
     "text": [
      "Erro ao carregar dados para CBS: CBS não possui dados de dividendos.\n",
      "Erro ao carregar dados para CDNS: CDNS não possui dados de dividendos.\n"
     ]
    },
    {
     "name": "stderr",
     "output_type": "stream",
     "text": [
      "$CELG: possibly delisted; no timezone found\n"
     ]
    },
    {
     "name": "stdout",
     "output_type": "stream",
     "text": [
      "Erro ao carregar dados para CELG: CELG não possui dados de dividendos.\n"
     ]
    },
    {
     "name": "stderr",
     "output_type": "stream",
     "text": [
      "$CERN: possibly delisted; no timezone found\n"
     ]
    },
    {
     "name": "stdout",
     "output_type": "stream",
     "text": [
      "Erro ao carregar dados para CERN: CERN não possui dados de dividendos.\n",
      "Erro ao carregar dados para CHTR: CHTR não possui dados de dividendos.\n",
      "Erro ao carregar dados para CMG: CMG não possui dados de dividendos.\n",
      "Erro ao carregar dados para CNC: CNC não possui dados de dividendos.\n"
     ]
    },
    {
     "name": "stderr",
     "output_type": "stream",
     "text": [
      "$COG: possibly delisted; no timezone found\n"
     ]
    },
    {
     "name": "stdout",
     "output_type": "stream",
     "text": [
      "Erro ao carregar dados para COG: COG não possui dados de dividendos.\n",
      "Erro ao carregar dados para COL: COL não possui dados de dividendos.\n",
      "Erro ao carregar dados para CRM: CRM não possui dados de dividendos.\n"
     ]
    },
    {
     "name": "stderr",
     "output_type": "stream",
     "text": [
      "$CTL: possibly delisted; no timezone found\n"
     ]
    },
    {
     "name": "stdout",
     "output_type": "stream",
     "text": [
      "Erro ao carregar dados para CTL: CTL não possui dados de dividendos.\n"
     ]
    },
    {
     "name": "stderr",
     "output_type": "stream",
     "text": [
      "$CTXS: possibly delisted; no timezone found\n"
     ]
    },
    {
     "name": "stdout",
     "output_type": "stream",
     "text": [
      "Erro ao carregar dados para CTXS: CTXS não possui dados de dividendos.\n"
     ]
    },
    {
     "name": "stderr",
     "output_type": "stream",
     "text": [
      "$CXO: possibly delisted; no timezone found\n"
     ]
    },
    {
     "name": "stdout",
     "output_type": "stream",
     "text": [
      "Erro ao carregar dados para CXO: CXO não possui dados de dividendos.\n"
     ]
    },
    {
     "name": "stderr",
     "output_type": "stream",
     "text": [
      "$DISCA: possibly delisted; no timezone found\n"
     ]
    },
    {
     "name": "stdout",
     "output_type": "stream",
     "text": [
      "Erro ao carregar dados para DISCA: DISCA não possui dados de dividendos.\n"
     ]
    },
    {
     "name": "stderr",
     "output_type": "stream",
     "text": [
      "$DISCK: possibly delisted; no timezone found\n"
     ]
    },
    {
     "name": "stdout",
     "output_type": "stream",
     "text": [
      "Erro ao carregar dados para DISCK: DISCK não possui dados de dividendos.\n"
     ]
    },
    {
     "name": "stderr",
     "output_type": "stream",
     "text": [
      "$DISH: possibly delisted; no timezone found\n"
     ]
    },
    {
     "name": "stdout",
     "output_type": "stream",
     "text": [
      "Erro ao carregar dados para DISH: DISH não possui dados de dividendos.\n",
      "Erro ao carregar dados para DLTR: DLTR não possui dados de dividendos.\n"
     ]
    },
    {
     "name": "stderr",
     "output_type": "stream",
     "text": [
      "$DPS: possibly delisted; no price data found  (1d 1925-11-29 -> 2024-11-04)\n"
     ]
    },
    {
     "name": "stdout",
     "output_type": "stream",
     "text": [
      "Erro ao carregar dados para DPS: DPS não possui dados de dividendos.\n"
     ]
    },
    {
     "name": "stderr",
     "output_type": "stream",
     "text": [
      "$DRE: possibly delisted; no timezone found\n"
     ]
    },
    {
     "name": "stdout",
     "output_type": "stream",
     "text": [
      "Erro ao carregar dados para DRE: DRE não possui dados de dividendos.\n",
      "Erro ao carregar dados para DVA: DVA não possui dados de dividendos.\n"
     ]
    },
    {
     "name": "stderr",
     "output_type": "stream",
     "text": [
      "$DWDP: possibly delisted; no timezone found\n"
     ]
    },
    {
     "name": "stdout",
     "output_type": "stream",
     "text": [
      "Erro ao carregar dados para DWDP: DWDP não possui dados de dividendos.\n",
      "Erro ao carregar dados para ESRX: ESRX não possui dados de dividendos.\n"
     ]
    },
    {
     "name": "stderr",
     "output_type": "stream",
     "text": [
      "$ETFC: possibly delisted; no timezone found\n"
     ]
    },
    {
     "name": "stdout",
     "output_type": "stream",
     "text": [
      "Erro ao carregar dados para ETFC: ETFC não possui dados de dividendos.\n",
      "Erro ao carregar dados para EVHC: EVHC não possui dados de dividendos.\n",
      "Erro ao carregar dados para EW: EW não possui dados de dividendos.\n"
     ]
    },
    {
     "name": "stderr",
     "output_type": "stream",
     "text": [
      "$FBHS: possibly delisted; no timezone found\n"
     ]
    },
    {
     "name": "stdout",
     "output_type": "stream",
     "text": [
      "Erro ao carregar dados para FBHS: FBHS não possui dados de dividendos.\n"
     ]
    },
    {
     "name": "stderr",
     "output_type": "stream",
     "text": [
      "$FB: possibly delisted; no timezone found\n"
     ]
    },
    {
     "name": "stdout",
     "output_type": "stream",
     "text": [
      "Erro ao carregar dados para FB: FB não possui dados de dividendos.\n",
      "Erro ao carregar dados para FFIV: FFIV não possui dados de dividendos.\n",
      "Erro ao carregar dados para FISV: FISV não possui dados de dividendos.\n"
     ]
    },
    {
     "name": "stderr",
     "output_type": "stream",
     "text": [
      "$FLIR: possibly delisted; no timezone found\n"
     ]
    },
    {
     "name": "stdout",
     "output_type": "stream",
     "text": [
      "Erro ao carregar dados para FLIR: FLIR não possui dados de dividendos.\n"
     ]
    },
    {
     "name": "stderr",
     "output_type": "stream",
     "text": [
      "$GGP: possibly delisted; no price data found  (1d 1925-11-29 -> 2024-11-04)\n"
     ]
    },
    {
     "name": "stdout",
     "output_type": "stream",
     "text": [
      "Erro ao carregar dados para GGP: GGP não possui dados de dividendos.\n",
      "Erro ao carregar dados para GOOGL: GOOGL não possui dados de dividendos.\n",
      "Erro ao carregar dados para GOOG: GOOG não possui dados de dividendos.\n"
     ]
    },
    {
     "name": "stderr",
     "output_type": "stream",
     "text": [
      "$GPS: possibly delisted; no timezone found\n"
     ]
    },
    {
     "name": "stdout",
     "output_type": "stream",
     "text": [
      "Erro ao carregar dados para GPS: GPS não possui dados de dividendos.\n"
     ]
    },
    {
     "name": "stderr",
     "output_type": "stream",
     "text": [
      "$HCN: possibly delisted; no price data found  (1d 1925-11-29 -> 2024-11-04)\n"
     ]
    },
    {
     "name": "stdout",
     "output_type": "stream",
     "text": [
      "Erro ao carregar dados para HCN: HCN não possui dados de dividendos.\n",
      "Erro ao carregar dados para HCP: HCP não possui dados de dividendos.\n",
      "Erro ao carregar dados para HOLX: HOLX não possui dados de dividendos.\n"
     ]
    },
    {
     "name": "stderr",
     "output_type": "stream",
     "text": [
      "$HRS: possibly delisted; no timezone found\n"
     ]
    },
    {
     "name": "stdout",
     "output_type": "stream",
     "text": [
      "Erro ao carregar dados para HRS: HRS não possui dados de dividendos.\n",
      "Erro ao carregar dados para HSIC: HSIC não possui dados de dividendos.\n",
      "Erro ao carregar dados para IDXX: IDXX não possui dados de dividendos.\n",
      "Erro ao carregar dados para ILMN: ILMN não possui dados de dividendos.\n",
      "Erro ao carregar dados para INCY: INCY não possui dados de dividendos.\n",
      "Erro ao carregar dados para INFO: INFO não possui dados de dividendos.\n",
      "Erro ao carregar dados para IQV: IQV não possui dados de dividendos.\n",
      "Erro ao carregar dados para ISRG: ISRG não possui dados de dividendos.\n",
      "Erro ao carregar dados para IT: IT não possui dados de dividendos.\n"
     ]
    },
    {
     "name": "stderr",
     "output_type": "stream",
     "text": [
      "$JEC: possibly delisted; no timezone found\n"
     ]
    },
    {
     "name": "stdout",
     "output_type": "stream",
     "text": [
      "Erro ao carregar dados para JEC: JEC não possui dados de dividendos.\n"
     ]
    },
    {
     "name": "stderr",
     "output_type": "stream",
     "text": [
      "$KORS: possibly delisted; no price data found  (1d 1925-11-29 -> 2024-11-04)\n"
     ]
    },
    {
     "name": "stdout",
     "output_type": "stream",
     "text": [
      "Erro ao carregar dados para KMX: KMX não possui dados de dividendos.\n",
      "Erro ao carregar dados para KORS: KORS não possui dados de dividendos.\n"
     ]
    },
    {
     "name": "stderr",
     "output_type": "stream",
     "text": [
      "$KSU: possibly delisted; no timezone found\n"
     ]
    },
    {
     "name": "stdout",
     "output_type": "stream",
     "text": [
      "Erro ao carregar dados para KSU: KSU não possui dados de dividendos.\n",
      "Erro ao carregar dados para LB: LB não possui dados de dividendos.\n"
     ]
    },
    {
     "name": "stderr",
     "output_type": "stream",
     "text": [
      "$LLL: possibly delisted; no timezone found\n"
     ]
    },
    {
     "name": "stdout",
     "output_type": "stream",
     "text": [
      "Erro ao carregar dados para LLL: LLL não possui dados de dividendos.\n"
     ]
    },
    {
     "name": "stderr",
     "output_type": "stream",
     "text": [
      "$LUK: possibly delisted; no price data found  (1d 1925-11-29 -> 2024-11-04)\n"
     ]
    },
    {
     "name": "stdout",
     "output_type": "stream",
     "text": [
      "Erro ao carregar dados para LUK: LUK não possui dados de dividendos.\n",
      "Erro ao carregar dados para MAT: MAT não possui dados de dividendos.\n",
      "Erro ao carregar dados para MHK: MHK não possui dados de dividendos.\n",
      "Erro ao carregar dados para MNST: MNST não possui dados de dividendos.\n"
     ]
    },
    {
     "name": "stderr",
     "output_type": "stream",
     "text": [
      "$MON: possibly delisted; no timezone found\n"
     ]
    },
    {
     "name": "stdout",
     "output_type": "stream",
     "text": [
      "Erro ao carregar dados para MON: MON não possui dados de dividendos.\n",
      "Erro ao carregar dados para MTD: MTD não possui dados de dividendos.\n"
     ]
    },
    {
     "name": "stderr",
     "output_type": "stream",
     "text": [
      "$MYL: possibly delisted; no timezone found\n"
     ]
    },
    {
     "name": "stdout",
     "output_type": "stream",
     "text": [
      "Erro ao carregar dados para MYL: MYL não possui dados de dividendos.\n"
     ]
    },
    {
     "name": "stderr",
     "output_type": "stream",
     "text": [
      "$NBL: possibly delisted; no timezone found\n"
     ]
    },
    {
     "name": "stdout",
     "output_type": "stream",
     "text": [
      "Erro ao carregar dados para NBL: NBL não possui dados de dividendos.\n",
      "Erro ao carregar dados para NCLH: NCLH não possui dados de dividendos.\n",
      "Erro ao carregar dados para NFLX: NFLX não possui dados de dividendos.\n",
      "Erro ao carregar dados para NFX: NFX não possui dados de dividendos.\n"
     ]
    },
    {
     "name": "stderr",
     "output_type": "stream",
     "text": [
      "$NLSN: possibly delisted; no timezone found\n"
     ]
    },
    {
     "name": "stdout",
     "output_type": "stream",
     "text": [
      "Erro ao carregar dados para NLSN: NLSN não possui dados de dividendos.\n",
      "Erro ao carregar dados para ORLY: ORLY não possui dados de dividendos.\n"
     ]
    },
    {
     "name": "stderr",
     "output_type": "stream",
     "text": [
      "$PBCT: possibly delisted; no timezone found\n"
     ]
    },
    {
     "name": "stdout",
     "output_type": "stream",
     "text": [
      "Erro ao carregar dados para PBCT: PBCT não possui dados de dividendos.\n",
      "Erro ao carregar dados para PCG: PCG não possui dados de dividendos.\n"
     ]
    },
    {
     "name": "stderr",
     "output_type": "stream",
     "text": [
      "$PCLN: possibly delisted; no price data found  (1d 1925-11-29 -> 2024-11-04)\n"
     ]
    },
    {
     "name": "stdout",
     "output_type": "stream",
     "text": [
      "Erro ao carregar dados para PCLN: PCLN não possui dados de dividendos.\n"
     ]
    },
    {
     "name": "stderr",
     "output_type": "stream",
     "text": [
      "$PKI: possibly delisted; no timezone found\n"
     ]
    },
    {
     "name": "stdout",
     "output_type": "stream",
     "text": [
      "Erro ao carregar dados para PKI: PKI não possui dados de dividendos.\n"
     ]
    },
    {
     "name": "stderr",
     "output_type": "stream",
     "text": [
      "$PXD: possibly delisted; no timezone found\n"
     ]
    },
    {
     "name": "stdout",
     "output_type": "stream",
     "text": [
      "Erro ao carregar dados para PXD: PXD não possui dados de dividendos.\n",
      "Erro ao carregar dados para PYPL: PYPL não possui dados de dividendos.\n",
      "Erro ao carregar dados para QRVO: QRVO não possui dados de dividendos.\n",
      "Erro ao carregar dados para REGN: REGN não possui dados de dividendos.\n"
     ]
    },
    {
     "name": "stderr",
     "output_type": "stream",
     "text": [
      "$RE: possibly delisted; no timezone found\n"
     ]
    },
    {
     "name": "stdout",
     "output_type": "stream",
     "text": [
      "Erro ao carregar dados para RE: RE não possui dados de dividendos.\n"
     ]
    },
    {
     "name": "stderr",
     "output_type": "stream",
     "text": [
      "$RHT: possibly delisted; no timezone found\n"
     ]
    },
    {
     "name": "stdout",
     "output_type": "stream",
     "text": [
      "Erro ao carregar dados para RHT: RHT não possui dados de dividendos.\n"
     ]
    },
    {
     "name": "stderr",
     "output_type": "stream",
     "text": [
      "$RTN: possibly delisted; no timezone found\n"
     ]
    },
    {
     "name": "stdout",
     "output_type": "stream",
     "text": [
      "Erro ao carregar dados para RTN: RTN não possui dados de dividendos.\n",
      "Erro ao carregar dados para SNPS: SNPS não possui dados de dividendos.\n",
      "Erro ao carregar dados para SRCL: SRCL não possui dados de dividendos.\n",
      "Erro ao carregar dados para STI: STI não possui dados de dividendos.\n"
     ]
    },
    {
     "name": "stderr",
     "output_type": "stream",
     "text": [
      "$SYMC: possibly delisted; no timezone found\n"
     ]
    },
    {
     "name": "stdout",
     "output_type": "stream",
     "text": [
      "Erro ao carregar dados para SYMC: SYMC não possui dados de dividendos.\n"
     ]
    },
    {
     "name": "stderr",
     "output_type": "stream",
     "text": [
      "$TIF: possibly delisted; no timezone found\n"
     ]
    },
    {
     "name": "stdout",
     "output_type": "stream",
     "text": [
      "Erro ao carregar dados para TIF: TIF não possui dados de dividendos.\n"
     ]
    },
    {
     "name": "stderr",
     "output_type": "stream",
     "text": [
      "$TMK: possibly delisted; no timezone found\n"
     ]
    },
    {
     "name": "stdout",
     "output_type": "stream",
     "text": [
      "Erro ao carregar dados para TMK: TMK não possui dados de dividendos.\n"
     ]
    },
    {
     "name": "stderr",
     "output_type": "stream",
     "text": [
      "$TSS: possibly delisted; no timezone found\n"
     ]
    },
    {
     "name": "stdout",
     "output_type": "stream",
     "text": [
      "Erro ao carregar dados para TSS: TSS não possui dados de dividendos.\n",
      "Erro ao carregar dados para UAA: UAA não possui dados de dividendos.\n",
      "Erro ao carregar dados para UAL: UAL não possui dados de dividendos.\n",
      "Erro ao carregar dados para UA: UA não possui dados de dividendos.\n",
      "Erro ao carregar dados para ULTA: ULTA não possui dados de dividendos.\n",
      "Erro ao carregar dados para URI: URI não possui dados de dividendos.\n"
     ]
    },
    {
     "name": "stderr",
     "output_type": "stream",
     "text": [
      "$UTX: possibly delisted; no timezone found\n"
     ]
    },
    {
     "name": "stdout",
     "output_type": "stream",
     "text": [
      "Erro ao carregar dados para UTX: UTX não possui dados de dividendos.\n"
     ]
    },
    {
     "name": "stderr",
     "output_type": "stream",
     "text": [
      "$VAR: possibly delisted; no timezone found\n"
     ]
    },
    {
     "name": "stdout",
     "output_type": "stream",
     "text": [
      "Erro ao carregar dados para VAR: VAR não possui dados de dividendos.\n"
     ]
    },
    {
     "name": "stderr",
     "output_type": "stream",
     "text": [
      "$VIAB: possibly delisted; no timezone found\n"
     ]
    },
    {
     "name": "stdout",
     "output_type": "stream",
     "text": [
      "Erro ao carregar dados para VIAB: VIAB não possui dados de dividendos.\n",
      "Erro ao carregar dados para VRSN: VRSN não possui dados de dividendos.\n",
      "Erro ao carregar dados para VRTX: VRTX não possui dados de dividendos.\n",
      "Erro ao carregar dados para WAT: WAT não possui dados de dividendos.\n"
     ]
    },
    {
     "name": "stderr",
     "output_type": "stream",
     "text": [
      "$WLTW: possibly delisted; no timezone found\n"
     ]
    },
    {
     "name": "stdout",
     "output_type": "stream",
     "text": [
      "Erro ao carregar dados para WLTW: WLTW não possui dados de dividendos.\n"
     ]
    },
    {
     "name": "stderr",
     "output_type": "stream",
     "text": [
      "$WRK: possibly delisted; no timezone found\n"
     ]
    },
    {
     "name": "stdout",
     "output_type": "stream",
     "text": [
      "Erro ao carregar dados para WRK: WRK não possui dados de dividendos.\n"
     ]
    },
    {
     "name": "stderr",
     "output_type": "stream",
     "text": [
      "$WYN: possibly delisted; no price data found  (1d 1925-11-29 -> 2024-11-04)\n"
     ]
    },
    {
     "name": "stdout",
     "output_type": "stream",
     "text": [
      "Erro ao carregar dados para WYN: WYN não possui dados de dividendos.\n"
     ]
    },
    {
     "name": "stderr",
     "output_type": "stream",
     "text": [
      "$XEC: possibly delisted; no timezone found\n"
     ]
    },
    {
     "name": "stdout",
     "output_type": "stream",
     "text": [
      "Erro ao carregar dados para XEC: XEC não possui dados de dividendos.\n"
     ]
    },
    {
     "name": "stderr",
     "output_type": "stream",
     "text": [
      "$XLNX: possibly delisted; no timezone found\n"
     ]
    },
    {
     "name": "stdout",
     "output_type": "stream",
     "text": [
      "Erro ao carregar dados para XLNX: XLNX não possui dados de dividendos.\n"
     ]
    },
    {
     "name": "stderr",
     "output_type": "stream",
     "text": [
      "$XL: possibly delisted; no timezone found\n"
     ]
    },
    {
     "name": "stdout",
     "output_type": "stream",
     "text": [
      "Erro ao carregar dados para XL: XL não possui dados de dividendos.\n",
      "Tickers removidos: ['ABC', 'ADBE', 'ADSK', 'ADS', 'AGN', 'AKAM', 'ALGN', 'ALXN', 'AMD', 'AMZN', 'ANSS', 'ANTM', 'APC', 'ARNC', 'ATVI', 'AZO', 'BBT', 'BF.B', 'BHF', 'BHGE', 'BIIB', 'BLL', 'BRK.B', 'BSX', 'CA', 'CBG', 'CBS', 'CDNS', 'CELG', 'CERN', 'CHTR', 'CMG', 'CNC', 'COG', 'COL', 'CRM', 'CTL', 'CTXS', 'CXO', 'DISCA', 'DISCK', 'DISH', 'DLTR', 'DPS', 'DRE', 'DVA', 'DWDP', 'ESRX', 'ETFC', 'EVHC', 'EW', 'FBHS', 'FB', 'FFIV', 'FISV', 'FLIR', 'GGP', 'GOOGL', 'GOOG', 'GPS', 'HCN', 'HCP', 'HOLX', 'HRS', 'HSIC', 'IDXX', 'ILMN', 'INCY', 'INFO', 'IQV', 'ISRG', 'IT', 'JEC', 'KMX', 'KORS', 'KSU', 'LB', 'LLL', 'LUK', 'MAT', 'MHK', 'MNST', 'MON', 'MTD', 'MYL', 'NBL', 'NCLH', 'NFLX', 'NFX', 'NLSN', 'ORLY', 'PBCT', 'PCG', 'PCLN', 'PKI', 'PXD', 'PYPL', 'QRVO', 'REGN', 'RE', 'RHT', 'RTN', 'SNPS', 'SRCL', 'STI', 'SYMC', 'TIF', 'TMK', 'TSS', 'UAA', 'UAL', 'UA', 'ULTA', 'URI', 'UTX', 'VAR', 'VIAB', 'VRSN', 'VRTX', 'WAT', 'WLTW', 'WRK', 'WYN', 'XEC', 'XLNX', 'XL']\n"
     ]
    }
   ],
   "source": [
    "import yfinance as yf\n",
    "import pandas as pd\n",
    "import numpy as np\n",
    "from sklearn.model_selection import train_test_split\n",
    "from sklearn.preprocessing import StandardScaler\n",
    "\n",
    "import matplotlib.pyplot as plt\n",
    "\n",
    "# Listar todos os tickers do dataset S&P 500\n",
    "tickers = pd.read_csv('all_stocks_5yr.csv')['Name'].unique()\n",
    "\n",
    "# Datas de início e fim\n",
    "start_date = \"2018-01-01\"\n",
    "end_date = \"2023-01-01\"\n",
    "dividend_data = pd.DataFrame()\n",
    "\n",
    "# Tickers problemáticos\n",
    "failed_tickers = []\n",
    "\n",
    "for ticker in tickers:\n",
    "    try:\n",
    "        stock = yf.Ticker(ticker)\n",
    "        dividends = stock.dividends.loc[start_date:end_date]\n",
    "        \n",
    "        if dividends.empty:\n",
    "            raise ValueError(f\"{ticker} não possui dados de dividendos.\")\n",
    "        \n",
    "        dividends = dividends.reset_index()\n",
    "        dividends['Ticker'] = ticker\n",
    "        dividend_data = pd.concat([dividend_data, dividends], ignore_index=True)\n",
    "    \n",
    "    except Exception as e:\n",
    "        print(f\"Erro ao carregar dados para {ticker}: {e}\")\n",
    "        failed_tickers.append(ticker)\n",
    "\n",
    "# Remover tickers problemáticos\n",
    "print(f\"Tickers removidos: {failed_tickers}\")\n",
    "\n",
    "# Renomear colunas\n",
    "dividend_data.columns = ['Date', 'Dividends', 'Ticker']\n",
    "\n",
    "# Calcular a Média dos Dividendos dos Últimos 5 Anos\n",
    "average_dividends = dividend_data.groupby('Ticker')['Dividends'].mean().reset_index()\n",
    "average_dividends.columns = ['Ticker', 'AverageDividend']\n",
    "\n",
    "# Criar a Coluna-Alvo `target`\n",
    "average_dividends['target'] = np.where(average_dividends['AverageDividend'] > 0.06, 1, 0)\n",
    "\n",
    "# Preparar Dados para Treino e Teste\n",
    "X = average_dividends[['AverageDividend']].values\n",
    "y = average_dividends['target'].values\n",
    "\n",
    "from sklearn.model_selection import train_test_split\n",
    "from sklearn.preprocessing import StandardScaler\n",
    "\n",
    "# Dividir dados em treino e teste inicialmente\n",
    "X_train, X_temp, y_train, y_temp = train_test_split(X, y, test_size=0.3, random_state=42)\n",
    "\n",
    "# Dividir novamente para obter conjuntos de validação e teste\n",
    "X_val, X_test, y_val, y_test = train_test_split(X_temp, y_temp, test_size=0.5, random_state=42)\n",
    "\n",
    "# Normalizar dados\n",
    "scaler = StandardScaler()\n",
    "X_train = scaler.fit_transform(X_train)\n",
    "X_val = scaler.transform(X_val)\n",
    "X_test = scaler.transform(X_test)\n",
    "\n",
    "\n"
   ]
  },
  {
   "cell_type": "code",
   "execution_count": 6,
   "metadata": {},
   "outputs": [
    {
     "name": "stdout",
     "output_type": "stream",
     "text": [
      "Epoch 1/70\n",
      "\u001b[1m4/4\u001b[0m \u001b[32m━━━━━━━━━━━━━━━━━━━━\u001b[0m\u001b[37m\u001b[0m \u001b[1m1s\u001b[0m 53ms/step - accuracy: 0.9798 - loss: 0.6887 - val_accuracy: 0.9811 - val_loss: 0.6766\n",
      "Epoch 2/70\n",
      "\u001b[1m4/4\u001b[0m \u001b[32m━━━━━━━━━━━━━━━━━━━━\u001b[0m\u001b[37m\u001b[0m \u001b[1m0s\u001b[0m 6ms/step - accuracy: 0.9731 - loss: 0.6752 - val_accuracy: 0.9811 - val_loss: 0.6599\n",
      "Epoch 3/70\n",
      "\u001b[1m4/4\u001b[0m \u001b[32m━━━━━━━━━━━━━━━━━━━━\u001b[0m\u001b[37m\u001b[0m \u001b[1m0s\u001b[0m 6ms/step - accuracy: 0.9715 - loss: 0.6604 - val_accuracy: 0.9811 - val_loss: 0.6407\n",
      "Epoch 4/70\n",
      "\u001b[1m4/4\u001b[0m \u001b[32m━━━━━━━━━━━━━━━━━━━━\u001b[0m\u001b[37m\u001b[0m \u001b[1m0s\u001b[0m 6ms/step - accuracy: 0.9632 - loss: 0.6433 - val_accuracy: 0.9811 - val_loss: 0.6185\n",
      "Epoch 5/70\n",
      "\u001b[1m4/4\u001b[0m \u001b[32m━━━━━━━━━━━━━━━━━━━━\u001b[0m\u001b[37m\u001b[0m \u001b[1m0s\u001b[0m 7ms/step - accuracy: 0.9710 - loss: 0.6216 - val_accuracy: 0.9811 - val_loss: 0.5926\n",
      "Epoch 6/70\n",
      "\u001b[1m4/4\u001b[0m \u001b[32m━━━━━━━━━━━━━━━━━━━━\u001b[0m\u001b[37m\u001b[0m \u001b[1m0s\u001b[0m 6ms/step - accuracy: 0.9606 - loss: 0.5995 - val_accuracy: 0.9811 - val_loss: 0.5624\n",
      "Epoch 7/70\n",
      "\u001b[1m4/4\u001b[0m \u001b[32m━━━━━━━━━━━━━━━━━━━━\u001b[0m\u001b[37m\u001b[0m \u001b[1m0s\u001b[0m 6ms/step - accuracy: 0.9663 - loss: 0.5680 - val_accuracy: 0.9811 - val_loss: 0.5271\n",
      "Epoch 8/70\n",
      "\u001b[1m4/4\u001b[0m \u001b[32m━━━━━━━━━━━━━━━━━━━━\u001b[0m\u001b[37m\u001b[0m \u001b[1m0s\u001b[0m 7ms/step - accuracy: 0.9699 - loss: 0.5332 - val_accuracy: 0.9811 - val_loss: 0.4863\n",
      "Epoch 9/70\n",
      "\u001b[1m4/4\u001b[0m \u001b[32m━━━━━━━━━━━━━━━━━━━━\u001b[0m\u001b[37m\u001b[0m \u001b[1m0s\u001b[0m 6ms/step - accuracy: 0.9658 - loss: 0.4918 - val_accuracy: 0.9811 - val_loss: 0.4399\n",
      "Epoch 10/70\n",
      "\u001b[1m4/4\u001b[0m \u001b[32m━━━━━━━━━━━━━━━━━━━━\u001b[0m\u001b[37m\u001b[0m \u001b[1m0s\u001b[0m 6ms/step - accuracy: 0.9663 - loss: 0.4464 - val_accuracy: 0.9811 - val_loss: 0.3886\n",
      "Epoch 11/70\n",
      "\u001b[1m4/4\u001b[0m \u001b[32m━━━━━━━━━━━━━━━━━━━━\u001b[0m\u001b[37m\u001b[0m \u001b[1m0s\u001b[0m 6ms/step - accuracy: 0.9725 - loss: 0.3918 - val_accuracy: 0.9811 - val_loss: 0.3335\n",
      "Epoch 12/70\n",
      "\u001b[1m4/4\u001b[0m \u001b[32m━━━━━━━━━━━━━━━━━━━━\u001b[0m\u001b[37m\u001b[0m \u001b[1m0s\u001b[0m 6ms/step - accuracy: 0.9762 - loss: 0.3304 - val_accuracy: 0.9811 - val_loss: 0.2779\n",
      "Epoch 13/70\n",
      "\u001b[1m4/4\u001b[0m \u001b[32m━━━━━━━━━━━━━━━━━━━━\u001b[0m\u001b[37m\u001b[0m \u001b[1m0s\u001b[0m 6ms/step - accuracy: 0.9783 - loss: 0.2721 - val_accuracy: 0.9811 - val_loss: 0.2264\n",
      "Epoch 14/70\n",
      "\u001b[1m4/4\u001b[0m \u001b[32m━━━━━━━━━━━━━━━━━━━━\u001b[0m\u001b[37m\u001b[0m \u001b[1m0s\u001b[0m 7ms/step - accuracy: 0.9699 - loss: 0.2421 - val_accuracy: 0.9811 - val_loss: 0.1847\n",
      "Epoch 15/70\n",
      "\u001b[1m4/4\u001b[0m \u001b[32m━━━━━━━━━━━━━━━━━━━━\u001b[0m\u001b[37m\u001b[0m \u001b[1m0s\u001b[0m 7ms/step - accuracy: 0.9772 - loss: 0.1869 - val_accuracy: 0.9811 - val_loss: 0.1533\n",
      "Epoch 16/70\n",
      "\u001b[1m4/4\u001b[0m \u001b[32m━━━━━━━━━━━━━━━━━━━━\u001b[0m\u001b[37m\u001b[0m \u001b[1m0s\u001b[0m 6ms/step - accuracy: 0.9699 - loss: 0.1785 - val_accuracy: 0.9811 - val_loss: 0.1335\n",
      "Epoch 17/70\n",
      "\u001b[1m4/4\u001b[0m \u001b[32m━━━━━━━━━━━━━━━━━━━━\u001b[0m\u001b[37m\u001b[0m \u001b[1m0s\u001b[0m 7ms/step - accuracy: 0.9699 - loss: 0.1681 - val_accuracy: 0.9811 - val_loss: 0.1217\n",
      "Epoch 18/70\n",
      "\u001b[1m4/4\u001b[0m \u001b[32m━━━━━━━━━━━━━━━━━━━━\u001b[0m\u001b[37m\u001b[0m \u001b[1m0s\u001b[0m 7ms/step - accuracy: 0.9684 - loss: 0.1685 - val_accuracy: 0.9811 - val_loss: 0.1153\n",
      "Epoch 19/70\n",
      "\u001b[1m4/4\u001b[0m \u001b[32m━━━━━━━━━━━━━━━━━━━━\u001b[0m\u001b[37m\u001b[0m \u001b[1m0s\u001b[0m 6ms/step - accuracy: 0.9762 - loss: 0.1352 - val_accuracy: 0.9811 - val_loss: 0.1119\n",
      "Epoch 20/70\n",
      "\u001b[1m4/4\u001b[0m \u001b[32m━━━━━━━━━━━━━━━━━━━━\u001b[0m\u001b[37m\u001b[0m \u001b[1m0s\u001b[0m 6ms/step - accuracy: 0.9725 - loss: 0.1485 - val_accuracy: 0.9811 - val_loss: 0.1094\n",
      "Epoch 21/70\n",
      "\u001b[1m4/4\u001b[0m \u001b[32m━━━━━━━━━━━━━━━━━━━━\u001b[0m\u001b[37m\u001b[0m \u001b[1m0s\u001b[0m 10ms/step - accuracy: 0.9809 - loss: 0.1087 - val_accuracy: 0.9811 - val_loss: 0.1068\n",
      "Epoch 22/70\n",
      "\u001b[1m4/4\u001b[0m \u001b[32m━━━━━━━━━━━━━━━━━━━━\u001b[0m\u001b[37m\u001b[0m \u001b[1m0s\u001b[0m 7ms/step - accuracy: 0.9684 - loss: 0.1615 - val_accuracy: 0.9811 - val_loss: 0.1042\n",
      "Epoch 23/70\n",
      "\u001b[1m4/4\u001b[0m \u001b[32m━━━━━━━━━━━━━━━━━━━━\u001b[0m\u001b[37m\u001b[0m \u001b[1m0s\u001b[0m 6ms/step - accuracy: 0.9731 - loss: 0.1362 - val_accuracy: 0.9811 - val_loss: 0.1022\n",
      "Epoch 24/70\n",
      "\u001b[1m4/4\u001b[0m \u001b[32m━━━━━━━━━━━━━━━━━━━━\u001b[0m\u001b[37m\u001b[0m \u001b[1m0s\u001b[0m 7ms/step - accuracy: 0.9767 - loss: 0.1190 - val_accuracy: 0.9811 - val_loss: 0.1004\n",
      "Epoch 25/70\n",
      "\u001b[1m4/4\u001b[0m \u001b[32m━━━━━━━━━━━━━━━━━━━━\u001b[0m\u001b[37m\u001b[0m \u001b[1m0s\u001b[0m 7ms/step - accuracy: 0.9731 - loss: 0.1302 - val_accuracy: 0.9811 - val_loss: 0.0989\n",
      "Epoch 26/70\n",
      "\u001b[1m4/4\u001b[0m \u001b[32m━━━━━━━━━━━━━━━━━━━━\u001b[0m\u001b[37m\u001b[0m \u001b[1m0s\u001b[0m 7ms/step - accuracy: 0.9741 - loss: 0.1235 - val_accuracy: 0.9811 - val_loss: 0.0973\n",
      "Epoch 27/70\n",
      "\u001b[1m4/4\u001b[0m \u001b[32m━━━━━━━━━━━━━━━━━━━━\u001b[0m\u001b[37m\u001b[0m \u001b[1m0s\u001b[0m 6ms/step - accuracy: 0.9725 - loss: 0.1268 - val_accuracy: 0.9811 - val_loss: 0.0956\n",
      "Epoch 28/70\n",
      "\u001b[1m4/4\u001b[0m \u001b[32m━━━━━━━━━━━━━━━━━━━━\u001b[0m\u001b[37m\u001b[0m \u001b[1m0s\u001b[0m 6ms/step - accuracy: 0.9710 - loss: 0.1298 - val_accuracy: 0.9811 - val_loss: 0.0937\n",
      "Epoch 29/70\n",
      "\u001b[1m4/4\u001b[0m \u001b[32m━━━━━━━━━━━━━━━━━━━━\u001b[0m\u001b[37m\u001b[0m \u001b[1m0s\u001b[0m 7ms/step - accuracy: 0.9762 - loss: 0.1104 - val_accuracy: 0.9811 - val_loss: 0.0917\n",
      "Epoch 30/70\n",
      "\u001b[1m4/4\u001b[0m \u001b[32m━━━━━━━━━━━━━━━━━━━━\u001b[0m\u001b[37m\u001b[0m \u001b[1m0s\u001b[0m 6ms/step - accuracy: 0.9710 - loss: 0.1249 - val_accuracy: 0.9811 - val_loss: 0.0895\n",
      "Epoch 31/70\n",
      "\u001b[1m4/4\u001b[0m \u001b[32m━━━━━━━━━━━━━━━━━━━━\u001b[0m\u001b[37m\u001b[0m \u001b[1m0s\u001b[0m 6ms/step - accuracy: 0.9757 - loss: 0.1080 - val_accuracy: 0.9811 - val_loss: 0.0875\n",
      "Epoch 32/70\n",
      "\u001b[1m4/4\u001b[0m \u001b[32m━━━━━━━━━━━━━━━━━━━━\u001b[0m\u001b[37m\u001b[0m \u001b[1m0s\u001b[0m 6ms/step - accuracy: 0.9746 - loss: 0.1098 - val_accuracy: 0.9811 - val_loss: 0.0856\n",
      "Epoch 33/70\n",
      "\u001b[1m4/4\u001b[0m \u001b[32m━━━━━━━━━━━━━━━━━━━━\u001b[0m\u001b[37m\u001b[0m \u001b[1m0s\u001b[0m 6ms/step - accuracy: 0.9699 - loss: 0.1223 - val_accuracy: 0.9811 - val_loss: 0.0837\n",
      "Epoch 34/70\n",
      "\u001b[1m4/4\u001b[0m \u001b[32m━━━━━━━━━━━━━━━━━━━━\u001b[0m\u001b[37m\u001b[0m \u001b[1m0s\u001b[0m 7ms/step - accuracy: 0.9715 - loss: 0.1152 - val_accuracy: 0.9811 - val_loss: 0.0818\n",
      "Epoch 35/70\n",
      "\u001b[1m4/4\u001b[0m \u001b[32m━━━━━━━━━━━━━━━━━━━━\u001b[0m\u001b[37m\u001b[0m \u001b[1m0s\u001b[0m 7ms/step - accuracy: 0.9762 - loss: 0.0991 - val_accuracy: 0.9811 - val_loss: 0.0802\n",
      "Epoch 36/70\n",
      "\u001b[1m4/4\u001b[0m \u001b[32m━━━━━━━━━━━━━━━━━━━━\u001b[0m\u001b[37m\u001b[0m \u001b[1m0s\u001b[0m 7ms/step - accuracy: 0.9777 - loss: 0.0914 - val_accuracy: 0.9811 - val_loss: 0.0788\n",
      "Epoch 37/70\n",
      "\u001b[1m4/4\u001b[0m \u001b[32m━━━━━━━━━━━━━━━━━━━━\u001b[0m\u001b[37m\u001b[0m \u001b[1m0s\u001b[0m 6ms/step - accuracy: 0.9731 - loss: 0.1052 - val_accuracy: 0.9811 - val_loss: 0.0775\n",
      "Epoch 38/70\n",
      "\u001b[1m4/4\u001b[0m \u001b[32m━━━━━━━━━━━━━━━━━━━━\u001b[0m\u001b[37m\u001b[0m \u001b[1m0s\u001b[0m 6ms/step - accuracy: 0.9652 - loss: 0.1284 - val_accuracy: 0.9811 - val_loss: 0.0763\n",
      "Epoch 39/70\n",
      "\u001b[1m4/4\u001b[0m \u001b[32m━━━━━━━━━━━━━━━━━━━━\u001b[0m\u001b[37m\u001b[0m \u001b[1m0s\u001b[0m 6ms/step - accuracy: 0.9684 - loss: 0.1169 - val_accuracy: 0.9811 - val_loss: 0.0750\n",
      "Epoch 40/70\n",
      "\u001b[1m4/4\u001b[0m \u001b[32m━━━━━━━━━━━━━━━━━━━━\u001b[0m\u001b[37m\u001b[0m \u001b[1m0s\u001b[0m 6ms/step - accuracy: 0.9699 - loss: 0.1102 - val_accuracy: 0.9811 - val_loss: 0.0738\n",
      "Epoch 41/70\n",
      "\u001b[1m4/4\u001b[0m \u001b[32m━━━━━━━━━━━━━━━━━━━━\u001b[0m\u001b[37m\u001b[0m \u001b[1m0s\u001b[0m 6ms/step - accuracy: 0.9652 - loss: 0.1222 - val_accuracy: 0.9811 - val_loss: 0.0726\n",
      "Epoch 42/70\n",
      "\u001b[1m4/4\u001b[0m \u001b[32m━━━━━━━━━━━━━━━━━━━━\u001b[0m\u001b[37m\u001b[0m \u001b[1m0s\u001b[0m 7ms/step - accuracy: 0.9731 - loss: 0.0995 - val_accuracy: 0.9811 - val_loss: 0.0714\n",
      "Epoch 43/70\n",
      "\u001b[1m4/4\u001b[0m \u001b[32m━━━━━━━━━━━━━━━━━━━━\u001b[0m\u001b[37m\u001b[0m \u001b[1m0s\u001b[0m 6ms/step - accuracy: 0.9725 - loss: 0.0984 - val_accuracy: 0.9811 - val_loss: 0.0703\n",
      "Epoch 44/70\n",
      "\u001b[1m4/4\u001b[0m \u001b[32m━━━━━━━━━━━━━━━━━━━━\u001b[0m\u001b[37m\u001b[0m \u001b[1m0s\u001b[0m 6ms/step - accuracy: 0.9668 - loss: 0.1127 - val_accuracy: 0.9811 - val_loss: 0.0694\n",
      "Epoch 45/70\n",
      "\u001b[1m4/4\u001b[0m \u001b[32m━━━━━━━━━━━━━━━━━━━━\u001b[0m\u001b[37m\u001b[0m \u001b[1m0s\u001b[0m 6ms/step - accuracy: 0.9668 - loss: 0.1111 - val_accuracy: 0.9811 - val_loss: 0.0684\n",
      "Epoch 46/70\n",
      "\u001b[1m4/4\u001b[0m \u001b[32m━━━━━━━━━━━━━━━━━━━━\u001b[0m\u001b[37m\u001b[0m \u001b[1m0s\u001b[0m 6ms/step - accuracy: 0.9684 - loss: 0.1043 - val_accuracy: 0.9811 - val_loss: 0.0671\n",
      "Epoch 47/70\n",
      "\u001b[1m4/4\u001b[0m \u001b[32m━━━━━━━━━━━━━━━━━━━━\u001b[0m\u001b[37m\u001b[0m \u001b[1m0s\u001b[0m 7ms/step - accuracy: 0.9663 - loss: 0.1083 - val_accuracy: 0.9811 - val_loss: 0.0659\n",
      "Epoch 48/70\n",
      "\u001b[1m4/4\u001b[0m \u001b[32m━━━━━━━━━━━━━━━━━━━━\u001b[0m\u001b[37m\u001b[0m \u001b[1m0s\u001b[0m 6ms/step - accuracy: 0.9710 - loss: 0.0942 - val_accuracy: 0.9811 - val_loss: 0.0649\n",
      "Epoch 49/70\n",
      "\u001b[1m4/4\u001b[0m \u001b[32m━━━━━━━━━━━━━━━━━━━━\u001b[0m\u001b[37m\u001b[0m \u001b[1m0s\u001b[0m 7ms/step - accuracy: 0.9621 - loss: 0.1172 - val_accuracy: 0.9811 - val_loss: 0.0642\n",
      "Epoch 50/70\n",
      "\u001b[1m4/4\u001b[0m \u001b[32m━━━━━━━━━━━━━━━━━━━━\u001b[0m\u001b[37m\u001b[0m \u001b[1m0s\u001b[0m 6ms/step - accuracy: 0.9715 - loss: 0.0911 - val_accuracy: 0.9811 - val_loss: 0.0630\n",
      "Epoch 51/70\n",
      "\u001b[1m4/4\u001b[0m \u001b[32m━━━━━━━━━━━━━━━━━━━━\u001b[0m\u001b[37m\u001b[0m \u001b[1m0s\u001b[0m 7ms/step - accuracy: 0.9663 - loss: 0.1019 - val_accuracy: 0.9811 - val_loss: 0.0618\n",
      "Epoch 52/70\n",
      "\u001b[1m4/4\u001b[0m \u001b[32m━━━━━━━━━━━━━━━━━━━━\u001b[0m\u001b[37m\u001b[0m \u001b[1m0s\u001b[0m 7ms/step - accuracy: 0.9741 - loss: 0.0818 - val_accuracy: 0.9811 - val_loss: 0.0608\n",
      "Epoch 53/70\n",
      "\u001b[1m4/4\u001b[0m \u001b[32m━━━━━━━━━━━━━━━━━━━━\u001b[0m\u001b[37m\u001b[0m \u001b[1m0s\u001b[0m 7ms/step - accuracy: 0.9746 - loss: 0.0797 - val_accuracy: 0.9811 - val_loss: 0.0599\n",
      "Epoch 54/70\n",
      "\u001b[1m4/4\u001b[0m \u001b[32m━━━━━━━━━━━━━━━━━━━━\u001b[0m\u001b[37m\u001b[0m \u001b[1m0s\u001b[0m 6ms/step - accuracy: 0.9746 - loss: 0.0777 - val_accuracy: 0.9811 - val_loss: 0.0588\n",
      "Epoch 55/70\n",
      "\u001b[1m4/4\u001b[0m \u001b[32m━━━━━━━━━━━━━━━━━━━━\u001b[0m\u001b[37m\u001b[0m \u001b[1m0s\u001b[0m 6ms/step - accuracy: 0.9746 - loss: 0.0763 - val_accuracy: 0.9811 - val_loss: 0.0575\n",
      "Epoch 56/70\n",
      "\u001b[1m4/4\u001b[0m \u001b[32m━━━━━━━━━━━━━━━━━━━━\u001b[0m\u001b[37m\u001b[0m \u001b[1m0s\u001b[0m 7ms/step - accuracy: 0.9710 - loss: 0.0845 - val_accuracy: 0.9811 - val_loss: 0.0563\n",
      "Epoch 57/70\n",
      "\u001b[1m4/4\u001b[0m \u001b[32m━━━━━━━━━━━━━━━━━━━━\u001b[0m\u001b[37m\u001b[0m \u001b[1m0s\u001b[0m 6ms/step - accuracy: 0.9803 - loss: 0.0619 - val_accuracy: 0.9811 - val_loss: 0.0554\n",
      "Epoch 58/70\n",
      "\u001b[1m4/4\u001b[0m \u001b[32m━━━━━━━━━━━━━━━━━━━━\u001b[0m\u001b[37m\u001b[0m \u001b[1m0s\u001b[0m 6ms/step - accuracy: 0.9731 - loss: 0.0768 - val_accuracy: 0.9811 - val_loss: 0.0545\n",
      "Epoch 59/70\n",
      "\u001b[1m4/4\u001b[0m \u001b[32m━━━━━━━━━━━━━━━━━━━━\u001b[0m\u001b[37m\u001b[0m \u001b[1m0s\u001b[0m 6ms/step - accuracy: 0.9767 - loss: 0.0693 - val_accuracy: 0.9811 - val_loss: 0.0534\n",
      "Epoch 60/70\n",
      "\u001b[1m4/4\u001b[0m \u001b[32m━━━━━━━━━━━━━━━━━━━━\u001b[0m\u001b[37m\u001b[0m \u001b[1m0s\u001b[0m 7ms/step - accuracy: 0.9715 - loss: 0.0780 - val_accuracy: 0.9811 - val_loss: 0.0528\n",
      "Epoch 61/70\n",
      "\u001b[1m4/4\u001b[0m \u001b[32m━━━━━━━━━━━━━━━━━━━━\u001b[0m\u001b[37m\u001b[0m \u001b[1m0s\u001b[0m 6ms/step - accuracy: 0.9757 - loss: 0.0673 - val_accuracy: 0.9811 - val_loss: 0.0517\n",
      "Epoch 62/70\n",
      "\u001b[1m4/4\u001b[0m \u001b[32m━━━━━━━━━━━━━━━━━━━━\u001b[0m\u001b[37m\u001b[0m \u001b[1m0s\u001b[0m 6ms/step - accuracy: 0.9772 - loss: 0.0635 - val_accuracy: 0.9811 - val_loss: 0.0506\n",
      "Epoch 63/70\n",
      "\u001b[1m4/4\u001b[0m \u001b[32m━━━━━━━━━━━━━━━━━━━━\u001b[0m\u001b[37m\u001b[0m \u001b[1m0s\u001b[0m 6ms/step - accuracy: 0.9762 - loss: 0.0662 - val_accuracy: 0.9811 - val_loss: 0.0498\n",
      "Epoch 64/70\n",
      "\u001b[1m4/4\u001b[0m \u001b[32m━━━━━━━━━━━━━━━━━━━━\u001b[0m\u001b[37m\u001b[0m \u001b[1m0s\u001b[0m 6ms/step - accuracy: 0.9694 - loss: 0.0764 - val_accuracy: 0.9811 - val_loss: 0.0482\n",
      "Epoch 65/70\n",
      "\u001b[1m4/4\u001b[0m \u001b[32m━━━━━━━━━━━━━━━━━━━━\u001b[0m\u001b[37m\u001b[0m \u001b[1m0s\u001b[0m 6ms/step - accuracy: 0.9699 - loss: 0.0727 - val_accuracy: 0.9811 - val_loss: 0.0470\n",
      "Epoch 66/70\n",
      "\u001b[1m4/4\u001b[0m \u001b[32m━━━━━━━━━━━━━━━━━━━━\u001b[0m\u001b[37m\u001b[0m \u001b[1m0s\u001b[0m 6ms/step - accuracy: 0.9772 - loss: 0.0620 - val_accuracy: 0.9811 - val_loss: 0.0450\n",
      "Epoch 67/70\n",
      "\u001b[1m4/4\u001b[0m \u001b[32m━━━━━━━━━━━━━━━━━━━━\u001b[0m\u001b[37m\u001b[0m \u001b[1m0s\u001b[0m 10ms/step - accuracy: 0.9678 - loss: 0.0731 - val_accuracy: 0.9811 - val_loss: 0.0432\n",
      "Epoch 68/70\n",
      "\u001b[1m4/4\u001b[0m \u001b[32m━━━━━━━━━━━━━━━━━━━━\u001b[0m\u001b[37m\u001b[0m \u001b[1m0s\u001b[0m 6ms/step - accuracy: 0.9731 - loss: 0.0584 - val_accuracy: 0.9811 - val_loss: 0.0414\n",
      "Epoch 69/70\n",
      "\u001b[1m4/4\u001b[0m \u001b[32m━━━━━━━━━━━━━━━━━━━━\u001b[0m\u001b[37m\u001b[0m \u001b[1m0s\u001b[0m 6ms/step - accuracy: 0.9694 - loss: 0.0679 - val_accuracy: 0.9811 - val_loss: 0.0397\n",
      "Epoch 70/70\n",
      "\u001b[1m4/4\u001b[0m \u001b[32m━━━━━━━━━━━━━━━━━━━━\u001b[0m\u001b[37m\u001b[0m \u001b[1m0s\u001b[0m 6ms/step - accuracy: 0.9668 - loss: 0.0707 - val_accuracy: 0.9811 - val_loss: 0.0384\n"
     ]
    }
   ],
   "source": [
    "\n",
    "from tensorflow.keras.models import Sequential\n",
    "from tensorflow.keras.layers import Dense, Conv1D, LSTM, Flatten, Dropout, Input\n",
    "from tensorflow.keras.optimizers import Adam\n",
    "from tensorflow.keras.callbacks import EarlyStopping\n",
    "\n",
    "# Novo modelo\n",
    "model = Sequential([\n",
    "    Input(shape=(X_train.shape[1], 1)),   # Definindo a forma de entrada usando a camada Input\n",
    "    Conv1D(filters=64, kernel_size=1, activation='relu', input_shape=(X_train.shape[1], 1)),  # Camada convolucional 1D\n",
    "    LSTM(128, return_sequences=True),     # Camada LSTM\n",
    "    #Dropout(0.2),                         # Regularização com Dropout\n",
    "    Flatten(),                            # Aplanamento para entrada na camada densa\n",
    "    Dense(64, activation='relu'),         # Camada densa com mais neurônios\n",
    "    Dense(32, activation='relu'),         # Outra camada densa\n",
    "    Dense(1, activation='sigmoid')        # Camada de saída para classificação binária\n",
    "])\n",
    "\n",
    "# Compilando o modelo com uma taxa de aprendizado reduzida para estabilidade\n",
    "optimizer = Adam(learning_rate=0.0005)\n",
    "model.compile(optimizer=optimizer, loss='binary_crossentropy', metrics=['accuracy'])\n",
    "\n",
    "# EarlyStopping para interromper o treinamento se a perda de validação não melhorar\n",
    "early_stopping = EarlyStopping(monitor='val_loss', patience=10, restore_best_weights=True)\n",
    "\n",
    "# Treinando o modelo\n",
    "history = model.fit(X_train, y_train, \n",
    "                    epochs=70, \n",
    "                    batch_size=64,  \n",
    "                    validation_split=0.2, \n",
    "                    verbose=1, \n",
    "                    callbacks=[early_stopping])\n"
   ]
  },
  {
   "cell_type": "markdown",
   "metadata": {},
   "source": [
    "Graficos"
   ]
  },
  {
   "cell_type": "code",
   "execution_count": 7,
   "metadata": {},
   "outputs": [
    {
     "name": "stdout",
     "output_type": "stream",
     "text": [
      "\u001b[1m2/2\u001b[0m \u001b[32m━━━━━━━━━━━━━━━━━━━━\u001b[0m\u001b[37m\u001b[0m \u001b[1m0s\u001b[0m 3ms/step - accuracy: 0.9220 - loss: 0.1318\n",
      "Acurácia do modelo: 92.98%\n",
      "\u001b[1m2/2\u001b[0m \u001b[32m━━━━━━━━━━━━━━━━━━━━\u001b[0m\u001b[37m\u001b[0m \u001b[1m0s\u001b[0m 95ms/step\n",
      "Classes previstas: [1 1 1 1 1 1 1 1 1 1 1 1 1 1 1 1 1 1 1 1 1 1 1 1 1 1 1 1 1 1 1 1 1 1 1 1 1\n",
      " 1 1 1 1 1 1 1 1 1 1 1 1 1 1 1 1 1 1 1 1]\n",
      "Classes reais: [1 1 1 1 1 1 1 1 1 1 1 1 1 1 1 0 0 1 1 1 1 1 1 1 1 1 1 1 0 1 1 1 1 1 1 1 1\n",
      " 1 1 1 1 1 1 1 1 1 1 0 1 1 1 1 1 1 1 1 1]\n"
     ]
    },
    {
     "data": {
      "image/png": "[encoded data removed]",
      "text/plain": [
       "<Figure size 640x480 with 1 Axes>"
      ]
     },
     "metadata": {},
     "output_type": "display_data"
    },
    {
     "data": {
      "image/png": "[encoded data removed]",
      "text/plain": [
       "<Figure size 640x480 with 1 Axes>"
      ]
     },
     "metadata": {},
     "output_type": "display_data"
    }
   ],
   "source": [
    "# Avaliar a Precisão do Modelo\n",
    "loss, accuracy = model.evaluate(X_test, y_test)\n",
    "print(f\"Acurácia do modelo: {accuracy * 100:.2f}%\")\n",
    "\n",
    "# Previsões\n",
    "predictions = model.predict(X_test)\n",
    "predicted_classes = (predictions > 0.5).astype(int)\n",
    "print(\"Classes previstas:\", predicted_classes.flatten())\n",
    "print(\"Classes reais:\", y_test)\n",
    "\n",
    "# Visualização do Treinamento\n",
    "plt.plot(history.history['loss'], label='Treinamento Loss')\n",
    "plt.plot(history.history['val_loss'], label='Validação Loss')\n",
    "plt.title('Loss durante o treinamento')\n",
    "plt.xlabel('Épocas')\n",
    "plt.ylabel('Loss')\n",
    "plt.legend()\n",
    "plt.show()\n",
    "# Gráfico de acurácia\n",
    "plt.plot(history.history['accuracy'], label='Acurácia Treino')\n",
    "plt.plot(history.history['val_accuracy'], label='Acurácia Validação')\n",
    "plt.xlabel('Épocas')\n",
    "plt.ylabel('Acurácia')\n",
    "plt.legend()\n",
    "plt.show()\n",
    "\n",
    "# # Gráfico de perda\n",
    "# plt.plot(history.history['loss'], label='Perda Treino')\n",
    "# plt.plot(history.history['val_loss'], label='Perda Validação')\n",
    "# plt.xlabel('Épocas')\n",
    "# plt.ylabel('Perda')\n",
    "# plt.legend()\n",
    "# plt.show()\n"
   ]
  },
  {
   "cell_type": "markdown",
   "metadata": {},
   "source": [
    "Validação do modelo"
   ]
  },
  {
   "cell_type": "code",
   "execution_count": 8,
   "metadata": {},
   "outputs": [
    {
     "name": "stdout",
     "output_type": "stream",
     "text": [
      "\u001b[1m2/2\u001b[0m \u001b[32m━━━━━━━━━━━━━━━━━━━━\u001b[0m\u001b[37m\u001b[0m \u001b[1m0s\u001b[0m 3ms/step - accuracy: 0.9220 - loss: 0.1318\n",
      "Loss no teste: 0.11917906999588013\n",
      "Acurácia no teste: 0.9298245906829834\n"
     ]
    }
   ],
   "source": [
    "# Avaliação no conjunto de teste\n",
    "loss, accuracy = model.evaluate(X_test, y_test)\n",
    "print(f'Loss no teste: {loss}')\n",
    "print(f'Acurácia no teste: {accuracy}')\n"
   ]
  },
  {
   "cell_type": "code",
   "execution_count": 9,
   "metadata": {},
   "outputs": [
    {
     "name": "stdout",
     "output_type": "stream",
     "text": [
      "Número de amostras no treino: 265\n",
      "Número de amostras na validação: 57\n"
     ]
    }
   ],
   "source": [
    "# Exibir o número de amostras no treino e na validação\n",
    "print(\"Número de amostras no treino:\", len(X_train))\n",
    "print(\"Número de amostras na validação:\", len(X_val))\n"
   ]
  }
 ],
 "metadata": {
  "kernelspec": {
   "display_name": "ManchineLearning",
   "language": "python",
   "name": "python3"
  },
  "language_info": {
   "codemirror_mode": {
    "name": "ipython",
    "version": 3
   },
   "file_extension": ".py",
   "mimetype": "text/x-python",
   "name": "python",
   "nbconvert_exporter": "python",
   "pygments_lexer": "ipython3",
   "version": "3.9.18"
  }
 },
 "nbformat": 4,
 "nbformat_minor": 2
}
