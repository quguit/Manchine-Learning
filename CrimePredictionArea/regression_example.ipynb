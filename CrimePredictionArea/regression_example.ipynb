{
  "nbformat": 4,
  "nbformat_minor": 0,
  "metadata": {
    "colab": {
      "provenance": []
    },
    "kernelspec": {
      "name": "python3",
      "display_name": "Python 3"
    },
    "language_info": {
      "name": "python"
    }
  },
  "cells": [
    {
      "cell_type": "code",
      "source": [
        "from tensorflow import keras\n",
        "from keras.models import Sequential\n",
        "from keras.layers import Dense, Activation\n",
        "\n",
        "import numpy as np\n"
      ],
      "metadata": {
        "id": "nbcAMqXvIHDK"
      },
      "execution_count": 1,
      "outputs": []
    },
    {
      "cell_type": "code",
      "execution_count": 2,
      "metadata": {
        "colab": {
          "base_uri": "https://localhost:8080/"
        },
        "id": "7RFfwOVHFICx",
        "outputId": "e7b802f3-1286-4e48-9fcd-fefb951dc607"
      },
      "outputs": [
        {
          "output_type": "execute_result",
          "data": {
            "text/plain": [
              "array([[ 1, 53],\n",
              "       [ 5, 74],\n",
              "       [ 7, 59],\n",
              "       [ 8, 43],\n",
              "       [10, 56],\n",
              "       [11, 84],\n",
              "       [14, 96],\n",
              "       [15, 69],\n",
              "       [15, 84],\n",
              "       [19, 83]])"
            ]
          },
          "metadata": {},
          "execution_count": 2
        }
      ],
      "source": [
        "data = [[1, 53],\n",
        "[5,74],\n",
        "[7,59],\n",
        "[8,43],\n",
        "[10,56],\n",
        "[11,84],\n",
        "[14,96],\n",
        "[15,69],\n",
        "[15,84],\n",
        "[19,83]]\n",
        "\n",
        "data = np.array(data)\n",
        "data"
      ]
    },
    {
      "cell_type": "code",
      "source": [
        "model = Sequential()\n",
        "\n",
        "model.add(Dense(64, input_shape=(1,), activation='relu'))\n",
        "model.add(Dense(64, activation=\"tanh\"))\n",
        "model.add(Dense(18, activation=\"relu\"))\n",
        "model.add(Dense(1, activation='linear'))\n",
        "\n",
        "model.compile(loss='mse', optimizer='RMSProp', metrics=['mean_absolute_error', 'mse'])"
      ],
      "metadata": {
        "id": "CbZt85PhGRUV"
      },
      "execution_count": 24,
      "outputs": []
    },
    {
      "cell_type": "code",
      "source": [
        "X = data[:, 0]\n",
        "\n",
        "y = data[:, 1]"
      ],
      "metadata": {
        "id": "Ze2j4Mn3I40v"
      },
      "execution_count": 25,
      "outputs": []
    },
    {
      "cell_type": "code",
      "source": [
        "batch_size = 1\n",
        "epochs = 200\n",
        "\n",
        "history = model.fit(X, y,\n",
        "                    batch_size=batch_size,\n",
        "                    epochs=epochs,\n",
        "                    verbose=1)"
      ],
      "metadata": {
        "colab": {
          "base_uri": "https://localhost:8080/"
        },
        "id": "ZW3K2azLIOZl",
        "outputId": "5ba1c49b-bd88-43dd-ce93-b1fbba286158"
      },
      "execution_count": 26,
      "outputs": [
        {
          "output_type": "stream",
          "name": "stdout",
          "text": [
            "Epoch 1/200\n",
            "10/10 [==============================] - 1s 4ms/step - loss: 4958.4092 - mean_absolute_error: 68.3888 - mse: 4958.4092\n",
            "Epoch 2/200\n",
            "10/10 [==============================] - 0s 4ms/step - loss: 4334.4272 - mean_absolute_error: 63.9186 - mse: 4334.4272\n",
            "Epoch 3/200\n",
            "10/10 [==============================] - 0s 4ms/step - loss: 3890.8608 - mean_absolute_error: 60.4782 - mse: 3890.8608\n",
            "Epoch 4/200\n",
            "10/10 [==============================] - 0s 2ms/step - loss: 3571.8267 - mean_absolute_error: 57.8682 - mse: 3571.8267\n",
            "Epoch 5/200\n",
            "10/10 [==============================] - 0s 2ms/step - loss: 3300.0632 - mean_absolute_error: 55.5383 - mse: 3300.0632\n",
            "Epoch 6/200\n",
            "10/10 [==============================] - 0s 2ms/step - loss: 3051.3057 - mean_absolute_error: 53.1361 - mse: 3051.3057\n",
            "Epoch 7/200\n",
            "10/10 [==============================] - 0s 2ms/step - loss: 2813.2163 - mean_absolute_error: 50.8921 - mse: 2813.2163\n",
            "Epoch 8/200\n",
            "10/10 [==============================] - 0s 2ms/step - loss: 2583.2534 - mean_absolute_error: 48.4497 - mse: 2583.2534\n",
            "Epoch 9/200\n",
            "10/10 [==============================] - 0s 4ms/step - loss: 2361.9277 - mean_absolute_error: 46.0133 - mse: 2361.9277\n",
            "Epoch 10/200\n",
            "10/10 [==============================] - 0s 3ms/step - loss: 2148.3901 - mean_absolute_error: 43.7099 - mse: 2148.3901\n",
            "Epoch 11/200\n",
            "10/10 [==============================] - 0s 3ms/step - loss: 1924.1713 - mean_absolute_error: 41.3103 - mse: 1924.1713\n",
            "Epoch 12/200\n",
            "10/10 [==============================] - 0s 3ms/step - loss: 1721.9004 - mean_absolute_error: 38.5638 - mse: 1721.9004\n",
            "Epoch 13/200\n",
            "10/10 [==============================] - 0s 2ms/step - loss: 1532.5881 - mean_absolute_error: 36.0062 - mse: 1532.5881\n",
            "Epoch 14/200\n",
            "10/10 [==============================] - 0s 2ms/step - loss: 1345.6373 - mean_absolute_error: 33.4880 - mse: 1345.6373\n",
            "Epoch 15/200\n",
            "10/10 [==============================] - 0s 2ms/step - loss: 1172.8593 - mean_absolute_error: 30.7386 - mse: 1172.8593\n",
            "Epoch 16/200\n",
            "10/10 [==============================] - 0s 2ms/step - loss: 1016.3210 - mean_absolute_error: 28.2262 - mse: 1016.3210\n",
            "Epoch 17/200\n",
            "10/10 [==============================] - 0s 2ms/step - loss: 875.5799 - mean_absolute_error: 25.9148 - mse: 875.5799\n",
            "Epoch 18/200\n",
            "10/10 [==============================] - 0s 2ms/step - loss: 750.6589 - mean_absolute_error: 23.9037 - mse: 750.6589\n",
            "Epoch 19/200\n",
            "10/10 [==============================] - 0s 2ms/step - loss: 641.5800 - mean_absolute_error: 21.9474 - mse: 641.5800\n",
            "Epoch 20/200\n",
            "10/10 [==============================] - 0s 2ms/step - loss: 546.6908 - mean_absolute_error: 19.8707 - mse: 546.6908\n",
            "Epoch 21/200\n",
            "10/10 [==============================] - 0s 3ms/step - loss: 466.6288 - mean_absolute_error: 18.1502 - mse: 466.6288\n",
            "Epoch 22/200\n",
            "10/10 [==============================] - 0s 2ms/step - loss: 401.3300 - mean_absolute_error: 16.8126 - mse: 401.3300\n",
            "Epoch 23/200\n",
            "10/10 [==============================] - 0s 2ms/step - loss: 349.6698 - mean_absolute_error: 15.7797 - mse: 349.6698\n",
            "Epoch 24/200\n",
            "10/10 [==============================] - 0s 2ms/step - loss: 312.8265 - mean_absolute_error: 15.0130 - mse: 312.8265\n",
            "Epoch 25/200\n",
            "10/10 [==============================] - 0s 2ms/step - loss: 287.8716 - mean_absolute_error: 14.1263 - mse: 287.8716\n",
            "Epoch 26/200\n",
            "10/10 [==============================] - 0s 2ms/step - loss: 268.5542 - mean_absolute_error: 13.7037 - mse: 268.5542\n",
            "Epoch 27/200\n",
            "10/10 [==============================] - 0s 2ms/step - loss: 255.9039 - mean_absolute_error: 13.4765 - mse: 255.9039\n",
            "Epoch 28/200\n",
            "10/10 [==============================] - 0s 2ms/step - loss: 247.7079 - mean_absolute_error: 13.0287 - mse: 247.7079\n",
            "Epoch 29/200\n",
            "10/10 [==============================] - 0s 2ms/step - loss: 241.3420 - mean_absolute_error: 12.8415 - mse: 241.3420\n",
            "Epoch 30/200\n",
            "10/10 [==============================] - 0s 2ms/step - loss: 238.4144 - mean_absolute_error: 12.8489 - mse: 238.4144\n",
            "Epoch 31/200\n",
            "10/10 [==============================] - 0s 2ms/step - loss: 236.7738 - mean_absolute_error: 12.7736 - mse: 236.7738\n",
            "Epoch 32/200\n",
            "10/10 [==============================] - 0s 2ms/step - loss: 234.4541 - mean_absolute_error: 12.6812 - mse: 234.4541\n",
            "Epoch 33/200\n",
            "10/10 [==============================] - 0s 2ms/step - loss: 233.1668 - mean_absolute_error: 12.4518 - mse: 233.1668\n",
            "Epoch 34/200\n",
            "10/10 [==============================] - 0s 2ms/step - loss: 232.5479 - mean_absolute_error: 12.3031 - mse: 232.5479\n",
            "Epoch 35/200\n",
            "10/10 [==============================] - 0s 2ms/step - loss: 233.3049 - mean_absolute_error: 12.5912 - mse: 233.3049\n",
            "Epoch 36/200\n",
            "10/10 [==============================] - 0s 2ms/step - loss: 232.5755 - mean_absolute_error: 12.3366 - mse: 232.5755\n",
            "Epoch 37/200\n",
            "10/10 [==============================] - 0s 2ms/step - loss: 232.2736 - mean_absolute_error: 12.3870 - mse: 232.2736\n",
            "Epoch 38/200\n",
            "10/10 [==============================] - 0s 3ms/step - loss: 232.1815 - mean_absolute_error: 12.5133 - mse: 232.1815\n",
            "Epoch 39/200\n",
            "10/10 [==============================] - 0s 2ms/step - loss: 232.1814 - mean_absolute_error: 12.5022 - mse: 232.1814\n",
            "Epoch 40/200\n",
            "10/10 [==============================] - 0s 2ms/step - loss: 231.4069 - mean_absolute_error: 12.4860 - mse: 231.4069\n",
            "Epoch 41/200\n",
            "10/10 [==============================] - 0s 2ms/step - loss: 232.4233 - mean_absolute_error: 12.3506 - mse: 232.4233\n",
            "Epoch 42/200\n",
            "10/10 [==============================] - 0s 2ms/step - loss: 232.2076 - mean_absolute_error: 12.4081 - mse: 232.2076\n",
            "Epoch 43/200\n",
            "10/10 [==============================] - 0s 2ms/step - loss: 232.7161 - mean_absolute_error: 12.4203 - mse: 232.7161\n",
            "Epoch 44/200\n",
            "10/10 [==============================] - 0s 2ms/step - loss: 232.5272 - mean_absolute_error: 12.4529 - mse: 232.5272\n",
            "Epoch 45/200\n",
            "10/10 [==============================] - 0s 2ms/step - loss: 231.0572 - mean_absolute_error: 12.4053 - mse: 231.0572\n",
            "Epoch 46/200\n",
            "10/10 [==============================] - 0s 3ms/step - loss: 231.8510 - mean_absolute_error: 12.3370 - mse: 231.8510\n",
            "Epoch 47/200\n",
            "10/10 [==============================] - 0s 2ms/step - loss: 232.6842 - mean_absolute_error: 12.4230 - mse: 232.6842\n",
            "Epoch 48/200\n",
            "10/10 [==============================] - 0s 2ms/step - loss: 231.9130 - mean_absolute_error: 12.4554 - mse: 231.9130\n",
            "Epoch 49/200\n",
            "10/10 [==============================] - 0s 2ms/step - loss: 232.3036 - mean_absolute_error: 12.4497 - mse: 232.3036\n",
            "Epoch 50/200\n",
            "10/10 [==============================] - 0s 2ms/step - loss: 232.1100 - mean_absolute_error: 12.3925 - mse: 232.1100\n",
            "Epoch 51/200\n",
            "10/10 [==============================] - 0s 2ms/step - loss: 232.7858 - mean_absolute_error: 12.3687 - mse: 232.7858\n",
            "Epoch 52/200\n",
            "10/10 [==============================] - 0s 3ms/step - loss: 231.3023 - mean_absolute_error: 12.4753 - mse: 231.3023\n",
            "Epoch 53/200\n",
            "10/10 [==============================] - 0s 4ms/step - loss: 233.1153 - mean_absolute_error: 12.4578 - mse: 233.1153\n",
            "Epoch 54/200\n",
            "10/10 [==============================] - 0s 3ms/step - loss: 232.6221 - mean_absolute_error: 12.3438 - mse: 232.6221\n",
            "Epoch 55/200\n",
            "10/10 [==============================] - 0s 3ms/step - loss: 231.6117 - mean_absolute_error: 12.5131 - mse: 231.6117\n",
            "Epoch 56/200\n",
            "10/10 [==============================] - 0s 3ms/step - loss: 231.2184 - mean_absolute_error: 12.4395 - mse: 231.2184\n",
            "Epoch 57/200\n",
            "10/10 [==============================] - 0s 4ms/step - loss: 232.7430 - mean_absolute_error: 12.4136 - mse: 232.7430\n",
            "Epoch 58/200\n",
            "10/10 [==============================] - 0s 3ms/step - loss: 232.4205 - mean_absolute_error: 12.2954 - mse: 232.4205\n",
            "Epoch 59/200\n",
            "10/10 [==============================] - 0s 4ms/step - loss: 231.8605 - mean_absolute_error: 12.5076 - mse: 231.8605\n",
            "Epoch 60/200\n",
            "10/10 [==============================] - 0s 3ms/step - loss: 232.7233 - mean_absolute_error: 12.3377 - mse: 232.7233\n",
            "Epoch 61/200\n",
            "10/10 [==============================] - 0s 3ms/step - loss: 230.9177 - mean_absolute_error: 12.4898 - mse: 230.9177\n",
            "Epoch 62/200\n",
            "10/10 [==============================] - 0s 3ms/step - loss: 230.3591 - mean_absolute_error: 12.4847 - mse: 230.3591\n",
            "Epoch 63/200\n",
            "10/10 [==============================] - 0s 3ms/step - loss: 230.3960 - mean_absolute_error: 12.4567 - mse: 230.3960\n",
            "Epoch 64/200\n",
            "10/10 [==============================] - 0s 3ms/step - loss: 228.6152 - mean_absolute_error: 12.4067 - mse: 228.6152\n",
            "Epoch 65/200\n",
            "10/10 [==============================] - 0s 3ms/step - loss: 229.8710 - mean_absolute_error: 12.5025 - mse: 229.8710\n",
            "Epoch 66/200\n",
            "10/10 [==============================] - 0s 3ms/step - loss: 227.8174 - mean_absolute_error: 12.2396 - mse: 227.8174\n",
            "Epoch 67/200\n",
            "10/10 [==============================] - 0s 3ms/step - loss: 229.1564 - mean_absolute_error: 12.5435 - mse: 229.1564\n",
            "Epoch 68/200\n",
            "10/10 [==============================] - 0s 3ms/step - loss: 228.1289 - mean_absolute_error: 12.3559 - mse: 228.1289\n",
            "Epoch 69/200\n",
            "10/10 [==============================] - 0s 3ms/step - loss: 229.2807 - mean_absolute_error: 12.4263 - mse: 229.2807\n",
            "Epoch 70/200\n",
            "10/10 [==============================] - 0s 3ms/step - loss: 227.8071 - mean_absolute_error: 12.2437 - mse: 227.8071\n",
            "Epoch 71/200\n",
            "10/10 [==============================] - 0s 3ms/step - loss: 227.3138 - mean_absolute_error: 12.3673 - mse: 227.3138\n",
            "Epoch 72/200\n",
            "10/10 [==============================] - 0s 3ms/step - loss: 227.0712 - mean_absolute_error: 12.5038 - mse: 227.0712\n",
            "Epoch 73/200\n",
            "10/10 [==============================] - 0s 3ms/step - loss: 226.4626 - mean_absolute_error: 12.2634 - mse: 226.4626\n",
            "Epoch 74/200\n",
            "10/10 [==============================] - 0s 3ms/step - loss: 226.7807 - mean_absolute_error: 12.1906 - mse: 226.7807\n",
            "Epoch 75/200\n",
            "10/10 [==============================] - 0s 3ms/step - loss: 227.1485 - mean_absolute_error: 12.3515 - mse: 227.1485\n",
            "Epoch 76/200\n",
            "10/10 [==============================] - 0s 3ms/step - loss: 226.5060 - mean_absolute_error: 12.3372 - mse: 226.5060\n",
            "Epoch 77/200\n",
            "10/10 [==============================] - 0s 3ms/step - loss: 225.8162 - mean_absolute_error: 12.3924 - mse: 225.8162\n",
            "Epoch 78/200\n",
            "10/10 [==============================] - 0s 3ms/step - loss: 226.2666 - mean_absolute_error: 12.3940 - mse: 226.2666\n",
            "Epoch 79/200\n",
            "10/10 [==============================] - 0s 3ms/step - loss: 224.1862 - mean_absolute_error: 12.2499 - mse: 224.1862\n",
            "Epoch 80/200\n",
            "10/10 [==============================] - 0s 3ms/step - loss: 224.4121 - mean_absolute_error: 12.3415 - mse: 224.4121\n",
            "Epoch 81/200\n",
            "10/10 [==============================] - 0s 3ms/step - loss: 225.1052 - mean_absolute_error: 12.3987 - mse: 225.1052\n",
            "Epoch 82/200\n",
            "10/10 [==============================] - 0s 3ms/step - loss: 224.1456 - mean_absolute_error: 12.3034 - mse: 224.1456\n",
            "Epoch 83/200\n",
            "10/10 [==============================] - 0s 3ms/step - loss: 223.3298 - mean_absolute_error: 12.2833 - mse: 223.3298\n",
            "Epoch 84/200\n",
            "10/10 [==============================] - 0s 3ms/step - loss: 225.3671 - mean_absolute_error: 12.2220 - mse: 225.3671\n",
            "Epoch 85/200\n",
            "10/10 [==============================] - 0s 3ms/step - loss: 223.0905 - mean_absolute_error: 12.2423 - mse: 223.0905\n",
            "Epoch 86/200\n",
            "10/10 [==============================] - 0s 3ms/step - loss: 222.7015 - mean_absolute_error: 12.1859 - mse: 222.7015\n",
            "Epoch 87/200\n",
            "10/10 [==============================] - 0s 4ms/step - loss: 223.5910 - mean_absolute_error: 12.3584 - mse: 223.5910\n",
            "Epoch 88/200\n",
            "10/10 [==============================] - 0s 3ms/step - loss: 221.0069 - mean_absolute_error: 12.2894 - mse: 221.0069\n",
            "Epoch 89/200\n",
            "10/10 [==============================] - 0s 3ms/step - loss: 221.5408 - mean_absolute_error: 12.2206 - mse: 221.5408\n",
            "Epoch 90/200\n",
            "10/10 [==============================] - 0s 3ms/step - loss: 222.0137 - mean_absolute_error: 12.3244 - mse: 222.0137\n",
            "Epoch 91/200\n",
            "10/10 [==============================] - 0s 3ms/step - loss: 222.9198 - mean_absolute_error: 12.4062 - mse: 222.9198\n",
            "Epoch 92/200\n",
            "10/10 [==============================] - 0s 3ms/step - loss: 222.9373 - mean_absolute_error: 12.3898 - mse: 222.9373\n",
            "Epoch 93/200\n",
            "10/10 [==============================] - 0s 3ms/step - loss: 220.4573 - mean_absolute_error: 12.2833 - mse: 220.4573\n",
            "Epoch 94/200\n",
            "10/10 [==============================] - 0s 3ms/step - loss: 220.8497 - mean_absolute_error: 12.3933 - mse: 220.8497\n",
            "Epoch 95/200\n",
            "10/10 [==============================] - 0s 3ms/step - loss: 221.0259 - mean_absolute_error: 12.1594 - mse: 221.0259\n",
            "Epoch 96/200\n",
            "10/10 [==============================] - 0s 4ms/step - loss: 218.5506 - mean_absolute_error: 12.5776 - mse: 218.5506\n",
            "Epoch 97/200\n",
            "10/10 [==============================] - 0s 4ms/step - loss: 220.4398 - mean_absolute_error: 12.2973 - mse: 220.4398\n",
            "Epoch 98/200\n",
            "10/10 [==============================] - 0s 3ms/step - loss: 220.1849 - mean_absolute_error: 12.1378 - mse: 220.1849\n",
            "Epoch 99/200\n",
            "10/10 [==============================] - 0s 3ms/step - loss: 220.1746 - mean_absolute_error: 12.3183 - mse: 220.1746\n",
            "Epoch 100/200\n",
            "10/10 [==============================] - 0s 4ms/step - loss: 220.5440 - mean_absolute_error: 12.3306 - mse: 220.5440\n",
            "Epoch 101/200\n",
            "10/10 [==============================] - 0s 4ms/step - loss: 219.3111 - mean_absolute_error: 12.3190 - mse: 219.3111\n",
            "Epoch 102/200\n",
            "10/10 [==============================] - 0s 4ms/step - loss: 218.5407 - mean_absolute_error: 12.4639 - mse: 218.5407\n",
            "Epoch 103/200\n",
            "10/10 [==============================] - 0s 3ms/step - loss: 219.0210 - mean_absolute_error: 12.2068 - mse: 219.0210\n",
            "Epoch 104/200\n",
            "10/10 [==============================] - 0s 4ms/step - loss: 217.5648 - mean_absolute_error: 12.1719 - mse: 217.5648\n",
            "Epoch 105/200\n",
            "10/10 [==============================] - 0s 4ms/step - loss: 219.1718 - mean_absolute_error: 12.2936 - mse: 219.1718\n",
            "Epoch 106/200\n",
            "10/10 [==============================] - 0s 3ms/step - loss: 217.1937 - mean_absolute_error: 12.3190 - mse: 217.1937\n",
            "Epoch 107/200\n",
            "10/10 [==============================] - 0s 3ms/step - loss: 219.5134 - mean_absolute_error: 12.2499 - mse: 219.5134\n",
            "Epoch 108/200\n",
            "10/10 [==============================] - 0s 3ms/step - loss: 218.6091 - mean_absolute_error: 12.1582 - mse: 218.6091\n",
            "Epoch 109/200\n",
            "10/10 [==============================] - 0s 3ms/step - loss: 217.9591 - mean_absolute_error: 12.2905 - mse: 217.9591\n",
            "Epoch 110/200\n",
            "10/10 [==============================] - 0s 4ms/step - loss: 219.0143 - mean_absolute_error: 12.2256 - mse: 219.0143\n",
            "Epoch 111/200\n",
            "10/10 [==============================] - 0s 3ms/step - loss: 216.6366 - mean_absolute_error: 12.1461 - mse: 216.6366\n",
            "Epoch 112/200\n",
            "10/10 [==============================] - 0s 3ms/step - loss: 218.0150 - mean_absolute_error: 12.1966 - mse: 218.0150\n",
            "Epoch 113/200\n",
            "10/10 [==============================] - 0s 3ms/step - loss: 216.0414 - mean_absolute_error: 12.3435 - mse: 216.0414\n",
            "Epoch 114/200\n",
            "10/10 [==============================] - 0s 3ms/step - loss: 216.8547 - mean_absolute_error: 12.2892 - mse: 216.8547\n",
            "Epoch 115/200\n",
            "10/10 [==============================] - 0s 4ms/step - loss: 217.9628 - mean_absolute_error: 12.2058 - mse: 217.9628\n",
            "Epoch 116/200\n",
            "10/10 [==============================] - 0s 4ms/step - loss: 215.6773 - mean_absolute_error: 12.1688 - mse: 215.6773\n",
            "Epoch 117/200\n",
            "10/10 [==============================] - 0s 4ms/step - loss: 217.5189 - mean_absolute_error: 12.1291 - mse: 217.5189\n",
            "Epoch 118/200\n",
            "10/10 [==============================] - 0s 4ms/step - loss: 215.7165 - mean_absolute_error: 12.2684 - mse: 215.7165\n",
            "Epoch 119/200\n",
            "10/10 [==============================] - 0s 3ms/step - loss: 214.9165 - mean_absolute_error: 12.4297 - mse: 214.9165\n",
            "Epoch 120/200\n",
            "10/10 [==============================] - 0s 3ms/step - loss: 216.1424 - mean_absolute_error: 12.1526 - mse: 216.1424\n",
            "Epoch 121/200\n",
            "10/10 [==============================] - 0s 3ms/step - loss: 216.2725 - mean_absolute_error: 12.2747 - mse: 216.2725\n",
            "Epoch 122/200\n",
            "10/10 [==============================] - 0s 3ms/step - loss: 215.8849 - mean_absolute_error: 12.2136 - mse: 215.8849\n",
            "Epoch 123/200\n",
            "10/10 [==============================] - 0s 4ms/step - loss: 212.8196 - mean_absolute_error: 12.5320 - mse: 212.8196\n",
            "Epoch 124/200\n",
            "10/10 [==============================] - 0s 3ms/step - loss: 213.5111 - mean_absolute_error: 12.1409 - mse: 213.5111\n",
            "Epoch 125/200\n",
            "10/10 [==============================] - 0s 3ms/step - loss: 213.0441 - mean_absolute_error: 11.8034 - mse: 213.0441\n",
            "Epoch 126/200\n",
            "10/10 [==============================] - 0s 3ms/step - loss: 215.1203 - mean_absolute_error: 12.3698 - mse: 215.1203\n",
            "Epoch 127/200\n",
            "10/10 [==============================] - 0s 3ms/step - loss: 215.0443 - mean_absolute_error: 12.3406 - mse: 215.0443\n",
            "Epoch 128/200\n",
            "10/10 [==============================] - 0s 5ms/step - loss: 212.4780 - mean_absolute_error: 12.2777 - mse: 212.4780\n",
            "Epoch 129/200\n",
            "10/10 [==============================] - 0s 4ms/step - loss: 212.4816 - mean_absolute_error: 12.1815 - mse: 212.4816\n",
            "Epoch 130/200\n",
            "10/10 [==============================] - 0s 3ms/step - loss: 212.7456 - mean_absolute_error: 12.0270 - mse: 212.7456\n",
            "Epoch 131/200\n",
            "10/10 [==============================] - 0s 3ms/step - loss: 213.9900 - mean_absolute_error: 12.1273 - mse: 213.9900\n",
            "Epoch 132/200\n",
            "10/10 [==============================] - 0s 3ms/step - loss: 215.2768 - mean_absolute_error: 12.2588 - mse: 215.2768\n",
            "Epoch 133/200\n",
            "10/10 [==============================] - 0s 3ms/step - loss: 212.5303 - mean_absolute_error: 12.0640 - mse: 212.5303\n",
            "Epoch 134/200\n",
            "10/10 [==============================] - 0s 3ms/step - loss: 211.8655 - mean_absolute_error: 11.8500 - mse: 211.8655\n",
            "Epoch 135/200\n",
            "10/10 [==============================] - 0s 4ms/step - loss: 214.1269 - mean_absolute_error: 12.1677 - mse: 214.1269\n",
            "Epoch 136/200\n",
            "10/10 [==============================] - 0s 4ms/step - loss: 213.3822 - mean_absolute_error: 12.2269 - mse: 213.3822\n",
            "Epoch 137/200\n",
            "10/10 [==============================] - 0s 4ms/step - loss: 205.6689 - mean_absolute_error: 12.0242 - mse: 205.6689\n",
            "Epoch 138/200\n",
            "10/10 [==============================] - 0s 3ms/step - loss: 212.0586 - mean_absolute_error: 12.4348 - mse: 212.0586\n",
            "Epoch 139/200\n",
            "10/10 [==============================] - 0s 3ms/step - loss: 212.8347 - mean_absolute_error: 12.1786 - mse: 212.8347\n",
            "Epoch 140/200\n",
            "10/10 [==============================] - 0s 3ms/step - loss: 213.4849 - mean_absolute_error: 12.2223 - mse: 213.4849\n",
            "Epoch 141/200\n",
            "10/10 [==============================] - 0s 3ms/step - loss: 213.9843 - mean_absolute_error: 11.9603 - mse: 213.9843\n",
            "Epoch 142/200\n",
            "10/10 [==============================] - 0s 3ms/step - loss: 211.0216 - mean_absolute_error: 12.0085 - mse: 211.0216\n",
            "Epoch 143/200\n",
            "10/10 [==============================] - 0s 3ms/step - loss: 213.7009 - mean_absolute_error: 12.0339 - mse: 213.7009\n",
            "Epoch 144/200\n",
            "10/10 [==============================] - 0s 3ms/step - loss: 213.5049 - mean_absolute_error: 11.9747 - mse: 213.5049\n",
            "Epoch 145/200\n",
            "10/10 [==============================] - 0s 3ms/step - loss: 211.1583 - mean_absolute_error: 11.8688 - mse: 211.1583\n",
            "Epoch 146/200\n",
            "10/10 [==============================] - 0s 3ms/step - loss: 211.3361 - mean_absolute_error: 12.1583 - mse: 211.3361\n",
            "Epoch 147/200\n",
            "10/10 [==============================] - 0s 3ms/step - loss: 210.2199 - mean_absolute_error: 12.1294 - mse: 210.2199\n",
            "Epoch 148/200\n",
            "10/10 [==============================] - 0s 3ms/step - loss: 210.4707 - mean_absolute_error: 12.2429 - mse: 210.4707\n",
            "Epoch 149/200\n",
            "10/10 [==============================] - 0s 3ms/step - loss: 211.0373 - mean_absolute_error: 12.3155 - mse: 211.0373\n",
            "Epoch 150/200\n",
            "10/10 [==============================] - 0s 3ms/step - loss: 204.6173 - mean_absolute_error: 11.7010 - mse: 204.6173\n",
            "Epoch 151/200\n",
            "10/10 [==============================] - 0s 3ms/step - loss: 214.3147 - mean_absolute_error: 12.2872 - mse: 214.3147\n",
            "Epoch 152/200\n",
            "10/10 [==============================] - 0s 3ms/step - loss: 207.8034 - mean_absolute_error: 11.9655 - mse: 207.8034\n",
            "Epoch 153/200\n",
            "10/10 [==============================] - 0s 3ms/step - loss: 210.2664 - mean_absolute_error: 12.0199 - mse: 210.2664\n",
            "Epoch 154/200\n",
            "10/10 [==============================] - 0s 3ms/step - loss: 205.4084 - mean_absolute_error: 11.8192 - mse: 205.4084\n",
            "Epoch 155/200\n",
            "10/10 [==============================] - 0s 3ms/step - loss: 212.4969 - mean_absolute_error: 12.0108 - mse: 212.4969\n",
            "Epoch 156/200\n",
            "10/10 [==============================] - 0s 3ms/step - loss: 212.1377 - mean_absolute_error: 12.0827 - mse: 212.1377\n",
            "Epoch 157/200\n",
            "10/10 [==============================] - 0s 3ms/step - loss: 210.6380 - mean_absolute_error: 11.9587 - mse: 210.6380\n",
            "Epoch 158/200\n",
            "10/10 [==============================] - 0s 4ms/step - loss: 211.2457 - mean_absolute_error: 11.9975 - mse: 211.2457\n",
            "Epoch 159/200\n",
            "10/10 [==============================] - 0s 3ms/step - loss: 210.7461 - mean_absolute_error: 11.7865 - mse: 210.7461\n",
            "Epoch 160/200\n",
            "10/10 [==============================] - 0s 3ms/step - loss: 209.3743 - mean_absolute_error: 11.8683 - mse: 209.3743\n",
            "Epoch 161/200\n",
            "10/10 [==============================] - 0s 3ms/step - loss: 206.5872 - mean_absolute_error: 11.8757 - mse: 206.5872\n",
            "Epoch 162/200\n",
            "10/10 [==============================] - 0s 3ms/step - loss: 211.0652 - mean_absolute_error: 11.9209 - mse: 211.0652\n",
            "Epoch 163/200\n",
            "10/10 [==============================] - 0s 3ms/step - loss: 206.5354 - mean_absolute_error: 11.7978 - mse: 206.5354\n",
            "Epoch 164/200\n",
            "10/10 [==============================] - 0s 3ms/step - loss: 211.0781 - mean_absolute_error: 12.1859 - mse: 211.0781\n",
            "Epoch 165/200\n",
            "10/10 [==============================] - 0s 3ms/step - loss: 208.8922 - mean_absolute_error: 12.1641 - mse: 208.8922\n",
            "Epoch 166/200\n",
            "10/10 [==============================] - 0s 3ms/step - loss: 209.9770 - mean_absolute_error: 12.0911 - mse: 209.9770\n",
            "Epoch 167/200\n",
            "10/10 [==============================] - 0s 3ms/step - loss: 208.6859 - mean_absolute_error: 11.9602 - mse: 208.6859\n",
            "Epoch 168/200\n",
            "10/10 [==============================] - 0s 3ms/step - loss: 208.9108 - mean_absolute_error: 12.1927 - mse: 208.9108\n",
            "Epoch 169/200\n",
            "10/10 [==============================] - 0s 3ms/step - loss: 210.2190 - mean_absolute_error: 11.9422 - mse: 210.2190\n",
            "Epoch 170/200\n",
            "10/10 [==============================] - 0s 4ms/step - loss: 208.8399 - mean_absolute_error: 12.0784 - mse: 208.8399\n",
            "Epoch 171/200\n",
            "10/10 [==============================] - 0s 3ms/step - loss: 206.5305 - mean_absolute_error: 11.9058 - mse: 206.5305\n",
            "Epoch 172/200\n",
            "10/10 [==============================] - 0s 3ms/step - loss: 210.8271 - mean_absolute_error: 12.0460 - mse: 210.8271\n",
            "Epoch 173/200\n",
            "10/10 [==============================] - 0s 4ms/step - loss: 210.1977 - mean_absolute_error: 12.2074 - mse: 210.1977\n",
            "Epoch 174/200\n",
            "10/10 [==============================] - 0s 4ms/step - loss: 207.3519 - mean_absolute_error: 11.9053 - mse: 207.3519\n",
            "Epoch 175/200\n",
            "10/10 [==============================] - 0s 3ms/step - loss: 207.9537 - mean_absolute_error: 11.9621 - mse: 207.9537\n",
            "Epoch 176/200\n",
            "10/10 [==============================] - 0s 3ms/step - loss: 205.3026 - mean_absolute_error: 11.8229 - mse: 205.3026\n",
            "Epoch 177/200\n",
            "10/10 [==============================] - 0s 3ms/step - loss: 206.2893 - mean_absolute_error: 11.9925 - mse: 206.2893\n",
            "Epoch 178/200\n",
            "10/10 [==============================] - 0s 3ms/step - loss: 209.0052 - mean_absolute_error: 12.0140 - mse: 209.0052\n",
            "Epoch 179/200\n",
            "10/10 [==============================] - 0s 3ms/step - loss: 204.8208 - mean_absolute_error: 11.4726 - mse: 204.8208\n",
            "Epoch 180/200\n",
            "10/10 [==============================] - 0s 3ms/step - loss: 210.0406 - mean_absolute_error: 12.1161 - mse: 210.0406\n",
            "Epoch 181/200\n",
            "10/10 [==============================] - 0s 3ms/step - loss: 207.6346 - mean_absolute_error: 11.9806 - mse: 207.6346\n",
            "Epoch 182/200\n",
            "10/10 [==============================] - 0s 3ms/step - loss: 209.9614 - mean_absolute_error: 12.0475 - mse: 209.9614\n",
            "Epoch 183/200\n",
            "10/10 [==============================] - 0s 4ms/step - loss: 205.8811 - mean_absolute_error: 12.0367 - mse: 205.8811\n",
            "Epoch 184/200\n",
            "10/10 [==============================] - 0s 4ms/step - loss: 207.1546 - mean_absolute_error: 12.1823 - mse: 207.1546\n",
            "Epoch 185/200\n",
            "10/10 [==============================] - 0s 4ms/step - loss: 204.7694 - mean_absolute_error: 12.0810 - mse: 204.7694\n",
            "Epoch 186/200\n",
            "10/10 [==============================] - 0s 3ms/step - loss: 206.9064 - mean_absolute_error: 11.9124 - mse: 206.9064\n",
            "Epoch 187/200\n",
            "10/10 [==============================] - 0s 3ms/step - loss: 209.5269 - mean_absolute_error: 12.0928 - mse: 209.5269\n",
            "Epoch 188/200\n",
            "10/10 [==============================] - 0s 3ms/step - loss: 205.6599 - mean_absolute_error: 12.0072 - mse: 205.6599\n",
            "Epoch 189/200\n",
            "10/10 [==============================] - 0s 3ms/step - loss: 206.3874 - mean_absolute_error: 12.0870 - mse: 206.3874\n",
            "Epoch 190/200\n",
            "10/10 [==============================] - 0s 3ms/step - loss: 207.2534 - mean_absolute_error: 11.9687 - mse: 207.2534\n",
            "Epoch 191/200\n",
            "10/10 [==============================] - 0s 3ms/step - loss: 208.8620 - mean_absolute_error: 11.9219 - mse: 208.8620\n",
            "Epoch 192/200\n",
            "10/10 [==============================] - 0s 3ms/step - loss: 205.7927 - mean_absolute_error: 12.0225 - mse: 205.7927\n",
            "Epoch 193/200\n",
            "10/10 [==============================] - 0s 4ms/step - loss: 206.4869 - mean_absolute_error: 12.1560 - mse: 206.4869\n",
            "Epoch 194/200\n",
            "10/10 [==============================] - 0s 4ms/step - loss: 208.1210 - mean_absolute_error: 12.0464 - mse: 208.1210\n",
            "Epoch 195/200\n",
            "10/10 [==============================] - 0s 3ms/step - loss: 204.6280 - mean_absolute_error: 12.2648 - mse: 204.6280\n",
            "Epoch 196/200\n",
            "10/10 [==============================] - 0s 3ms/step - loss: 205.8599 - mean_absolute_error: 11.9711 - mse: 205.8599\n",
            "Epoch 197/200\n",
            "10/10 [==============================] - 0s 3ms/step - loss: 203.9457 - mean_absolute_error: 11.8554 - mse: 203.9457\n",
            "Epoch 198/200\n",
            "10/10 [==============================] - 0s 3ms/step - loss: 206.8155 - mean_absolute_error: 12.0042 - mse: 206.8155\n",
            "Epoch 199/200\n",
            "10/10 [==============================] - 0s 3ms/step - loss: 205.5985 - mean_absolute_error: 11.9698 - mse: 205.5985\n",
            "Epoch 200/200\n",
            "10/10 [==============================] - 0s 3ms/step - loss: 205.2299 - mean_absolute_error: 12.1581 - mse: 205.2299\n"
          ]
        }
      ]
    },
    {
      "cell_type": "code",
      "source": [
        "from sklearn.linear_model import LinearRegression, LogisticRegression"
      ],
      "metadata": {
        "id": "eEzRd5UvKM6P"
      },
      "execution_count": 14,
      "outputs": []
    },
    {
      "cell_type": "code",
      "source": [
        "X = np.array(X).reshape((-1, 1))"
      ],
      "metadata": {
        "id": "MBX9GOjEKZ8h"
      },
      "execution_count": 9,
      "outputs": []
    },
    {
      "cell_type": "code",
      "source": [
        "modelo = LinearRegression()\n",
        "\n",
        "modelo.fit(X,y)"
      ],
      "metadata": {
        "colab": {
          "base_uri": "https://localhost:8080/",
          "height": 75
        },
        "id": "8Hnd5PoxKQQe",
        "outputId": "c33746b6-de8d-44f6-dd51-3d6d8bd47494"
      },
      "execution_count": 10,
      "outputs": [
        {
          "output_type": "execute_result",
          "data": {
            "text/plain": [
              "LinearRegression()"
            ],
            "text/html": [
              "<style>#sk-container-id-1 {color: black;background-color: white;}#sk-container-id-1 pre{padding: 0;}#sk-container-id-1 div.sk-toggleable {background-color: white;}#sk-container-id-1 label.sk-toggleable__label {cursor: pointer;display: block;width: 100%;margin-bottom: 0;padding: 0.3em;box-sizing: border-box;text-align: center;}#sk-container-id-1 label.sk-toggleable__label-arrow:before {content: \"▸\";float: left;margin-right: 0.25em;color: #696969;}#sk-container-id-1 label.sk-toggleable__label-arrow:hover:before {color: black;}#sk-container-id-1 div.sk-estimator:hover label.sk-toggleable__label-arrow:before {color: black;}#sk-container-id-1 div.sk-toggleable__content {max-height: 0;max-width: 0;overflow: hidden;text-align: left;background-color: #f0f8ff;}#sk-container-id-1 div.sk-toggleable__content pre {margin: 0.2em;color: black;border-radius: 0.25em;background-color: #f0f8ff;}#sk-container-id-1 input.sk-toggleable__control:checked~div.sk-toggleable__content {max-height: 200px;max-width: 100%;overflow: auto;}#sk-container-id-1 input.sk-toggleable__control:checked~label.sk-toggleable__label-arrow:before {content: \"▾\";}#sk-container-id-1 div.sk-estimator input.sk-toggleable__control:checked~label.sk-toggleable__label {background-color: #d4ebff;}#sk-container-id-1 div.sk-label input.sk-toggleable__control:checked~label.sk-toggleable__label {background-color: #d4ebff;}#sk-container-id-1 input.sk-hidden--visually {border: 0;clip: rect(1px 1px 1px 1px);clip: rect(1px, 1px, 1px, 1px);height: 1px;margin: -1px;overflow: hidden;padding: 0;position: absolute;width: 1px;}#sk-container-id-1 div.sk-estimator {font-family: monospace;background-color: #f0f8ff;border: 1px dotted black;border-radius: 0.25em;box-sizing: border-box;margin-bottom: 0.5em;}#sk-container-id-1 div.sk-estimator:hover {background-color: #d4ebff;}#sk-container-id-1 div.sk-parallel-item::after {content: \"\";width: 100%;border-bottom: 1px solid gray;flex-grow: 1;}#sk-container-id-1 div.sk-label:hover label.sk-toggleable__label {background-color: #d4ebff;}#sk-container-id-1 div.sk-serial::before {content: \"\";position: absolute;border-left: 1px solid gray;box-sizing: border-box;top: 0;bottom: 0;left: 50%;z-index: 0;}#sk-container-id-1 div.sk-serial {display: flex;flex-direction: column;align-items: center;background-color: white;padding-right: 0.2em;padding-left: 0.2em;position: relative;}#sk-container-id-1 div.sk-item {position: relative;z-index: 1;}#sk-container-id-1 div.sk-parallel {display: flex;align-items: stretch;justify-content: center;background-color: white;position: relative;}#sk-container-id-1 div.sk-item::before, #sk-container-id-1 div.sk-parallel-item::before {content: \"\";position: absolute;border-left: 1px solid gray;box-sizing: border-box;top: 0;bottom: 0;left: 50%;z-index: -1;}#sk-container-id-1 div.sk-parallel-item {display: flex;flex-direction: column;z-index: 1;position: relative;background-color: white;}#sk-container-id-1 div.sk-parallel-item:first-child::after {align-self: flex-end;width: 50%;}#sk-container-id-1 div.sk-parallel-item:last-child::after {align-self: flex-start;width: 50%;}#sk-container-id-1 div.sk-parallel-item:only-child::after {width: 0;}#sk-container-id-1 div.sk-dashed-wrapped {border: 1px dashed gray;margin: 0 0.4em 0.5em 0.4em;box-sizing: border-box;padding-bottom: 0.4em;background-color: white;}#sk-container-id-1 div.sk-label label {font-family: monospace;font-weight: bold;display: inline-block;line-height: 1.2em;}#sk-container-id-1 div.sk-label-container {text-align: center;}#sk-container-id-1 div.sk-container {/* jupyter's `normalize.less` sets `[hidden] { display: none; }` but bootstrap.min.css set `[hidden] { display: none !important; }` so we also need the `!important` here to be able to override the default hidden behavior on the sphinx rendered scikit-learn.org. See: https://github.com/scikit-learn/scikit-learn/issues/21755 */display: inline-block !important;position: relative;}#sk-container-id-1 div.sk-text-repr-fallback {display: none;}</style><div id=\"sk-container-id-1\" class=\"sk-top-container\"><div class=\"sk-text-repr-fallback\"><pre>LinearRegression()</pre><b>In a Jupyter environment, please rerun this cell to show the HTML representation or trust the notebook. <br />On GitHub, the HTML representation is unable to render, please try loading this page with nbviewer.org.</b></div><div class=\"sk-container\" hidden><div class=\"sk-item\"><div class=\"sk-estimator sk-toggleable\"><input class=\"sk-toggleable__control sk-hidden--visually\" id=\"sk-estimator-id-1\" type=\"checkbox\" checked><label for=\"sk-estimator-id-1\" class=\"sk-toggleable__label sk-toggleable__label-arrow\">LinearRegression</label><div class=\"sk-toggleable__content\"><pre>LinearRegression()</pre></div></div></div></div></div>"
            ]
          },
          "metadata": {},
          "execution_count": 10
        }
      ]
    },
    {
      "cell_type": "code",
      "source": [
        "previsao_nota = modelo.predict([[8]])\n",
        "print(previsao_nota)"
      ],
      "metadata": {
        "colab": {
          "base_uri": "https://localhost:8080/"
        },
        "id": "iPNmoqOpKoEx",
        "outputId": "b4e35812-097d-474a-8816-031f96d37e92"
      },
      "execution_count": 13,
      "outputs": [
        {
          "output_type": "stream",
          "name": "stdout",
          "text": [
            "[65.18979206]\n"
          ]
        }
      ]
    },
    {
      "cell_type": "code",
      "source": [
        "modeloLR = LogisticRegression(random_state=0)\n",
        "\n",
        "modeloLR.fit(X,y)\n",
        "\n"
      ],
      "metadata": {
        "colab": {
          "base_uri": "https://localhost:8080/",
          "height": 214
        },
        "id": "x7WpZ8NYLJeu",
        "outputId": "fbffbf85-b368-4bba-8124-6a1fd46a0e56"
      },
      "execution_count": 16,
      "outputs": [
        {
          "output_type": "stream",
          "name": "stderr",
          "text": [
            "/usr/local/lib/python3.10/dist-packages/sklearn/linear_model/_logistic.py:458: ConvergenceWarning: lbfgs failed to converge (status=1):\n",
            "STOP: TOTAL NO. of ITERATIONS REACHED LIMIT.\n",
            "\n",
            "Increase the number of iterations (max_iter) or scale the data as shown in:\n",
            "    https://scikit-learn.org/stable/modules/preprocessing.html\n",
            "Please also refer to the documentation for alternative solver options:\n",
            "    https://scikit-learn.org/stable/modules/linear_model.html#logistic-regression\n",
            "  n_iter_i = _check_optimize_result(\n"
          ]
        },
        {
          "output_type": "execute_result",
          "data": {
            "text/plain": [
              "LogisticRegression(random_state=0)"
            ],
            "text/html": [
              "<style>#sk-container-id-3 {color: black;background-color: white;}#sk-container-id-3 pre{padding: 0;}#sk-container-id-3 div.sk-toggleable {background-color: white;}#sk-container-id-3 label.sk-toggleable__label {cursor: pointer;display: block;width: 100%;margin-bottom: 0;padding: 0.3em;box-sizing: border-box;text-align: center;}#sk-container-id-3 label.sk-toggleable__label-arrow:before {content: \"▸\";float: left;margin-right: 0.25em;color: #696969;}#sk-container-id-3 label.sk-toggleable__label-arrow:hover:before {color: black;}#sk-container-id-3 div.sk-estimator:hover label.sk-toggleable__label-arrow:before {color: black;}#sk-container-id-3 div.sk-toggleable__content {max-height: 0;max-width: 0;overflow: hidden;text-align: left;background-color: #f0f8ff;}#sk-container-id-3 div.sk-toggleable__content pre {margin: 0.2em;color: black;border-radius: 0.25em;background-color: #f0f8ff;}#sk-container-id-3 input.sk-toggleable__control:checked~div.sk-toggleable__content {max-height: 200px;max-width: 100%;overflow: auto;}#sk-container-id-3 input.sk-toggleable__control:checked~label.sk-toggleable__label-arrow:before {content: \"▾\";}#sk-container-id-3 div.sk-estimator input.sk-toggleable__control:checked~label.sk-toggleable__label {background-color: #d4ebff;}#sk-container-id-3 div.sk-label input.sk-toggleable__control:checked~label.sk-toggleable__label {background-color: #d4ebff;}#sk-container-id-3 input.sk-hidden--visually {border: 0;clip: rect(1px 1px 1px 1px);clip: rect(1px, 1px, 1px, 1px);height: 1px;margin: -1px;overflow: hidden;padding: 0;position: absolute;width: 1px;}#sk-container-id-3 div.sk-estimator {font-family: monospace;background-color: #f0f8ff;border: 1px dotted black;border-radius: 0.25em;box-sizing: border-box;margin-bottom: 0.5em;}#sk-container-id-3 div.sk-estimator:hover {background-color: #d4ebff;}#sk-container-id-3 div.sk-parallel-item::after {content: \"\";width: 100%;border-bottom: 1px solid gray;flex-grow: 1;}#sk-container-id-3 div.sk-label:hover label.sk-toggleable__label {background-color: #d4ebff;}#sk-container-id-3 div.sk-serial::before {content: \"\";position: absolute;border-left: 1px solid gray;box-sizing: border-box;top: 0;bottom: 0;left: 50%;z-index: 0;}#sk-container-id-3 div.sk-serial {display: flex;flex-direction: column;align-items: center;background-color: white;padding-right: 0.2em;padding-left: 0.2em;position: relative;}#sk-container-id-3 div.sk-item {position: relative;z-index: 1;}#sk-container-id-3 div.sk-parallel {display: flex;align-items: stretch;justify-content: center;background-color: white;position: relative;}#sk-container-id-3 div.sk-item::before, #sk-container-id-3 div.sk-parallel-item::before {content: \"\";position: absolute;border-left: 1px solid gray;box-sizing: border-box;top: 0;bottom: 0;left: 50%;z-index: -1;}#sk-container-id-3 div.sk-parallel-item {display: flex;flex-direction: column;z-index: 1;position: relative;background-color: white;}#sk-container-id-3 div.sk-parallel-item:first-child::after {align-self: flex-end;width: 50%;}#sk-container-id-3 div.sk-parallel-item:last-child::after {align-self: flex-start;width: 50%;}#sk-container-id-3 div.sk-parallel-item:only-child::after {width: 0;}#sk-container-id-3 div.sk-dashed-wrapped {border: 1px dashed gray;margin: 0 0.4em 0.5em 0.4em;box-sizing: border-box;padding-bottom: 0.4em;background-color: white;}#sk-container-id-3 div.sk-label label {font-family: monospace;font-weight: bold;display: inline-block;line-height: 1.2em;}#sk-container-id-3 div.sk-label-container {text-align: center;}#sk-container-id-3 div.sk-container {/* jupyter's `normalize.less` sets `[hidden] { display: none; }` but bootstrap.min.css set `[hidden] { display: none !important; }` so we also need the `!important` here to be able to override the default hidden behavior on the sphinx rendered scikit-learn.org. See: https://github.com/scikit-learn/scikit-learn/issues/21755 */display: inline-block !important;position: relative;}#sk-container-id-3 div.sk-text-repr-fallback {display: none;}</style><div id=\"sk-container-id-3\" class=\"sk-top-container\"><div class=\"sk-text-repr-fallback\"><pre>LogisticRegression(random_state=0)</pre><b>In a Jupyter environment, please rerun this cell to show the HTML representation or trust the notebook. <br />On GitHub, the HTML representation is unable to render, please try loading this page with nbviewer.org.</b></div><div class=\"sk-container\" hidden><div class=\"sk-item\"><div class=\"sk-estimator sk-toggleable\"><input class=\"sk-toggleable__control sk-hidden--visually\" id=\"sk-estimator-id-3\" type=\"checkbox\" checked><label for=\"sk-estimator-id-3\" class=\"sk-toggleable__label sk-toggleable__label-arrow\">LogisticRegression</label><div class=\"sk-toggleable__content\"><pre>LogisticRegression(random_state=0)</pre></div></div></div></div></div>"
            ]
          },
          "metadata": {},
          "execution_count": 16
        }
      ]
    },
    {
      "cell_type": "code",
      "source": [
        "previsao_nota = modeloLR.predict([[8]])\n",
        "print(previsao_nota)"
      ],
      "metadata": {
        "colab": {
          "base_uri": "https://localhost:8080/"
        },
        "id": "3w6vbJjLLYsi",
        "outputId": "cfc876dc-3dd5-4f7d-ec0a-adef1c7d9aed"
      },
      "execution_count": 17,
      "outputs": [
        {
          "output_type": "stream",
          "name": "stdout",
          "text": [
            "[43]\n"
          ]
        }
      ]
    }
  ]
}