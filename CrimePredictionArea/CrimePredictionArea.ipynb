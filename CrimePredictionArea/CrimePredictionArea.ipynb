{
 "cells": [
  {
   "cell_type": "code",
   "execution_count": 1,
   "metadata": {},
   "outputs": [],
   "source": [
    "import pandas as pd\n",
    "\n",
    "# Carregando o dataset\n",
    "data = pd.read_csv('Crime_Data_from_2020_to_Present.csv')\n"
   ]
  },
  {
   "cell_type": "markdown",
   "metadata": {},
   "source": [
    "Criar as Colunas de Ano, Mês e Dia"
   ]
  },
  {
   "cell_type": "code",
   "execution_count": 2,
   "metadata": {},
   "outputs": [],
   "source": [
    "data['year'] = data['DATE OCC'].str.split(' ').str[0].str.split('/').str[2].astype(int)\n",
    "data['month'] = data['DATE OCC'].str.split(' ').str[0].str.split('/').str[1].astype(int)\n",
    "data['day'] = data['DATE OCC'].str.split(' ').str[0].str.split('/').str[0].astype(int)\n"
   ]
  },
  {
   "cell_type": "markdown",
   "metadata": {},
   "source": [
    "Agrupar os Dados para contar a ocorrência de crimes por área, mês e ano"
   ]
  },
  {
   "cell_type": "code",
   "execution_count": 4,
   "metadata": {},
   "outputs": [],
   "source": [
    "data_process = data.groupby(['AREA', 'month', 'year'])['AREA'].count().reset_index(name='counts')\n",
    "data_process.sort_values(by=['AREA', 'year', 'month'], inplace=True)\n"
   ]
  },
  {
   "cell_type": "markdown",
   "metadata": {},
   "source": [
    "Modelo 1: Mês e Ano Discretizados, como variáveis de entrada."
   ]
  },
  {
   "cell_type": "code",
   "execution_count": 5,
   "metadata": {},
   "outputs": [
    {
     "name": "stdout",
     "output_type": "stream",
     "text": [
      "MSE Modelo 1: 5015.715365783411\n"
     ]
    }
   ],
   "source": [
    "from sklearn.model_selection import train_test_split\n",
    "from sklearn.linear_model import LinearRegression\n",
    "from sklearn.metrics import mean_squared_error\n",
    "\n",
    "# Discretização de ano e mês\n",
    "data_process['month'] = data_process['month'].astype('category')\n",
    "data_process['year'] = data_process['year'].astype('category')\n",
    "\n",
    "# Criar variáveis dummy para 'month' e 'year'\n",
    "data_dummies = pd.get_dummies(data_process, columns=['month', 'year'])\n",
    "\n",
    "# Dividir os dados\n",
    "X = data_dummies.drop(['counts', 'AREA'], axis=1)\n",
    "y = data_dummies['counts']\n",
    "\n",
    "X_train, X_test, y_train, y_test = train_test_split(X, y, test_size=0.2, random_state=42)\n",
    "\n",
    "# Criar e treinar o modelo\n",
    "model1 = LinearRegression()\n",
    "model1.fit(X_train, y_train)\n",
    "\n",
    "# Fazer previsões\n",
    "y_pred1 = model1.predict(X_test)\n",
    "\n",
    "# Avaliar o modelo\n",
    "mse1 = mean_squared_error(y_test, y_pred1)\n",
    "print(f'MSE Modelo 1: {mse1}')\n"
   ]
  },
  {
   "cell_type": "markdown",
   "metadata": {},
   "source": [
    "Modelo 2: Mês e Ano Discretizados Trigonometricamente"
   ]
  },
  {
   "cell_type": "code",
   "execution_count": 7,
   "metadata": {},
   "outputs": [
    {
     "name": "stdout",
     "output_type": "stream",
     "text": [
      "MSE Modelo 2: 5667.112080007615\n"
     ]
    }
   ],
   "source": [
    "import numpy as np\n",
    "\n",
    "# Certifique-se de que as colunas 'month' e 'year' são do tipo inteiro\n",
    "data_process['month'] = data_process['month'].astype(int)\n",
    "data_process['year'] = data_process['year'].astype(int)\n",
    "\n",
    "# Transformação trigonométrica\n",
    "data_process['month_sin'] = np.sin(2 * np.pi * data_process['month'] / 12)\n",
    "data_process['month_cos'] = np.cos(2 * np.pi * data_process['month'] / 12)\n",
    "data_process['year_sin'] = np.sin(2 * np.pi * (data_process['year'] - data_process['year'].min()) / (data_process['year'].max() - data_process['year'].min()))\n",
    "data_process['year_cos'] = np.cos(2 * np.pi * (data_process['year'] - data_process['year'].min()) / (data_process['year'].max() - data_process['year'].min()))\n",
    "\n",
    "# Criar variáveis dummy para 'AREA'\n",
    "data_dummies2 = pd.get_dummies(data_process, columns=['AREA'])\n",
    "\n",
    "# Dividir os dados\n",
    "X2 = data_dummies2[['month_sin', 'month_cos', 'year_sin', 'year_cos'] + [col for col in data_dummies2.columns if 'AREA_' in col]]\n",
    "y2 = data_dummies2['counts']\n",
    "\n",
    "X_train2, X_test2, y_train2, y_test2 = train_test_split(X2, y2, test_size=0.2, random_state=42)\n",
    "\n",
    "# Criar e treinar o modelo\n",
    "model2 = LinearRegression()\n",
    "model2.fit(X_train2, y_train2)\n",
    "\n",
    "# Fazer previsões\n",
    "y_pred2 = model2.predict(X_test2)\n",
    "\n",
    "# Avaliar o modelo\n",
    "mse2 = mean_squared_error(y_test2, y_pred2)\n",
    "print(f'MSE Modelo 2: {mse2}')\n"
   ]
  },
  {
   "cell_type": "markdown",
   "metadata": {},
   "source": [
    "Janelamento para 3 Meses\n",
    "Para o modelo de janelamento, você deve criar um dataframe para cada área e considerar apenas as contagens dos 3 meses anteriores."
   ]
  },
  {
   "cell_type": "code",
   "execution_count": 8,
   "metadata": {},
   "outputs": [
    {
     "name": "stdout",
     "output_type": "stream",
     "text": [
      "MSE Modelo 3: 1964.7047244653306\n"
     ]
    },
    {
     "name": "stderr",
     "output_type": "stream",
     "text": [
      "/tmp/ipykernel_60890/140604492.py:8: DeprecationWarning: DataFrameGroupBy.apply operated on the grouping columns. This behavior is deprecated, and in a future version of pandas the grouping columns will be excluded from the operation. Either pass `include_groups=False` to exclude the groupings or explicitly select the grouping columns after groupby to silence this warning.\n",
      "  data_lagged = data_process.groupby('AREA').apply(create_lagged_features).reset_index(drop=True)\n"
     ]
    }
   ],
   "source": [
    "# Função para criar o janelamento\n",
    "def create_lagged_features(df):\n",
    "    for i in range(1, 4):\n",
    "        df[f'counts_lag_{i}'] = df['counts'].shift(i)\n",
    "    return df\n",
    "\n",
    "# Criar janelas para cada área\n",
    "data_lagged = data_process.groupby('AREA').apply(create_lagged_features).reset_index(drop=True)\n",
    "\n",
    "# Remover valores nulos resultantes do janelamento\n",
    "data_lagged.dropna(inplace=True)\n",
    "\n",
    "# Dividir os dados\n",
    "X3 = data_lagged[[f'counts_lag_{i}' for i in range(1, 4)] + ['month', 'year']]\n",
    "y3 = data_lagged['counts']\n",
    "\n",
    "X_train3, X_test3, y_train3, y_test3 = train_test_split(X3, y3, test_size=0.2, random_state=42)\n",
    "\n",
    "# Criar e treinar o modelo\n",
    "model3 = LinearRegression()\n",
    "model3.fit(X_train3, y_train3)\n",
    "\n",
    "# Fazer previsões\n",
    "y_pred3 = model3.predict(X_test3)\n",
    "\n",
    "# Avaliar o modelo\n",
    "mse3 = mean_squared_error(y_test3, y_pred3)\n",
    "print(f'MSE Modelo 3: {mse3}')\n"
   ]
  },
  {
   "cell_type": "markdown",
   "metadata": {},
   "source": [
    "Comparar os Modelos"
   ]
  },
  {
   "cell_type": "code",
   "execution_count": 9,
   "metadata": {},
   "outputs": [
    {
     "name": "stdout",
     "output_type": "stream",
     "text": [
      "MSE Modelo 1: 5015.715365783411\n",
      "MSE Modelo 2: 5667.112080007615\n",
      "MSE Modelo 3: 1964.7047244653306\n",
      "Modelo 3 teve o melhor desempenho.\n"
     ]
    }
   ],
   "source": [
    "print(f'MSE Modelo 1: {mse1}')\n",
    "print(f'MSE Modelo 2: {mse2}')\n",
    "print(f'MSE Modelo 3: {mse3}')\n",
    "\n",
    "# Avaliação final\n",
    "if mse1 < mse2 and mse1 < mse3:\n",
    "    print(\"Modelo 1 teve o melhor desempenho.\")\n",
    "elif mse2 < mse1 and mse2 < mse3:\n",
    "    print(\"Modelo 2 teve o melhor desempenho.\")\n",
    "else:\n",
    "    print(\"Modelo 3 teve o melhor desempenho.\")\n"
   ]
  }
 ],
 "metadata": {
  "kernelspec": {
   "display_name": "ManchineLearning",
   "language": "python",
   "name": "python3"
  },
  "language_info": {
   "codemirror_mode": {
    "name": "ipython",
    "version": 3
   },
   "file_extension": ".py",
   "mimetype": "text/x-python",
   "name": "python",
   "nbconvert_exporter": "python",
   "pygments_lexer": "ipython3",
   "version": "3.9.18"
  }
 },
 "nbformat": 4,
 "nbformat_minor": 2
}
